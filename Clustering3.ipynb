{
  "cells": [
    {
      "cell_type": "code",
      "execution_count": 15,
      "metadata": {
        "colab": {
          "base_uri": "https://localhost:8080/"
        },
        "id": "iat_mX14qEJh",
        "outputId": "67374888-dea1-4d65-82a0-54adfde64c5f"
      },
      "outputs": [
        {
          "name": "stdout",
          "output_type": "stream",
          "text": [
            "OPENAI_API_KEY set in this kernel (not saved to disk).\n"
          ]
        }
      ],
      "source": [
        "# Securely prompt for OpenAI API key (won't be saved in the notebook file)\n",
        "import getpass\n",
        "import os\n",
        "key = getpass.getpass(\"Enter your OpenAI API key (input hidden): \")\n",
        "if key:\n",
        "    os.environ[\"OPENAI_API_KEY\"] = key\n",
        "    print(\"OPENAI_API_KEY set in this kernel (not saved to disk).\")\n",
        "else:\n",
        "    print(\"No key entered; OPENAI_API_KEY not set.\")"
      ]
    },
    {
      "cell_type": "code",
      "execution_count": 16,
      "metadata": {
        "colab": {
          "base_uri": "https://localhost:8080/"
        },
        "id": "TKbhSWwUqVcW",
        "outputId": "60add442-511b-4fbc-f38d-a62cedcb65e2"
      },
      "outputs": [],
      "source": [
        "import pandas as pd\n",
        "import openai\n",
        "import numpy as np\n",
        "from sklearn.decomposition import PCA\n",
        "import umap\n",
        "import hdbscan\n",
        "import plotly.express as px"
      ]
    },
    {
      "cell_type": "code",
      "execution_count": 17,
      "metadata": {
        "id": "jUwhCgCvKEXg"
      },
      "outputs": [],
      "source": [
        "# Resilient embeddings helper\n",
        "import time\n",
        "import random\n",
        "import hashlib\n",
        "import json\n",
        "import os"
      ]
    },
    {
      "cell_type": "code",
      "execution_count": 18,
      "metadata": {
        "id": "I-b1gincKFrX"
      },
      "outputs": [],
      "source": [
        "# Load CSV\n",
        "df = pd.read_csv(\"complete_list.csv\", delimiter=';')\n",
        "definitions = df['gesture_definition'].fillna('').tolist()"
      ]
    },
    {
      "cell_type": "code",
      "execution_count": 19,
      "metadata": {
        "id": "d2JmRFU1KIRp"
      },
      "outputs": [],
      "source": [
        "# OpenAI client import (works with new and older SDKs)\n",
        "import os\n",
        "from openai import OpenAI\n",
        "# Try to import SDK-specific exception classes, but fall back if not present.\n",
        "try:\n",
        "    from openai.error import RateLimitError, OpenAIError  # modern SDK\n",
        "except Exception:\n",
        "    # Fallback placeholders so code can still check exception types by name/str\n",
        "    class RateLimitError(Exception):\n",
        "        pass\n",
        "    class OpenAIError(Exception):\n",
        "        pass\n",
        "\n",
        "# --- CONFIG ---\n",
        "CACHE_FILE = \"embeddings_cache.json\"   # local cache file\n",
        "BATCH_SIZE = 8                          # number of texts per API call (tune down if you see rate limits)\n",
        "SLEEP_BETWEEN_BATCHES = 0.5             # seconds between batches\n",
        "MAX_RETRIES = 6\n",
        "MODEL_NAME = \"text-embedding-ada-002\"   # keep existing model or change per your account\n",
        "\n",
        "# Load or init cache\n",
        "if os.path.exists(CACHE_FILE):\n",
        "    try:\n",
        "        with open(CACHE_FILE, \"r\", encoding=\"utf-8\") as f:\n",
        "            embedding_cache = json.load(f)\n",
        "    except Exception:\n",
        "        embedding_cache = {}\n",
        "else:\n",
        "    embedding_cache = {}\n",
        "\n",
        "def _cache_key(text):\n",
        "    # deterministic small key for caching\n",
        "    return hashlib.sha256(text.encode(\"utf-8\")).hexdigest()\n",
        "\n",
        "def save_cache():\n",
        "    with open(CACHE_FILE + \".tmp\", \"w\", encoding=\"utf-8\") as f:\n",
        "        json.dump(embedding_cache, f)\n",
        "    os.replace(CACHE_FILE + \".tmp\", CACHE_FILE)\n",
        "\n",
        "def create_client_from_env():\n",
        "    # prefer picking key from env var OPENAI_API_KEY for security\n",
        "    return OpenAI()  # uses env var by default; adapt if you set api_key explicitly\n",
        "\n",
        "def _is_insufficient_quota(exc):\n",
        "    # Inspect exception text/response to detect insufficient quota; return True if quota problem\n",
        "    try:\n",
        "        txt = str(exc).lower()\n",
        "        if \"insufficient_quota\" in txt or \"quota\" in txt:\n",
        "            return True\n",
        "        # some SDK responses include a response dict with details\n",
        "        if hasattr(exc, 'response') and exc.response is not None:\n",
        "            try:\n",
        "                # if response has a .data or .text attribute, convert to str\n",
        "                resp_txt = str(exc.response).lower()\n",
        "                if \"insufficient_quota\" in resp_txt or \"quota\" in resp_txt:\n",
        "                    return True\n",
        "            except Exception:\n",
        "                pass\n",
        "    except Exception:\n",
        "        pass\n",
        "    return False\n",
        "\n",
        "\n",
        "def get_embedding_with_retry(client, text, model=MODEL_NAME, max_retries=MAX_RETRIES):\n",
        "    last_exc = None\n",
        "    for attempt in range(max_retries):\n",
        "        try:\n",
        "            resp = client.embeddings.create(input=[text], model=model)\n",
        "            return resp.data[0].embedding\n",
        "        except RateLimitError as e:\n",
        "            # If the error indicates insufficient quota, abort immediately so caller can fallback.\n",
        "            if _is_insufficient_quota(e):\n",
        "                # re-raise so higher level can detect and fallback\n",
        "                raise\n",
        "            last_exc = e\n",
        "            wait = (2 ** attempt) + random.random()\n",
        "            print(f\"RateLimitError (attempt {attempt+1}/{max_retries}). Retrying in {wait:.1f}s...\")\n",
        "            time.sleep(wait)\n",
        "        except OpenAIError as e:\n",
        "            # explicit SDK-level error (e.g. insufficient_quota)\n",
        "            print(\"OpenAI API error:\", e)\n",
        "            # If insufficient_quota, abort early — do not keep retrying\n",
        "            if _is_insufficient_quota(e):\n",
        "                raise\n",
        "            # otherwise re-raise (caller may decide to retry or fallback)\n",
        "            raise\n",
        "        except Exception as e:\n",
        "            # Generic fallback for SDK differences (inspects message/code)\n",
        "            last_exc = e\n",
        "            if _is_insufficient_quota(e):\n",
        "                # immediately surface quota issues so caller can fallback\n",
        "                raise\n",
        "            # treat other errors as possibly transient\n",
        "            print(\"Unexpected error calling embeddings (will retry):\", e)\n",
        "            time.sleep((2 ** attempt) + random.random())\n",
        "    raise RuntimeError(\"Max retries exceeded\") from last_exc\n",
        "\n",
        "def batch_get_embeddings(texts, client=None, batch_size=BATCH_SIZE, throttle=SLEEP_BETWEEN_BATCHES):\n",
        "    if client is None:\n",
        "        client = create_client_from_env()\n",
        "    embeddings = []\n",
        "    for i in range(0, len(texts), batch_size):\n",
        "        batch = texts[i:i+batch_size]\n",
        "        # check cache first\n",
        "        batch_emb = []\n",
        "        to_request = []\n",
        "        to_request_idx = []\n",
        "        for j, t in enumerate(batch):\n",
        "            key = _cache_key(t)\n",
        "            if key in embedding_cache:\n",
        "                batch_emb.append(embedding_cache[key])\n",
        "            else:\n",
        "                batch_emb.append(None)\n",
        "                to_request.append(t)\n",
        "                to_request_idx.append(j)\n",
        "        # request missing embeddings in small sub-batches (1 by 1 or grouped)\n",
        "        if to_request:\n",
        "            # We'll request individually with retry to get clearer error handling:\n",
        "            for idx, text in zip(to_request_idx, to_request):\n",
        "                try:\n",
        "                    emb = get_embedding_with_retry(client, text)\n",
        "                except OpenAIError as e:\n",
        "                    # If quota problems, re-raise so outer code can fallback\n",
        "                    if _is_insufficient_quota(e):\n",
        "                        raise\n",
        "                    else:\n",
        "                        raise\n",
        "                embedding_cache[_cache_key(text)] = emb\n",
        "                batch_emb[idx] = emb\n",
        "            save_cache()\n",
        "        embeddings.extend(batch_emb)\n",
        "        time.sleep(throttle)\n",
        "    return embeddings\n",
        "\n",
        "# Optional local fallback (sentence-transformers):\n",
        "def local_fallback_embeddings(texts, model_name=\"all-MiniLM-L6-v2\"):\n",
        "    try:\n",
        "        from sentence_transformers import SentenceTransformer\n",
        "    except Exception as e:\n",
        "        raise RuntimeError(\"sentence-transformers not installed. Install it with: pip install sentence-transformers\") from e\n",
        "    m = SentenceTransformer(model_name)\n",
        "    return m.encode(texts, show_progress_bar=False).tolist()\n",
        "\n",
        "\n",
        "# Note: do not create the client here automatically when editing — caller will create and call batch_get_embeddings"
      ]
    },
    {
      "cell_type": "code",
      "execution_count": 20,
      "metadata": {
        "colab": {
          "base_uri": "https://localhost:8080/"
        },
        "id": "tAiTHu5EKKA6",
        "outputId": "5a7ad67c-734a-4cec-b883-cfcc78912a2f"
      },
      "outputs": [
        {
          "data": {
            "text/plain": [
              "{'cell_type': 'code',\n",
              " 'metadata': {'language': 'python'},\n",
              " 'source': ['client = create_client_from_env()',\n",
              "  'try:',\n",
              "  ' embeddings = batch_get_embeddings(definitions, client=client)',\n",
              "  'except Exception as e:',\n",
              "  \" print('API embeddings failed (likely quota). Falling back to local model:', e)\",\n",
              "  ' embeddings = local_fallback_embeddings(definitions)']}"
            ]
          },
          "execution_count": 20,
          "metadata": {},
          "output_type": "execute_result"
        }
      ],
      "source": [
        "{\n",
        "\"cell_type\":\"code\",\n",
        "\"metadata\":{\"language\":\"python\"},\n",
        "\"source\":[\n",
        "\"client = create_client_from_env()\",\n",
        "\"try:\",\n",
        "\" embeddings = batch_get_embeddings(definitions, client=client)\",\n",
        "\"except Exception as e:\",\n",
        "\" print('API embeddings failed (likely quota). Falling back to local model:', e)\",\n",
        "\" embeddings = local_fallback_embeddings(definitions)\"\n",
        "]\n",
        "}"
      ]
    },
    {
      "cell_type": "code",
      "execution_count": 21,
      "metadata": {
        "id": "35u9JUlLKLvn"
      },
      "outputs": [],
      "source": [
        "from sklearn.feature_extraction.text import TfidfVectorizer\n",
        "from sklearn.decomposition import TruncatedSVD\n",
        "from sklearn.preprocessing import normalize\n",
        "\n",
        "def local_fallback_embeddings(texts, n_components=384):  # Match OpenAI embedding dimension\n",
        "    \"\"\"Generate embeddings locally using TF-IDF + SVD.\"\"\"\n",
        "    # Convert texts to list if single string\n",
        "    if isinstance(texts, str):\n",
        "        texts = [texts]\n",
        "    elif isinstance(texts, dict):\n",
        "        texts = [item['text'] for item in texts]\n",
        "\n",
        "    # Create embeddings using TF-IDF followed by dimensionality reduction\n",
        "    vectorizer = TfidfVectorizer(stop_words='english')\n",
        "    tfidf_matrix = vectorizer.fit_transform(texts)\n",
        "\n",
        "    # Reduce to desired dimensionality (similar to sentence transformers)\n",
        "    svd = TruncatedSVD(n_components=n_components)\n",
        "    embeddings = svd.fit_transform(tfidf_matrix)\n",
        "\n",
        "    return embeddings"
      ]
    },
    {
      "cell_type": "code",
      "execution_count": 22,
      "metadata": {
        "colab": {
          "base_uri": "https://localhost:8080/"
        },
        "id": "0zNKrxkJKNu6",
        "outputId": "7c245396-e05f-40f9-c058-d114383ff8ac"
      },
      "outputs": [
        {
          "name": "stdout",
          "output_type": "stream",
          "text": [
            "\u001b[31mERROR: Could not find a version that satisfies the requirement torch==2.1.1 (from versions: none)\u001b[0m\u001b[31m\n",
            "\u001b[0m\u001b[31mERROR: No matching distribution found for torch==2.1.1\u001b[0m\u001b[31m\n",
            "\u001b[0mRequirement already satisfied: sentence-transformers==2.2.2 in /opt/miniconda3/lib/python3.13/site-packages (2.2.2)\n",
            "Requirement already satisfied: transformers in /opt/miniconda3/lib/python3.13/site-packages (4.57.1)\n",
            "Requirement already satisfied: tqdm in /opt/miniconda3/lib/python3.13/site-packages (4.67.1)\n",
            "Requirement already satisfied: numpy in /opt/miniconda3/lib/python3.13/site-packages (2.2.6)\n",
            "Requirement already satisfied: scikit-learn in /opt/miniconda3/lib/python3.13/site-packages (1.7.2)\n",
            "Requirement already satisfied: filelock in /opt/miniconda3/lib/python3.13/site-packages (from transformers) (3.20.0)\n",
            "Requirement already satisfied: huggingface-hub<1.0,>=0.34.0 in /opt/miniconda3/lib/python3.13/site-packages (from transformers) (0.36.0)\n",
            "Requirement already satisfied: packaging>=20.0 in /opt/miniconda3/lib/python3.13/site-packages (from transformers) (25.0)\n",
            "Requirement already satisfied: pyyaml>=5.1 in /opt/miniconda3/lib/python3.13/site-packages (from transformers) (6.0.3)\n",
            "Requirement already satisfied: regex!=2019.12.17 in /opt/miniconda3/lib/python3.13/site-packages (from transformers) (2025.10.23)\n",
            "Requirement already satisfied: requests in /opt/miniconda3/lib/python3.13/site-packages (from transformers) (2.32.4)\n",
            "Requirement already satisfied: tokenizers<=0.23.0,>=0.22.0 in /opt/miniconda3/lib/python3.13/site-packages (from transformers) (0.22.1)\n",
            "Requirement already satisfied: safetensors>=0.4.3 in /opt/miniconda3/lib/python3.13/site-packages (from transformers) (0.6.2)\n",
            "Requirement already satisfied: fsspec>=2023.5.0 in /opt/miniconda3/lib/python3.13/site-packages (from huggingface-hub<1.0,>=0.34.0->transformers) (2025.7.0)\n",
            "Requirement already satisfied: hf-xet<2.0.0,>=1.1.3 in /opt/miniconda3/lib/python3.13/site-packages (from huggingface-hub<1.0,>=0.34.0->transformers) (1.2.0)\n",
            "Requirement already satisfied: typing-extensions>=3.7.4.3 in /opt/miniconda3/lib/python3.13/site-packages (from huggingface-hub<1.0,>=0.34.0->transformers) (4.12.2)\n",
            "Requirement already satisfied: scipy>=1.8.0 in /opt/miniconda3/lib/python3.13/site-packages (from scikit-learn) (1.16.0)\n",
            "Requirement already satisfied: joblib>=1.2.0 in /opt/miniconda3/lib/python3.13/site-packages (from scikit-learn) (1.5.2)\n",
            "Requirement already satisfied: threadpoolctl>=3.1.0 in /opt/miniconda3/lib/python3.13/site-packages (from scikit-learn) (3.6.0)\n",
            "Requirement already satisfied: charset_normalizer<4,>=2 in /opt/miniconda3/lib/python3.13/site-packages (from requests->transformers) (3.3.2)\n",
            "Requirement already satisfied: idna<4,>=2.5 in /opt/miniconda3/lib/python3.13/site-packages (from requests->transformers) (3.7)\n",
            "Requirement already satisfied: urllib3<3,>=1.21.1 in /opt/miniconda3/lib/python3.13/site-packages (from requests->transformers) (2.5.0)\n",
            "Requirement already satisfied: certifi>=2017.4.17 in /opt/miniconda3/lib/python3.13/site-packages (from requests->transformers) (2025.10.5)\n"
          ]
        }
      ],
      "source": [
        "# Install required packages\n",
        "import sys\n",
        "!pip install --no-deps torch==2.1.1\n",
        "!pip install --no-deps sentence-transformers==2.2.2\n",
        "!pip install transformers tqdm numpy scikit-learn"
      ]
    },
    {
      "cell_type": "code",
      "execution_count": 23,
      "metadata": {
        "id": "xewul-2nKPtP"
      },
      "outputs": [],
      "source": [
        "# Generate embeddings using batch helper with fallback\n",
        "client = create_client_from_env()\n",
        "try:\n",
        "    embeddings = batch_get_embeddings(definitions, client=client)\n",
        "except Exception as e:\n",
        "    print('API embeddings failed. Falling back to local model:', e)\n",
        "    embeddings = local_fallback_embeddings(definitions)"
      ]
    },
    {
      "cell_type": "code",
      "execution_count": 24,
      "metadata": {
        "colab": {
          "base_uri": "https://localhost:8080/"
        },
        "id": "tK0v8sT_KRUJ",
        "outputId": "e4d43fdc-c26a-4958-a078-135da08c171f"
      },
      "outputs": [
        {
          "name": "stderr",
          "output_type": "stream",
          "text": [
            "/Library/Frameworks/Python.framework/Versions/3.13/lib/python3.13/site-packages/umap/umap_.py:1952: UserWarning:\n",
            "\n",
            "n_jobs value 1 overridden to 1 by setting random_state. Use no seed for parallelism.\n",
            "\n"
          ]
        }
      ],
      "source": [
        "# Dimensionality reduction\n",
        "reducer = umap.UMAP(n_components=2, random_state=42)\n",
        "embedding_2d = reducer.fit_transform(embeddings)"
      ]
    },
    {
      "cell_type": "code",
      "execution_count": 25,
      "metadata": {
        "colab": {
          "base_uri": "https://localhost:8080/"
        },
        "id": "KQlshHi_KSzg",
        "outputId": "379f9819-b87d-4009-f2ac-2c2d10c8125a"
      },
      "outputs": [
        {
          "name": "stderr",
          "output_type": "stream",
          "text": [
            "/Library/Frameworks/Python.framework/Versions/3.13/lib/python3.13/site-packages/sklearn/utils/deprecation.py:132: FutureWarning:\n",
            "\n",
            "'force_all_finite' was renamed to 'ensure_all_finite' in 1.6 and will be removed in 1.8.\n",
            "\n",
            "/Library/Frameworks/Python.framework/Versions/3.13/lib/python3.13/site-packages/sklearn/utils/deprecation.py:132: FutureWarning:\n",
            "\n",
            "'force_all_finite' was renamed to 'ensure_all_finite' in 1.6 and will be removed in 1.8.\n",
            "\n"
          ]
        }
      ],
      "source": [
        "\n",
        "import hdbscan\n",
        "\n",
        "X_norm = normalize(embeddings)\n",
        "\n",
        "# Clustering\n",
        "clusterer = hdbscan.HDBSCAN(min_cluster_size=2, min_samples=1, metric='euclidean')\n",
        "labels = clusterer.fit_predict(X_norm)\n",
        "\n",
        "\n",
        "# X_norm = normalize(embedding_2d)   # normalize to unit length"
      ]
    },
    {
      "cell_type": "code",
      "execution_count": 26,
      "metadata": {
        "colab": {
          "base_uri": "https://localhost:8080/",
          "height": 542
        },
        "id": "jAmqfCLqKUZU",
        "outputId": "c6cac21a-38b7-44e7-fe82-e97ee18a3740"
      },
      "outputs": [
        {
          "data": {
            "application/vnd.plotly.v1+json": {
              "config": {
                "plotlyServerURL": "https://plot.ly"
              },
              "data": [
                {
                  "customdata": [
                    [
                      "Blunt dissect"
                    ],
                    [
                      "Cauterize"
                    ]
                  ],
                  "hovertemplate": "color=7<br>x=%{x}<br>y=%{y}<br>gesture_name=%{customdata[0]}<extra></extra>",
                  "legendgroup": "7",
                  "marker": {
                    "color": "#636efa",
                    "symbol": "circle"
                  },
                  "mode": "markers",
                  "name": "7",
                  "orientation": "v",
                  "showlegend": true,
                  "type": "scatter",
                  "x": {
                    "bdata": "vAEWQYVYFkE=",
                    "dtype": "f4"
                  },
                  "xaxis": "x",
                  "y": {
                    "bdata": "HJJYQJ8RWEA=",
                    "dtype": "f4"
                  },
                  "yaxis": "y"
                },
                {
                  "customdata": [
                    [
                      "Blunt dissection"
                    ],
                    [
                      "Burn dissect"
                    ],
                    [
                      "Cutting (high frequency)"
                    ],
                    [
                      "Dissection (thermal)"
                    ],
                    [
                      "Hook"
                    ],
                    [
                      "Hook dissection"
                    ],
                    [
                      "Hot cut"
                    ],
                    [
                      "Inefficient hook"
                    ]
                  ],
                  "hovertemplate": "color=25<br>x=%{x}<br>y=%{y}<br>gesture_name=%{customdata[0]}<extra></extra>",
                  "legendgroup": "25",
                  "marker": {
                    "color": "#EF553B",
                    "symbol": "circle"
                  },
                  "mode": "markers",
                  "name": "25",
                  "orientation": "v",
                  "showlegend": true,
                  "type": "scatter",
                  "x": {
                    "bdata": "moTgQCne10B3i9FAEmTOQBNl00D56d1AKcbYQBHh5EA=",
                    "dtype": "f4"
                  },
                  "xaxis": "x",
                  "y": {
                    "bdata": "LQyKQJQ+mEA+H5NAHCycQB8Xk0DVEZVA8+GdQHJFm0A=",
                    "dtype": "f4"
                  },
                  "yaxis": "y"
                },
                {
                  "customdata": [
                    [
                      "Cold cut"
                    ],
                    [
                      "Cutting"
                    ],
                    [
                      "Dissection"
                    ],
                    [
                      "Dissection (blunt)"
                    ],
                    [
                      "Pedicalize"
                    ],
                    [
                      "Peel"
                    ],
                    [
                      "Regular Dissection"
                    ],
                    [
                      "Spread"
                    ],
                    [
                      "Two-hand spread"
                    ],
                    [
                      "Bleeding"
                    ],
                    [
                      "Clipping"
                    ],
                    [
                      "Coagulate"
                    ],
                    [
                      "Coagulate then cut"
                    ],
                    [
                      "Coagulation"
                    ],
                    [
                      "Stapling"
                    ],
                    [
                      "Adjustment gesture"
                    ],
                    [
                      "Camera move"
                    ],
                    [
                      "Collaboration"
                    ],
                    [
                      "Exchange"
                    ],
                    [
                      "Get together"
                    ],
                    [
                      "Inermaneuver segment"
                    ],
                    [
                      "Injection"
                    ],
                    [
                      "Align and grasp"
                    ],
                    [
                      "Align and place"
                    ],
                    [
                      "Aspiration"
                    ],
                    [
                      "Clamp"
                    ],
                    [
                      "Grasping anatomy"
                    ],
                    [
                      "Inefficient grasp"
                    ],
                    [
                      "Irrigate"
                    ],
                    [
                      "Penetrating countertissue"
                    ],
                    [
                      "Penetrating tissue"
                    ],
                    [
                      "Suction"
                    ],
                    [
                      "Touch"
                    ],
                    [
                      "0's"
                    ],
                    [
                      "Approach pole"
                    ],
                    [
                      "Avoidable delay"
                    ],
                    [
                      "End of trial"
                    ],
                    [
                      "Lift peg"
                    ],
                    [
                      "Marking"
                    ],
                    [
                      "Place"
                    ],
                    [
                      "Put"
                    ],
                    [
                      "Stick"
                    ],
                    [
                      "Transfer peg - together"
                    ],
                    [
                      "Backhand under -> over"
                    ],
                    [
                      "Driving smoothness"
                    ],
                    [
                      "Dropping suture at end and moving to end points"
                    ],
                    [
                      "Extracting suture from tissue with left hand"
                    ],
                    [
                      "Flush hand over - Left"
                    ],
                    [
                      "Flush hand under - Right"
                    ],
                    [
                      "Forehand over - Right"
                    ],
                    [
                      "Forehand over -> Under"
                    ],
                    [
                      "Forehand under - Left"
                    ],
                    [
                      "Grab needle"
                    ],
                    [
                      "Grab suture"
                    ],
                    [
                      "Grab suture-tail"
                    ],
                    [
                      "Grab – Pull - Run"
                    ],
                    [
                      "Grasping the needle"
                    ],
                    [
                      "Indirectly rotate"
                    ],
                    [
                      "Knot tie (Double/Single loop)"
                    ],
                    [
                      "Knot-Tying"
                    ],
                    [
                      "Looping the suture around a needle driver to make a knot"
                    ],
                    [
                      "Making C loop around right hand"
                    ],
                    [
                      "Making C-loop around right grasper"
                    ],
                    [
                      "Moving to center of workspace with needle in grip"
                    ],
                    [
                      "Moving to center with needle in grip"
                    ],
                    [
                      "Moving to end points"
                    ],
                    [
                      "Needle driving"
                    ],
                    [
                      "Needle entry angle"
                    ],
                    [
                      "Needle handling"
                    ],
                    [
                      "Needle hold angle"
                    ],
                    [
                      "Needle puncture"
                    ],
                    [
                      "One loop knot"
                    ],
                    [
                      "Picking up the needle"
                    ],
                    [
                      "Position needle (holding needle)"
                    ],
                    [
                      "Positioning needle"
                    ],
                    [
                      "Pull"
                    ],
                    [
                      "Pull needle suture"
                    ],
                    [
                      "Pulling Suture"
                    ],
                    [
                      "Puling the needle out of the tissue"
                    ],
                    [
                      "Reach for needle (gripper open)"
                    ],
                    [
                      "Reaching for needle"
                    ],
                    [
                      "Repositioning the needle on the needle driver"
                    ],
                    [
                      "Returning/dropping the needle"
                    ],
                    [
                      "Right hand assisting left while pulling suture"
                    ],
                    [
                      "Rotate"
                    ],
                    [
                      "Suture throw"
                    ],
                    [
                      "Suture tying"
                    ],
                    [
                      "Suturing"
                    ],
                    [
                      "Two loop knot"
                    ],
                    [
                      "Resect"
                    ]
                  ],
                  "hovertemplate": "color=-1<br>x=%{x}<br>y=%{y}<br>gesture_name=%{customdata[0]}<extra></extra>",
                  "legendgroup": "-1",
                  "marker": {
                    "color": "#00cc96",
                    "symbol": "circle"
                  },
                  "mode": "markers",
                  "name": "-1",
                  "orientation": "v",
                  "showlegend": true,
                  "type": "scatter",
                  "x": {
                    "bdata": "w6HOQEgCAUGYCeZAW1DNQKst2kDNqdRAE2j1QFV51UDI8D9B/gblQBpRA0Hy5dVAfmHWQNAi5EDHYPdAI2shQYdeNUHp5jtBA+A8QfNmPkHknwdBQcAOQWC0PEEXjTRB3WT4QN/z+ED9RvFAsQsyQaWXFkGXmxRBSKkYQXqqFEHtdTlBxx45Qd7zQEEgnCpBiY8+QQ1BRUGqX9RAi70jQZsLQUFFBRdBwe5IQSi9TkE/IiRBypAvQZbbREHUiU1BGNtOQQj9TEHZe0hBUZJQQWcwNEFpbSlB3fo3Qc8sHkGhSzBBCnk2QRmELUFxEDBBsx46Qa2zRkFiJDxBv9E7QdBmQ0GsdTVBmhwfQUcmIEF0czFBAvwhQcrGFkH9PjJB75koQaV+NEFg9itBbwgnQQCGJEEWkyVBtSYXQQqhPUEOFDhBIl00QakgLUEPSUpBVNw5QVsFH0EPIxVBQO4RQQP/NkGT8dpA",
                    "dtype": "f4"
                  },
                  "xaxis": "x",
                  "y": {
                    "bdata": "NM6PQHIYkEC3NYhAHgN/QBK+lkD/FYFA2zSRQLFlg0DL0KFAgjOPQCxYkkDMDqRAE5qdQJ3gn0AvMZZAIyewQCI9dz95HV1AirkNQHNfm0B56IZA1RjQP4Js2D91AJw/qEFuQFS7h0Ccm4NAWm9cQHAfVUB809U/RKqGPwbuU0D+bR5AOdNkQFrQGECC/UZAAeU9QAXcIkBOLptAIAtkQIgXBkCIOlZAWu4kQNCAgkB3QhBAhtnKQKRKuEDe9plAlQuJQL1qfkDK2qRAhI+NQN1h0z9PFstAFpjLQOhXvkDZ3a0/gPgBQJLt5UAwYONAt2LnQMTPvkCyduJAhS+UP8Ai1z9HurVAbXqlP8+HHkCr0f8/meWuPw//hj8IXOpATPy4PxiAZj9rvmM/IDmLQOAbwkCnaMpAZPIAQGCd3z9X5sM/SGF6P8stpj8e6rdABMpRP27ywUCuIqNAQ8acQHc/60Dcx3RA",
                    "dtype": "f4"
                  },
                  "yaxis": "y"
                },
                {
                  "customdata": [
                    [
                      "Cut"
                    ],
                    [
                      "Clip"
                    ]
                  ],
                  "hovertemplate": "color=8<br>x=%{x}<br>y=%{y}<br>gesture_name=%{customdata[0]}<extra></extra>",
                  "legendgroup": "8",
                  "marker": {
                    "color": "#ab63fa",
                    "symbol": "circle"
                  },
                  "mode": "markers",
                  "name": "8",
                  "orientation": "v",
                  "showlegend": true,
                  "type": "scatter",
                  "x": {
                    "bdata": "c9kSQU80FEE=",
                    "dtype": "f4"
                  },
                  "xaxis": "x",
                  "y": {
                    "bdata": "fGJeQHCAZUA=",
                    "dtype": "f4"
                  },
                  "yaxis": "y"
                },
                {
                  "customdata": [
                    [
                      "Cut cautery"
                    ],
                    [
                      "Cut ultrasonic"
                    ],
                    [
                      "Dissecting"
                    ]
                  ],
                  "hovertemplate": "color=29<br>x=%{x}<br>y=%{y}<br>gesture_name=%{customdata[0]}<extra></extra>",
                  "legendgroup": "29",
                  "marker": {
                    "color": "#FFA15A",
                    "symbol": "circle"
                  },
                  "mode": "markers",
                  "name": "29",
                  "orientation": "v",
                  "showlegend": true,
                  "type": "scatter",
                  "x": {
                    "bdata": "GUzxQHZQ9EDhavdA",
                    "dtype": "f4"
                  },
                  "xaxis": "x",
                  "y": {
                    "bdata": "8lKaQFxalkDE/pNA",
                    "dtype": "f4"
                  },
                  "yaxis": "y"
                },
                {
                  "customdata": [
                    [
                      "Cutting ends"
                    ],
                    [
                      "Transection"
                    ]
                  ],
                  "hovertemplate": "color=5<br>x=%{x}<br>y=%{y}<br>gesture_name=%{customdata[0]}<extra></extra>",
                  "legendgroup": "5",
                  "marker": {
                    "color": "#19d3f3",
                    "symbol": "circle"
                  },
                  "mode": "markers",
                  "name": "5",
                  "orientation": "v",
                  "showlegend": true,
                  "type": "scatter",
                  "x": {
                    "bdata": "0gzeQI5K2kA=",
                    "dtype": "f4"
                  },
                  "xaxis": "x",
                  "y": {
                    "bdata": "9cpsQNylckA=",
                    "dtype": "f4"
                  },
                  "yaxis": "y"
                },
                {
                  "customdata": [
                    [
                      "Dissect"
                    ],
                    [
                      "Peel/push"
                    ]
                  ],
                  "hovertemplate": "color=30<br>x=%{x}<br>y=%{y}<br>gesture_name=%{customdata[0]}<extra></extra>",
                  "legendgroup": "30",
                  "marker": {
                    "color": "#FF6692",
                    "symbol": "circle"
                  },
                  "mode": "markers",
                  "name": "30",
                  "orientation": "v",
                  "showlegend": true,
                  "type": "scatter",
                  "x": {
                    "bdata": "LyzQQHrt0UA=",
                    "dtype": "f4"
                  },
                  "xaxis": "x",
                  "y": {
                    "bdata": "XY6IQJ1NhUA=",
                    "dtype": "f4"
                  },
                  "yaxis": "y"
                },
                {
                  "customdata": [
                    [
                      "Tissue bite"
                    ],
                    [
                      "Retract"
                    ],
                    [
                      "Retraction"
                    ]
                  ],
                  "hovertemplate": "color=28<br>x=%{x}<br>y=%{y}<br>gesture_name=%{customdata[0]}<extra></extra>",
                  "legendgroup": "28",
                  "marker": {
                    "color": "#B6E880",
                    "symbol": "circle"
                  },
                  "mode": "markers",
                  "name": "28",
                  "orientation": "v",
                  "showlegend": true,
                  "type": "scatter",
                  "x": {
                    "bdata": "H43fQNMO10Dpk9lA",
                    "dtype": "f4"
                  },
                  "xaxis": "x",
                  "y": {
                    "bdata": "WsaGQH2ldUDTC4RA",
                    "dtype": "f4"
                  },
                  "yaxis": "y"
                },
                {
                  "customdata": [
                    [
                      "Application of clips"
                    ],
                    [
                      "Hemostatic control"
                    ]
                  ],
                  "hovertemplate": "color=9<br>x=%{x}<br>y=%{y}<br>gesture_name=%{customdata[0]}<extra></extra>",
                  "legendgroup": "9",
                  "marker": {
                    "color": "#FF97FF",
                    "symbol": "circle"
                  },
                  "mode": "markers",
                  "name": "9",
                  "orientation": "v",
                  "showlegend": true,
                  "type": "scatter",
                  "x": {
                    "bdata": "SPEGQZ6C/0A=",
                    "dtype": "f4"
                  },
                  "xaxis": "x",
                  "y": {
                    "bdata": "JMWPQKm5lEA=",
                    "dtype": "f4"
                  },
                  "yaxis": "y"
                },
                {
                  "customdata": [
                    [
                      "Tamponade"
                    ],
                    [
                      "Wipe"
                    ]
                  ],
                  "hovertemplate": "color=15<br>x=%{x}<br>y=%{y}<br>gesture_name=%{customdata[0]}<extra></extra>",
                  "legendgroup": "15",
                  "marker": {
                    "color": "#FECB52",
                    "symbol": "circle"
                  },
                  "mode": "markers",
                  "name": "15",
                  "orientation": "v",
                  "showlegend": true,
                  "type": "scatter",
                  "x": {
                    "bdata": "UoDuQD5g9UA=",
                    "dtype": "f4"
                  },
                  "xaxis": "x",
                  "y": {
                    "bdata": "o0CEQJtLbUA=",
                    "dtype": "f4"
                  },
                  "yaxis": "y"
                },
                {
                  "customdata": [
                    [
                      "Precision"
                    ],
                    [
                      "Displacement"
                    ],
                    [
                      "Free motion"
                    ],
                    [
                      "Load motion"
                    ],
                    [
                      "Picking"
                    ],
                    [
                      "Placing"
                    ]
                  ],
                  "hovertemplate": "color=35<br>x=%{x}<br>y=%{y}<br>gesture_name=%{customdata[0]}<extra></extra>",
                  "legendgroup": "35",
                  "marker": {
                    "color": "#636efa",
                    "symbol": "circle"
                  },
                  "mode": "markers",
                  "name": "35",
                  "orientation": "v",
                  "showlegend": true,
                  "type": "scatter",
                  "x": {
                    "bdata": "XU85QWK4OkEuYjhBr/o5QdcMPUG1jkFB",
                    "dtype": "f4"
                  },
                  "xaxis": "x",
                  "y": {
                    "bdata": "TU5aQH4rYkCRF25Aj7FWQJOLUUDe0TpA",
                    "dtype": "f4"
                  },
                  "yaxis": "y"
                },
                {
                  "customdata": [
                    [
                      "Ascending survey"
                    ],
                    [
                      "Pulling/lifting"
                    ]
                  ],
                  "hovertemplate": "color=16<br>x=%{x}<br>y=%{y}<br>gesture_name=%{customdata[0]}<extra></extra>",
                  "legendgroup": "16",
                  "marker": {
                    "color": "#EF553B",
                    "symbol": "circle"
                  },
                  "mode": "markers",
                  "name": "16",
                  "orientation": "v",
                  "showlegend": true,
                  "type": "scatter",
                  "x": {
                    "bdata": "Pf0MQUaQD0E=",
                    "dtype": "f4"
                  },
                  "xaxis": "x",
                  "y": {
                    "bdata": "MSSCQI2Xg0A=",
                    "dtype": "f4"
                  },
                  "yaxis": "y"
                },
                {
                  "customdata": [
                    [
                      "Descending survey"
                    ],
                    [
                      "Inserting/pushing"
                    ]
                  ],
                  "hovertemplate": "color=17<br>x=%{x}<br>y=%{y}<br>gesture_name=%{customdata[0]}<extra></extra>",
                  "legendgroup": "17",
                  "marker": {
                    "color": "#00cc96",
                    "symbol": "circle"
                  },
                  "mode": "markers",
                  "name": "17",
                  "orientation": "v",
                  "showlegend": true,
                  "type": "scatter",
                  "x": {
                    "bdata": "2HINQWAqEEE=",
                    "dtype": "f4"
                  },
                  "xaxis": "x",
                  "y": {
                    "bdata": "nAmCQCUahkA=",
                    "dtype": "f4"
                  },
                  "yaxis": "y"
                },
                {
                  "customdata": [
                    [
                      "Endobag - In"
                    ],
                    [
                      "Endobag - Out"
                    ],
                    [
                      "Extract"
                    ],
                    [
                      "Abdominal access"
                    ]
                  ],
                  "hovertemplate": "color=14<br>x=%{x}<br>y=%{y}<br>gesture_name=%{customdata[0]}<extra></extra>",
                  "legendgroup": "14",
                  "marker": {
                    "color": "#ab63fa",
                    "symbol": "circle"
                  },
                  "mode": "markers",
                  "name": "14",
                  "orientation": "v",
                  "showlegend": true,
                  "type": "scatter",
                  "x": {
                    "bdata": "MCoDQeVaAUF5A+hAUMIFQQ==",
                    "dtype": "f4"
                  },
                  "xaxis": "x",
                  "y": {
                    "bdata": "cuJQQK4+UkBbzlxA8LNkQA==",
                    "dtype": "f4"
                  },
                  "yaxis": "y"
                },
                {
                  "customdata": [
                    [
                      "Idle holding"
                    ],
                    [
                      "Idle"
                    ]
                  ],
                  "hovertemplate": "color=19<br>x=%{x}<br>y=%{y}<br>gesture_name=%{customdata[0]}<extra></extra>",
                  "legendgroup": "19",
                  "marker": {
                    "color": "#FFA15A",
                    "symbol": "circle"
                  },
                  "mode": "markers",
                  "name": "19",
                  "orientation": "v",
                  "showlegend": true,
                  "type": "scatter",
                  "x": {
                    "bdata": "l24yQfn4NUE=",
                    "dtype": "f4"
                  },
                  "xaxis": "x",
                  "y": {
                    "bdata": "ChlhQGldYkA=",
                    "dtype": "f4"
                  },
                  "yaxis": "y"
                },
                {
                  "customdata": [
                    [
                      "Idle position"
                    ],
                    [
                      "Non-specific movement"
                    ]
                  ],
                  "hovertemplate": "color=0<br>x=%{x}<br>y=%{y}<br>gesture_name=%{customdata[0]}<extra></extra>",
                  "legendgroup": "0",
                  "marker": {
                    "color": "#19d3f3",
                    "symbol": "circle"
                  },
                  "mode": "markers",
                  "name": "0",
                  "orientation": "v",
                  "showlegend": true,
                  "type": "scatter",
                  "x": {
                    "bdata": "9RVCQd/mQUE=",
                    "dtype": "f4"
                  },
                  "xaxis": "x",
                  "y": {
                    "bdata": "J+NXQBGGXUA=",
                    "dtype": "f4"
                  },
                  "yaxis": "y"
                },
                {
                  "customdata": [
                    [
                      "Reach"
                    ],
                    [
                      "Release"
                    ],
                    [
                      "Grasp"
                    ],
                    [
                      "Hold"
                    ],
                    [
                      "Move"
                    ]
                  ],
                  "hovertemplate": "color=13<br>x=%{x}<br>y=%{y}<br>gesture_name=%{customdata[0]}<extra></extra>",
                  "legendgroup": "13",
                  "marker": {
                    "color": "#FF6692",
                    "symbol": "circle"
                  },
                  "mode": "markers",
                  "name": "13",
                  "orientation": "v",
                  "showlegend": true,
                  "type": "scatter",
                  "x": {
                    "bdata": "QTotQXOXIkHbXSJBOIsmQUwiKkE=",
                    "dtype": "f4"
                  },
                  "xaxis": "x",
                  "y": {
                    "bdata": "Z2ZlQFJ2ZUDeamFAQQRcQKI4YUA=",
                    "dtype": "f4"
                  },
                  "yaxis": "y"
                },
                {
                  "customdata": [
                    [
                      "Sling (Hyst.)"
                    ],
                    [
                      "Sling-In"
                    ]
                  ],
                  "hovertemplate": "color=3<br>x=%{x}<br>y=%{y}<br>gesture_name=%{customdata[0]}<extra></extra>",
                  "legendgroup": "3",
                  "marker": {
                    "color": "#B6E880",
                    "symbol": "circle"
                  },
                  "mode": "markers",
                  "name": "3",
                  "orientation": "v",
                  "showlegend": true,
                  "type": "scatter",
                  "x": {
                    "bdata": "btUsQW4NL0E=",
                    "dtype": "f4"
                  },
                  "xaxis": "x",
                  "y": {
                    "bdata": "+rW1QB2qs0A=",
                    "dtype": "f4"
                  },
                  "yaxis": "y"
                },
                {
                  "customdata": [
                    [
                      "Catch"
                    ],
                    [
                      "Position"
                    ]
                  ],
                  "hovertemplate": "color=2<br>x=%{x}<br>y=%{y}<br>gesture_name=%{customdata[0]}<extra></extra>",
                  "legendgroup": "2",
                  "marker": {
                    "color": "#FF97FF",
                    "symbol": "circle"
                  },
                  "mode": "markers",
                  "name": "2",
                  "orientation": "v",
                  "showlegend": true,
                  "type": "scatter",
                  "x": {
                    "bdata": "FzQlQbuoI0E=",
                    "dtype": "f4"
                  },
                  "xaxis": "x",
                  "y": {
                    "bdata": "RgGHQJe/j0A=",
                    "dtype": "f4"
                  },
                  "yaxis": "y"
                },
                {
                  "customdata": [
                    [
                      "Give slack"
                    ],
                    [
                      "Make a loop"
                    ],
                    [
                      "Pass through"
                    ]
                  ],
                  "hovertemplate": "color=11<br>x=%{x}<br>y=%{y}<br>gesture_name=%{customdata[0]}<extra></extra>",
                  "legendgroup": "11",
                  "marker": {
                    "color": "#FECB52",
                    "symbol": "circle"
                  },
                  "mode": "markers",
                  "name": "11",
                  "orientation": "v",
                  "showlegend": true,
                  "type": "scatter",
                  "x": {
                    "bdata": "mXslQUXrJ0EQzyZB",
                    "dtype": "f4"
                  },
                  "xaxis": "x",
                  "y": {
                    "bdata": "43eOQK6xmEDSCJRA",
                    "dtype": "f4"
                  },
                  "yaxis": "y"
                },
                {
                  "customdata": [
                    [
                      "Irrigation"
                    ],
                    [
                      "Irrigation and suction"
                    ],
                    [
                      "Suction and irrigation"
                    ]
                  ],
                  "hovertemplate": "color=12<br>x=%{x}<br>y=%{y}<br>gesture_name=%{customdata[0]}<extra></extra>",
                  "legendgroup": "12",
                  "marker": {
                    "color": "#636efa",
                    "symbol": "circle"
                  },
                  "mode": "markers",
                  "name": "12",
                  "orientation": "v",
                  "showlegend": true,
                  "type": "scatter",
                  "x": {
                    "bdata": "yiYCQct/AEHBVP1A",
                    "dtype": "f4"
                  },
                  "xaxis": "x",
                  "y": {
                    "bdata": "nvJFQCrtZkA9o1JA",
                    "dtype": "f4"
                  },
                  "yaxis": "y"
                },
                {
                  "customdata": [
                    [
                      "Push"
                    ],
                    [
                      "Scratch"
                    ]
                  ],
                  "hovertemplate": "color=18<br>x=%{x}<br>y=%{y}<br>gesture_name=%{customdata[0]}<extra></extra>",
                  "legendgroup": "18",
                  "marker": {
                    "color": "#EF553B",
                    "symbol": "circle"
                  },
                  "mode": "markers",
                  "name": "18",
                  "orientation": "v",
                  "showlegend": true,
                  "type": "scatter",
                  "x": {
                    "bdata": "6hHiQEHN40A=",
                    "dtype": "f4"
                  },
                  "xaxis": "x",
                  "y": {
                    "bdata": "ZLCBQJfsf0A=",
                    "dtype": "f4"
                  },
                  "yaxis": "y"
                },
                {
                  "customdata": [
                    [
                      "Retracting with grasping"
                    ],
                    [
                      "Retracting without grasping"
                    ],
                    [
                      "Specimen/material removal"
                    ]
                  ],
                  "hovertemplate": "color=21<br>x=%{x}<br>y=%{y}<br>gesture_name=%{customdata[0]}<extra></extra>",
                  "legendgroup": "21",
                  "marker": {
                    "color": "#00cc96",
                    "symbol": "circle"
                  },
                  "mode": "markers",
                  "name": "21",
                  "orientation": "v",
                  "showlegend": true,
                  "type": "scatter",
                  "x": {
                    "bdata": "pskCQVtuBEE1SgFB",
                    "dtype": "f4"
                  },
                  "xaxis": "x",
                  "y": {
                    "bdata": "XyeBQMCMekBTnn9A",
                    "dtype": "f4"
                  },
                  "yaxis": "y"
                },
                {
                  "customdata": [
                    [
                      "Approach peg"
                    ],
                    [
                      "Reach for peg"
                    ],
                    [
                      "Reach for the peg with the left grasper"
                    ],
                    [
                      "Reach for the peg with the right grasper"
                    ]
                  ],
                  "hovertemplate": "color=45<br>x=%{x}<br>y=%{y}<br>gesture_name=%{customdata[0]}<extra></extra>",
                  "legendgroup": "45",
                  "marker": {
                    "color": "#ab63fa",
                    "symbol": "circle"
                  },
                  "mode": "markers",
                  "name": "45",
                  "orientation": "v",
                  "showlegend": true,
                  "type": "scatter",
                  "x": {
                    "bdata": "lg9DQRbZREH53UhBhy9HQQ==",
                    "dtype": "f4"
                  },
                  "xaxis": "x",
                  "y": {
                    "bdata": "LHkbQDTSGkCZiRVAb6saQA==",
                    "dtype": "f4"
                  },
                  "yaxis": "y"
                },
                {
                  "customdata": [
                    [
                      "Drop"
                    ],
                    [
                      "Dropping suture"
                    ],
                    [
                      "Dropping suture and moving to end points"
                    ]
                  ],
                  "hovertemplate": "color=34<br>x=%{x}<br>y=%{y}<br>gesture_name=%{customdata[0]}<extra></extra>",
                  "legendgroup": "34",
                  "marker": {
                    "color": "#FFA15A",
                    "symbol": "circle"
                  },
                  "mode": "markers",
                  "name": "34",
                  "orientation": "v",
                  "showlegend": true,
                  "type": "scatter",
                  "x": {
                    "bdata": "hEYSQSkAM0FeIDhB",
                    "dtype": "f4"
                  },
                  "xaxis": "x",
                  "y": {
                    "bdata": "o4kaQOqHtEAwyLBA",
                    "dtype": "f4"
                  },
                  "yaxis": "y"
                },
                {
                  "customdata": [
                    [
                      "Transfer peg - exchange"
                    ],
                    [
                      "Transfer peg between graspers"
                    ]
                  ],
                  "hovertemplate": "color=23<br>x=%{x}<br>y=%{y}<br>gesture_name=%{customdata[0]}<extra></extra>",
                  "legendgroup": "23",
                  "marker": {
                    "color": "#19d3f3",
                    "symbol": "circle"
                  },
                  "mode": "markers",
                  "name": "23",
                  "orientation": "v",
                  "showlegend": true,
                  "type": "scatter",
                  "x": {
                    "bdata": "UTlIQcZySUE=",
                    "dtype": "f4"
                  },
                  "xaxis": "x",
                  "y": {
                    "bdata": "KF4lQBadJUA=",
                    "dtype": "f4"
                  },
                  "yaxis": "y"
                },
                {
                  "customdata": [
                    [
                      "Backhand over - Left"
                    ],
                    [
                      "Backhand over - Right"
                    ]
                  ],
                  "hovertemplate": "color=44<br>x=%{x}<br>y=%{y}<br>gesture_name=%{customdata[0]}<extra></extra>",
                  "legendgroup": "44",
                  "marker": {
                    "color": "#FF6692",
                    "symbol": "circle"
                  },
                  "mode": "markers",
                  "name": "44",
                  "orientation": "v",
                  "showlegend": true,
                  "type": "scatter",
                  "x": {
                    "bdata": "d1RNQTVCTEE=",
                    "dtype": "f4"
                  },
                  "xaxis": "x",
                  "y": {
                    "bdata": "XEaAQCqpgUA=",
                    "dtype": "f4"
                  },
                  "yaxis": "y"
                },
                {
                  "customdata": [
                    [
                      "Backhand under - Left"
                    ],
                    [
                      "Backhand under - Right"
                    ]
                  ],
                  "hovertemplate": "color=43<br>x=%{x}<br>y=%{y}<br>gesture_name=%{customdata[0]}<extra></extra>",
                  "legendgroup": "43",
                  "marker": {
                    "color": "#B6E880",
                    "symbol": "circle"
                  },
                  "mode": "markers",
                  "name": "43",
                  "orientation": "v",
                  "showlegend": true,
                  "type": "scatter",
                  "x": {
                    "bdata": "uJ5PQTmdTkE=",
                    "dtype": "f4"
                  },
                  "xaxis": "x",
                  "y": {
                    "bdata": "4DSGQPHcg0A=",
                    "dtype": "f4"
                  },
                  "yaxis": "y"
                },
                {
                  "customdata": [
                    [
                      "Both hands pull"
                    ],
                    [
                      "Pull suture with both graspers"
                    ],
                    [
                      "Pulling suture with both hands"
                    ],
                    [
                      "Reaching for suture with one hand while the other holding the needle"
                    ]
                  ],
                  "hovertemplate": "color=37<br>x=%{x}<br>y=%{y}<br>gesture_name=%{customdata[0]}<extra></extra>",
                  "legendgroup": "37",
                  "marker": {
                    "color": "#FF97FF",
                    "symbol": "circle"
                  },
                  "mode": "markers",
                  "name": "37",
                  "orientation": "v",
                  "showlegend": true,
                  "type": "scatter",
                  "x": {
                    "bdata": "JyhAQfQRP0F7lD5BRLRAQQ==",
                    "dtype": "f4"
                  },
                  "xaxis": "x",
                  "y": {
                    "bdata": "gROqQJBzqUDWOqdAJiyiQA==",
                    "dtype": "f4"
                  },
                  "yaxis": "y"
                },
                {
                  "customdata": [
                    [
                      "Cutting the suture"
                    ],
                    [
                      "String cutting"
                    ],
                    [
                      "Thread cut"
                    ]
                  ],
                  "hovertemplate": "color=32<br>x=%{x}<br>y=%{y}<br>gesture_name=%{customdata[0]}<extra></extra>",
                  "legendgroup": "32",
                  "marker": {
                    "color": "#FECB52",
                    "symbol": "circle"
                  },
                  "mode": "markers",
                  "name": "32",
                  "orientation": "v",
                  "showlegend": true,
                  "type": "scatter",
                  "x": {
                    "bdata": "g/YnQbI+JkFMNidB",
                    "dtype": "f4"
                  },
                  "xaxis": "x",
                  "y": {
                    "bdata": "mr3PQDbV0EAQ2dFA",
                    "dtype": "f4"
                  },
                  "yaxis": "y"
                },
                {
                  "customdata": [
                    [
                      "Drive needle enter skin"
                    ],
                    [
                      "Driving the needle to enter the skin or tissue"
                    ],
                    [
                      "Insert needle trough tissue"
                    ]
                  ],
                  "hovertemplate": "color=40<br>x=%{x}<br>y=%{y}<br>gesture_name=%{customdata[0]}<extra></extra>",
                  "legendgroup": "40",
                  "marker": {
                    "color": "#636efa",
                    "symbol": "circle"
                  },
                  "mode": "markers",
                  "name": "40",
                  "orientation": "v",
                  "showlegend": true,
                  "type": "scatter",
                  "x": {
                    "bdata": "7MIVQYqMFkEr3BZB",
                    "dtype": "f4"
                  },
                  "xaxis": "x",
                  "y": {
                    "bdata": "YhyQP7vtkj+ZDJs/",
                    "dtype": "f4"
                  },
                  "yaxis": "y"
                },
                {
                  "customdata": [
                    [
                      "Flush hand over - Right"
                    ],
                    [
                      "Forehand over - Left"
                    ]
                  ],
                  "hovertemplate": "color=52<br>x=%{x}<br>y=%{y}<br>gesture_name=%{customdata[0]}<extra></extra>",
                  "legendgroup": "52",
                  "marker": {
                    "color": "#EF553B",
                    "symbol": "circle"
                  },
                  "mode": "markers",
                  "name": "52",
                  "orientation": "v",
                  "showlegend": true,
                  "type": "scatter",
                  "x": {
                    "bdata": "cCJMQWFyTUE=",
                    "dtype": "f4"
                  },
                  "xaxis": "x",
                  "y": {
                    "bdata": "wa6hQBn4oEA=",
                    "dtype": "f4"
                  },
                  "yaxis": "y"
                },
                {
                  "customdata": [
                    [
                      "Flush hand under - Left"
                    ],
                    [
                      "Forehand under - Right"
                    ]
                  ],
                  "hovertemplate": "color=51<br>x=%{x}<br>y=%{y}<br>gesture_name=%{customdata[0]}<extra></extra>",
                  "legendgroup": "51",
                  "marker": {
                    "color": "#00cc96",
                    "symbol": "circle"
                  },
                  "mode": "markers",
                  "name": "51",
                  "orientation": "v",
                  "showlegend": true,
                  "type": "scatter",
                  "x": {
                    "bdata": "sIRLQURuTkE=",
                    "dtype": "f4"
                  },
                  "xaxis": "x",
                  "y": {
                    "bdata": "++WhQJpcm0A=",
                    "dtype": "f4"
                  },
                  "yaxis": "y"
                },
                {
                  "customdata": [
                    [
                      "Grasp Pull Run Suture"
                    ],
                    [
                      "Needle withdrawl"
                    ],
                    [
                      "Pull/run suture out of tissue"
                    ]
                  ],
                  "hovertemplate": "color=47<br>x=%{x}<br>y=%{y}<br>gesture_name=%{customdata[0]}<extra></extra>",
                  "legendgroup": "47",
                  "marker": {
                    "color": "#ab63fa",
                    "symbol": "circle"
                  },
                  "mode": "markers",
                  "name": "47",
                  "orientation": "v",
                  "showlegend": true,
                  "type": "scatter",
                  "x": {
                    "bdata": "5RolQXT9I0Gw5CNB",
                    "dtype": "f4"
                  },
                  "xaxis": "x",
                  "y": {
                    "bdata": "F5G/QGqKvkCpwbtA",
                    "dtype": "f4"
                  },
                  "yaxis": "y"
                },
                {
                  "customdata": [
                    [
                      "Grasp suture tail in knot tying"
                    ],
                    [
                      "Knot tying - Grasp tail"
                    ],
                    [
                      "Reach for the suture end with the right grasper and pull the suture to lock the knot"
                    ]
                  ],
                  "hovertemplate": "color=56<br>x=%{x}<br>y=%{y}<br>gesture_name=%{customdata[0]}<extra></extra>",
                  "legendgroup": "56",
                  "marker": {
                    "color": "#FFA15A",
                    "symbol": "circle"
                  },
                  "mode": "markers",
                  "name": "56",
                  "orientation": "v",
                  "showlegend": true,
                  "type": "scatter",
                  "x": {
                    "bdata": "0LE3QdVwN0Hcrj9B",
                    "dtype": "f4"
                  },
                  "xaxis": "x",
                  "y": {
                    "bdata": "m3XTQDhazkAsM75A",
                    "dtype": "f4"
                  },
                  "yaxis": "y"
                },
                {
                  "customdata": [
                    [
                      "Grasping and pulling the tail of suture through the loop"
                    ],
                    [
                      "Pull suture tail trough knot"
                    ]
                  ],
                  "hovertemplate": "color=57<br>x=%{x}<br>y=%{y}<br>gesture_name=%{customdata[0]}<extra></extra>",
                  "legendgroup": "57",
                  "marker": {
                    "color": "#19d3f3",
                    "symbol": "circle"
                  },
                  "mode": "markers",
                  "name": "57",
                  "orientation": "v",
                  "showlegend": true,
                  "type": "scatter",
                  "x": {
                    "bdata": "HZQ1QdZqNEE=",
                    "dtype": "f4"
                  },
                  "xaxis": "x",
                  "y": {
                    "bdata": "mEraQFgv3EA=",
                    "dtype": "f4"
                  },
                  "yaxis": "y"
                },
                {
                  "customdata": [
                    [
                      "Grasping needle with right hand"
                    ],
                    [
                      "Orienting needle with right hand"
                    ]
                  ],
                  "hovertemplate": "color=64<br>x=%{x}<br>y=%{y}<br>gesture_name=%{customdata[0]}<extra></extra>",
                  "legendgroup": "64",
                  "marker": {
                    "color": "#FF6692",
                    "symbol": "circle"
                  },
                  "mode": "markers",
                  "name": "64",
                  "orientation": "v",
                  "showlegend": true,
                  "type": "scatter",
                  "x": {
                    "bdata": "qbU+Qd0pP0E=",
                    "dtype": "f4"
                  },
                  "xaxis": "x",
                  "y": {
                    "bdata": "urd8P3b+Zz8=",
                    "dtype": "f4"
                  },
                  "yaxis": "y"
                },
                {
                  "customdata": [
                    [
                      "Grasping/orienting needle"
                    ],
                    [
                      "Needle positioning"
                    ],
                    [
                      "Orient needle"
                    ],
                    [
                      "Position needle"
                    ]
                  ],
                  "hovertemplate": "color=49<br>x=%{x}<br>y=%{y}<br>gesture_name=%{customdata[0]}<extra></extra>",
                  "legendgroup": "49",
                  "marker": {
                    "color": "#B6E880",
                    "symbol": "circle"
                  },
                  "mode": "markers",
                  "name": "49",
                  "orientation": "v",
                  "showlegend": true,
                  "type": "scatter",
                  "x": {
                    "bdata": "3XEkQdWZJEE5tSdBZXgjQQ==",
                    "dtype": "f4"
                  },
                  "xaxis": "x",
                  "y": {
                    "bdata": "7ZKPPz6Zgj+xAIQ/j8ZlPw==",
                    "dtype": "f4"
                  },
                  "yaxis": "y"
                },
                {
                  "customdata": [
                    [
                      "Gripper reconfiguration"
                    ],
                    [
                      "Needle extraction"
                    ],
                    [
                      "Needle grasping"
                    ],
                    [
                      "Needle insertion"
                    ],
                    [
                      "Needle passing"
                    ]
                  ],
                  "hovertemplate": "color=31<br>x=%{x}<br>y=%{y}<br>gesture_name=%{customdata[0]}<extra></extra>",
                  "legendgroup": "31",
                  "marker": {
                    "color": "#FF97FF",
                    "symbol": "circle"
                  },
                  "mode": "markers",
                  "name": "31",
                  "orientation": "v",
                  "showlegend": true,
                  "type": "scatter",
                  "x": {
                    "bdata": "1kgxQSZUHEET0yZBPrIcQfmNIUE=",
                    "dtype": "f4"
                  },
                  "xaxis": "x",
                  "y": {
                    "bdata": "nUkGQO7LL0BPbjBAHsYpQMAQIEA=",
                    "dtype": "f4"
                  },
                  "yaxis": "y"
                },
                {
                  "customdata": [
                    [
                      "Hand-off"
                    ],
                    [
                      "Transferring needle from one hand to the other"
                    ]
                  ],
                  "hovertemplate": "color=24<br>x=%{x}<br>y=%{y}<br>gesture_name=%{customdata[0]}<extra></extra>",
                  "legendgroup": "24",
                  "marker": {
                    "color": "#FECB52",
                    "symbol": "circle"
                  },
                  "mode": "markers",
                  "name": "24",
                  "orientation": "v",
                  "showlegend": true,
                  "type": "scatter",
                  "x": {
                    "bdata": "fW49QRJtPkE=",
                    "dtype": "f4"
                  },
                  "xaxis": "x",
                  "y": {
                    "bdata": "NMYDQEfV6T8=",
                    "dtype": "f4"
                  },
                  "yaxis": "y"
                },
                {
                  "customdata": [
                    [
                      "Insert"
                    ],
                    [
                      "Needle holding"
                    ],
                    [
                      "Suture handling"
                    ],
                    [
                      "Suture making"
                    ]
                  ],
                  "hovertemplate": "color=22<br>x=%{x}<br>y=%{y}<br>gesture_name=%{customdata[0]}<extra></extra>",
                  "legendgroup": "22",
                  "marker": {
                    "color": "#636efa",
                    "symbol": "circle"
                  },
                  "mode": "markers",
                  "name": "22",
                  "orientation": "v",
                  "showlegend": true,
                  "type": "scatter",
                  "x": {
                    "bdata": "SOoYQenNGkGsYB1Bw/4aQQ==",
                    "dtype": "f4"
                  },
                  "xaxis": "x",
                  "y": {
                    "bdata": "POSVQEqVn0AHvZtAhTOVQA==",
                    "dtype": "f4"
                  },
                  "yaxis": "y"
                },
                {
                  "customdata": [
                    [
                      "Insert and push needle through tissue"
                    ],
                    [
                      "Needle pulling"
                    ]
                  ],
                  "hovertemplate": "color=41<br>x=%{x}<br>y=%{y}<br>gesture_name=%{customdata[0]}<extra></extra>",
                  "legendgroup": "41",
                  "marker": {
                    "color": "#EF553B",
                    "symbol": "circle"
                  },
                  "mode": "markers",
                  "name": "41",
                  "orientation": "v",
                  "showlegend": true,
                  "type": "scatter",
                  "x": {
                    "bdata": "Up4WQTUZFUE=",
                    "dtype": "f4"
                  },
                  "xaxis": "x",
                  "y": {
                    "bdata": "7CW1PzsRzT8=",
                    "dtype": "f4"
                  },
                  "yaxis": "y"
                },
                {
                  "customdata": [
                    [
                      "Insert needle/push needle through tissue"
                    ],
                    [
                      "Suture"
                    ]
                  ],
                  "hovertemplate": "color=27<br>x=%{x}<br>y=%{y}<br>gesture_name=%{customdata[0]}<extra></extra>",
                  "legendgroup": "27",
                  "marker": {
                    "color": "#00cc96",
                    "symbol": "circle"
                  },
                  "mode": "markers",
                  "name": "27",
                  "orientation": "v",
                  "showlegend": true,
                  "type": "scatter",
                  "x": {
                    "bdata": "8j4fQdMRH0E=",
                    "dtype": "f4"
                  },
                  "xaxis": "x",
                  "y": {
                    "bdata": "xPLSPym51z8=",
                    "dtype": "f4"
                  },
                  "yaxis": "y"
                },
                {
                  "customdata": [
                    [
                      "Knot pushing"
                    ],
                    [
                      "Knot tying - Tighten suture"
                    ],
                    [
                      "Using one hand to help tighten suture"
                    ]
                  ],
                  "hovertemplate": "color=38<br>x=%{x}<br>y=%{y}<br>gesture_name=%{customdata[0]}<extra></extra>",
                  "legendgroup": "38",
                  "marker": {
                    "color": "#ab63fa",
                    "symbol": "circle"
                  },
                  "mode": "markers",
                  "name": "38",
                  "orientation": "v",
                  "showlegend": true,
                  "type": "scatter",
                  "x": {
                    "bdata": "gA86QaAeOUECYD1B",
                    "dtype": "f4"
                  },
                  "xaxis": "x",
                  "y": {
                    "bdata": "XN7dQGaE2EAZptZA",
                    "dtype": "f4"
                  },
                  "yaxis": "y"
                },
                {
                  "customdata": [
                    [
                      "Knot tying"
                    ],
                    [
                      "Make a knot"
                    ],
                    [
                      "Pull ends of suture taut"
                    ],
                    [
                      "Pull suture"
                    ],
                    [
                      "Pulling the 2 suture ends taut to tighten the knot."
                    ],
                    [
                      "Pulling thread trough tissue"
                    ],
                    [
                      "Suture cinching"
                    ]
                  ],
                  "hovertemplate": "color=46<br>x=%{x}<br>y=%{y}<br>gesture_name=%{customdata[0]}<extra></extra>",
                  "legendgroup": "46",
                  "marker": {
                    "color": "#FFA15A",
                    "symbol": "circle"
                  },
                  "mode": "markers",
                  "name": "46",
                  "orientation": "v",
                  "showlegend": true,
                  "type": "scatter",
                  "x": {
                    "bdata": "v2YwQSa4NUHpKjJBMEsrQdzkM0EuCyVBJBkxQQ==",
                    "dtype": "f4"
                  },
                  "xaxis": "x",
                  "y": {
                    "bdata": "SVLSQFgHvkDLndFAQSHNQOVU1UCRrsJAQlrLQA==",
                    "dtype": "f4"
                  },
                  "yaxis": "y"
                },
                {
                  "customdata": [
                    [
                      "Knot tying - Perform a single C-loop"
                    ],
                    [
                      "Making C loop around one hand"
                    ]
                  ],
                  "hovertemplate": "color=53<br>x=%{x}<br>y=%{y}<br>gesture_name=%{customdata[0]}<extra></extra>",
                  "legendgroup": "53",
                  "marker": {
                    "color": "#19d3f3",
                    "symbol": "circle"
                  },
                  "mode": "markers",
                  "name": "53",
                  "orientation": "v",
                  "showlegend": true,
                  "type": "scatter",
                  "x": {
                    "bdata": "J4w2Qb2VOEE=",
                    "dtype": "f4"
                  },
                  "xaxis": "x",
                  "y": {
                    "bdata": "iyfnQDYm4kA=",
                    "dtype": "f4"
                  },
                  "yaxis": "y"
                },
                {
                  "customdata": [
                    [
                      "Knotting"
                    ],
                    [
                      "Tying a knot"
                    ]
                  ],
                  "hovertemplate": "color=33<br>x=%{x}<br>y=%{y}<br>gesture_name=%{customdata[0]}<extra></extra>",
                  "legendgroup": "33",
                  "marker": {
                    "color": "#FF6692",
                    "symbol": "circle"
                  },
                  "mode": "markers",
                  "name": "33",
                  "orientation": "v",
                  "showlegend": true,
                  "type": "scatter",
                  "x": {
                    "bdata": "IossQT1WL0E=",
                    "dtype": "f4"
                  },
                  "xaxis": "x",
                  "y": {
                    "bdata": "IxLaQFtF3EA=",
                    "dtype": "f4"
                  },
                  "yaxis": "y"
                },
                {
                  "customdata": [
                    [
                      "Loop suture for knot tying"
                    ],
                    [
                      "Rotate suture once"
                    ],
                    [
                      "Rotate suture twice"
                    ]
                  ],
                  "hovertemplate": "color=54<br>x=%{x}<br>y=%{y}<br>gesture_name=%{customdata[0]}<extra></extra>",
                  "legendgroup": "54",
                  "marker": {
                    "color": "#B6E880",
                    "symbol": "circle"
                  },
                  "mode": "markers",
                  "name": "54",
                  "orientation": "v",
                  "showlegend": true,
                  "type": "scatter",
                  "x": {
                    "bdata": "rkQzQXd5M0H8XTVB",
                    "dtype": "f4"
                  },
                  "xaxis": "x",
                  "y": {
                    "bdata": "Va7gQKlT5EBC1etA",
                    "dtype": "f4"
                  },
                  "yaxis": "y"
                },
                {
                  "customdata": [
                    [
                      "Loosen completely"
                    ],
                    [
                      "Loosen partially"
                    ]
                  ],
                  "hovertemplate": "color=10<br>x=%{x}<br>y=%{y}<br>gesture_name=%{customdata[0]}<extra></extra>",
                  "legendgroup": "10",
                  "marker": {
                    "color": "#FF97FF",
                    "symbol": "circle"
                  },
                  "mode": "markers",
                  "name": "10",
                  "orientation": "v",
                  "showlegend": true,
                  "type": "scatter",
                  "x": {
                    "bdata": "gGshQV6qIUE=",
                    "dtype": "f4"
                  },
                  "xaxis": "x",
                  "y": {
                    "bdata": "od+gQG18oEA=",
                    "dtype": "f4"
                  },
                  "yaxis": "y"
                },
                {
                  "customdata": [
                    [
                      "Loosen up more suture"
                    ],
                    [
                      "Loosening more suture"
                    ]
                  ],
                  "hovertemplate": "color=20<br>x=%{x}<br>y=%{y}<br>gesture_name=%{customdata[0]}<extra></extra>",
                  "legendgroup": "20",
                  "marker": {
                    "color": "#FECB52",
                    "symbol": "circle"
                  },
                  "mode": "markers",
                  "name": "20",
                  "orientation": "v",
                  "showlegend": true,
                  "type": "scatter",
                  "x": {
                    "bdata": "rMIzQbiCNUE=",
                    "dtype": "f4"
                  },
                  "xaxis": "x",
                  "y": {
                    "bdata": "XJfBQEUZxUA=",
                    "dtype": "f4"
                  },
                  "yaxis": "y"
                },
                {
                  "customdata": [
                    [
                      "Move to middle with needle (left hand)"
                    ],
                    [
                      "Move to middle with needle (right hand)"
                    ]
                  ],
                  "hovertemplate": "color=58<br>x=%{x}<br>y=%{y}<br>gesture_name=%{customdata[0]}<extra></extra>",
                  "legendgroup": "58",
                  "marker": {
                    "color": "#636efa",
                    "symbol": "circle"
                  },
                  "mode": "markers",
                  "name": "58",
                  "orientation": "v",
                  "showlegend": true,
                  "type": "scatter",
                  "x": {
                    "bdata": "tslEQQkeR0E=",
                    "dtype": "f4"
                  },
                  "xaxis": "x",
                  "y": {
                    "bdata": "46yqP8VhlT8=",
                    "dtype": "f4"
                  },
                  "yaxis": "y"
                },
                {
                  "customdata": [
                    [
                      "Needle hold ratio"
                    ],
                    [
                      "Needle repositioning"
                    ]
                  ],
                  "hovertemplate": "color=1<br>x=%{x}<br>y=%{y}<br>gesture_name=%{customdata[0]}<extra></extra>",
                  "legendgroup": "1",
                  "marker": {
                    "color": "#EF553B",
                    "symbol": "circle"
                  },
                  "mode": "markers",
                  "name": "1",
                  "orientation": "v",
                  "showlegend": true,
                  "type": "scatter",
                  "x": {
                    "bdata": "sCsoQfPpKEE=",
                    "dtype": "f4"
                  },
                  "xaxis": "x",
                  "y": {
                    "bdata": "DMgaQO/+G0A=",
                    "dtype": "f4"
                  },
                  "yaxis": "y"
                },
                {
                  "customdata": [
                    [
                      "Needle pushing"
                    ],
                    [
                      "Pushing needle through the tissue"
                    ]
                  ],
                  "hovertemplate": "color=48<br>x=%{x}<br>y=%{y}<br>gesture_name=%{customdata[0]}<extra></extra>",
                  "legendgroup": "48",
                  "marker": {
                    "color": "#00cc96",
                    "symbol": "circle"
                  },
                  "mode": "markers",
                  "name": "48",
                  "orientation": "v",
                  "showlegend": true,
                  "type": "scatter",
                  "x": {
                    "bdata": "EbwZQT48GkE=",
                    "dtype": "f4"
                  },
                  "xaxis": "x",
                  "y": {
                    "bdata": "C9nCP6G/tD8=",
                    "dtype": "f4"
                  },
                  "yaxis": "y"
                },
                {
                  "customdata": [
                    [
                      "Needle targeting"
                    ],
                    [
                      "Positioning the needle tip"
                    ]
                  ],
                  "hovertemplate": "color=39<br>x=%{x}<br>y=%{y}<br>gesture_name=%{customdata[0]}<extra></extra>",
                  "legendgroup": "39",
                  "marker": {
                    "color": "#ab63fa",
                    "symbol": "circle"
                  },
                  "mode": "markers",
                  "name": "39",
                  "orientation": "v",
                  "showlegend": true,
                  "type": "scatter",
                  "x": {
                    "bdata": "P/ofQbnZG0E=",
                    "dtype": "f4"
                  },
                  "xaxis": "x",
                  "y": {
                    "bdata": "vNBzP+xEdD8=",
                    "dtype": "f4"
                  },
                  "yaxis": "y"
                },
                {
                  "customdata": [
                    [
                      "Orient needle with both hands"
                    ],
                    [
                      "Orienting needles"
                    ]
                  ],
                  "hovertemplate": "color=36<br>x=%{x}<br>y=%{y}<br>gesture_name=%{customdata[0]}<extra></extra>",
                  "legendgroup": "36",
                  "marker": {
                    "color": "#FFA15A",
                    "symbol": "circle"
                  },
                  "mode": "markers",
                  "name": "36",
                  "orientation": "v",
                  "showlegend": true,
                  "type": "scatter",
                  "x": {
                    "bdata": "dOQ6QSUHO0E=",
                    "dtype": "f4"
                  },
                  "xaxis": "x",
                  "y": {
                    "bdata": "QBdoP3BEgD8=",
                    "dtype": "f4"
                  },
                  "yaxis": "y"
                },
                {
                  "customdata": [
                    [
                      "Orient needle with two hands"
                    ],
                    [
                      "Positioning the tip of the needle"
                    ]
                  ],
                  "hovertemplate": "color=6<br>x=%{x}<br>y=%{y}<br>gesture_name=%{customdata[0]}<extra></extra>",
                  "legendgroup": "6",
                  "marker": {
                    "color": "#19d3f3",
                    "symbol": "circle"
                  },
                  "mode": "markers",
                  "name": "6",
                  "orientation": "v",
                  "showlegend": true,
                  "type": "scatter",
                  "x": {
                    "bdata": "+pErQUVZKUE=",
                    "dtype": "f4"
                  },
                  "xaxis": "x",
                  "y": {
                    "bdata": "8FFjP1vGQj8=",
                    "dtype": "f4"
                  },
                  "yaxis": "y"
                },
                {
                  "customdata": [
                    [
                      "Orienting needle"
                    ],
                    [
                      "Straightening/orienting needle"
                    ]
                  ],
                  "hovertemplate": "color=26<br>x=%{x}<br>y=%{y}<br>gesture_name=%{customdata[0]}<extra></extra>",
                  "legendgroup": "26",
                  "marker": {
                    "color": "#FF6692",
                    "symbol": "circle"
                  },
                  "mode": "markers",
                  "name": "26",
                  "orientation": "v",
                  "showlegend": true,
                  "type": "scatter",
                  "x": {
                    "bdata": "G6k7Qb7EMkE=",
                    "dtype": "f4"
                  },
                  "xaxis": "x",
                  "y": {
                    "bdata": "9HuvP998fD8=",
                    "dtype": "f4"
                  },
                  "yaxis": "y"
                },
                {
                  "customdata": [
                    [
                      "Orienting needle with left hand"
                    ],
                    [
                      "Positioning needle with left hand"
                    ],
                    [
                      "Positioning needle with right hand"
                    ]
                  ],
                  "hovertemplate": "color=63<br>x=%{x}<br>y=%{y}<br>gesture_name=%{customdata[0]}<extra></extra>",
                  "legendgroup": "63",
                  "marker": {
                    "color": "#B6E880",
                    "symbol": "circle"
                  },
                  "mode": "markers",
                  "name": "63",
                  "orientation": "v",
                  "showlegend": true,
                  "type": "scatter",
                  "x": {
                    "bdata": "8Ng/QRrdQUFnOT1B",
                    "dtype": "f4"
                  },
                  "xaxis": "x",
                  "y": {
                    "bdata": "cRhvP3AUhD9TCFc/",
                    "dtype": "f4"
                  },
                  "yaxis": "y"
                },
                {
                  "customdata": [
                    [
                      "Pull needle"
                    ],
                    [
                      "Pulling needle"
                    ],
                    [
                      "Rotate needle trough skin"
                    ],
                    [
                      "Rotating or pulling the needle out of the skin or tissue"
                    ]
                  ],
                  "hovertemplate": "color=42<br>x=%{x}<br>y=%{y}<br>gesture_name=%{customdata[0]}<extra></extra>",
                  "legendgroup": "42",
                  "marker": {
                    "color": "#FF97FF",
                    "symbol": "circle"
                  },
                  "mode": "markers",
                  "name": "42",
                  "orientation": "v",
                  "showlegend": true,
                  "type": "scatter",
                  "x": {
                    "bdata": "jOIVQTysGUFXfRlBx2EYQQ==",
                    "dtype": "f4"
                  },
                  "xaxis": "x",
                  "y": {
                    "bdata": "YevzP9+N+z/pkKc/yKfKPw==",
                    "dtype": "f4"
                  },
                  "yaxis": "y"
                },
                {
                  "customdata": [
                    [
                      "pull suture with left hand"
                    ],
                    [
                      "pull suture with right hand"
                    ]
                  ],
                  "hovertemplate": "color=50<br>x=%{x}<br>y=%{y}<br>gesture_name=%{customdata[0]}<extra></extra>",
                  "legendgroup": "50",
                  "marker": {
                    "color": "#FECB52",
                    "symbol": "circle"
                  },
                  "mode": "markers",
                  "name": "50",
                  "orientation": "v",
                  "showlegend": true,
                  "type": "scatter",
                  "x": {
                    "bdata": "FWpIQcqUR0E=",
                    "dtype": "f4"
                  },
                  "xaxis": "x",
                  "y": {
                    "bdata": "jIKyQAWZtkA=",
                    "dtype": "f4"
                  },
                  "yaxis": "y"
                },
                {
                  "customdata": [
                    [
                      "Pulling suture with left hand"
                    ],
                    [
                      "Pulling suture with right hand"
                    ]
                  ],
                  "hovertemplate": "color=55<br>x=%{x}<br>y=%{y}<br>gesture_name=%{customdata[0]}<extra></extra>",
                  "legendgroup": "55",
                  "marker": {
                    "color": "#636efa",
                    "symbol": "circle"
                  },
                  "mode": "markers",
                  "name": "55",
                  "orientation": "v",
                  "showlegend": true,
                  "type": "scatter",
                  "x": {
                    "bdata": "HaZJQasNSUE=",
                    "dtype": "f4"
                  },
                  "xaxis": "x",
                  "y": {
                    "bdata": "Gei5QBE8uUA=",
                    "dtype": "f4"
                  },
                  "yaxis": "y"
                },
                {
                  "customdata": [
                    [
                      "Pushing needle through tissue with left hand"
                    ],
                    [
                      "Pushing needle through tissue with right hand"
                    ]
                  ],
                  "hovertemplate": "color=59<br>x=%{x}<br>y=%{y}<br>gesture_name=%{customdata[0]}<extra></extra>",
                  "legendgroup": "59",
                  "marker": {
                    "color": "#EF553B",
                    "symbol": "circle"
                  },
                  "mode": "markers",
                  "name": "59",
                  "orientation": "v",
                  "showlegend": true,
                  "type": "scatter",
                  "x": {
                    "bdata": "edZEQTiqQkE=",
                    "dtype": "f4"
                  },
                  "xaxis": "x",
                  "y": {
                    "bdata": "2I6KP7G3jD8=",
                    "dtype": "f4"
                  },
                  "yaxis": "y"
                },
                {
                  "customdata": [
                    [
                      "Reach for needle"
                    ],
                    [
                      "Reaching for needle with left hand"
                    ],
                    [
                      "Reaching for needle with right hand"
                    ]
                  ],
                  "hovertemplate": "color=62<br>x=%{x}<br>y=%{y}<br>gesture_name=%{customdata[0]}<extra></extra>",
                  "legendgroup": "62",
                  "marker": {
                    "color": "#00cc96",
                    "symbol": "circle"
                  },
                  "mode": "markers",
                  "name": "62",
                  "orientation": "v",
                  "showlegend": true,
                  "type": "scatter",
                  "x": {
                    "bdata": "P0I7QXPiQkGStEFB",
                    "dtype": "f4"
                  },
                  "xaxis": "x",
                  "y": {
                    "bdata": "Un/xP9s9xj9ii9Q/",
                    "dtype": "f4"
                  },
                  "yaxis": "y"
                },
                {
                  "customdata": [
                    [
                      "Reach for suture with right grasper"
                    ],
                    [
                      "Reaching for suture with right hand"
                    ],
                    [
                      "Right hand reaches for suture"
                    ],
                    [
                      "Using right hand to help tighten suture"
                    ]
                  ],
                  "hovertemplate": "color=61<br>x=%{x}<br>y=%{y}<br>gesture_name=%{customdata[0]}<extra></extra>",
                  "legendgroup": "61",
                  "marker": {
                    "color": "#ab63fa",
                    "symbol": "circle"
                  },
                  "mode": "markers",
                  "name": "61",
                  "orientation": "v",
                  "showlegend": true,
                  "type": "scatter",
                  "x": {
                    "bdata": "YoJFQUp/RkH1I0hBn/9JQQ==",
                    "dtype": "f4"
                  },
                  "xaxis": "x",
                  "y": {
                    "bdata": "sj2zQJ0Xs0AGILFAEnWyQA==",
                    "dtype": "f4"
                  },
                  "yaxis": "y"
                },
                {
                  "customdata": [
                    [
                      "Transferring needle from left to right"
                    ],
                    [
                      "Transferring needle from right to left"
                    ]
                  ],
                  "hovertemplate": "color=60<br>x=%{x}<br>y=%{y}<br>gesture_name=%{customdata[0]}<extra></extra>",
                  "legendgroup": "60",
                  "marker": {
                    "color": "#FFA15A",
                    "symbol": "circle"
                  },
                  "mode": "markers",
                  "name": "60",
                  "orientation": "v",
                  "showlegend": true,
                  "type": "scatter",
                  "x": {
                    "bdata": "YgJFQZ6jREE=",
                    "dtype": "f4"
                  },
                  "xaxis": "x",
                  "y": {
                    "bdata": "O1CxPwOEoj8=",
                    "dtype": "f4"
                  },
                  "yaxis": "y"
                },
                {
                  "customdata": [
                    [
                      "Wrist rotation"
                    ],
                    [
                      "Wrist rotation needle withdrawal"
                    ]
                  ],
                  "hovertemplate": "color=4<br>x=%{x}<br>y=%{y}<br>gesture_name=%{customdata[0]}<extra></extra>",
                  "legendgroup": "4",
                  "marker": {
                    "color": "#19d3f3",
                    "symbol": "circle"
                  },
                  "mode": "markers",
                  "name": "4",
                  "orientation": "v",
                  "showlegend": true,
                  "type": "scatter",
                  "x": {
                    "bdata": "xFwwQcrUL0E=",
                    "dtype": "f4"
                  },
                  "xaxis": "x",
                  "y": {
                    "bdata": "ZFU8QDDMQkA=",
                    "dtype": "f4"
                  },
                  "yaxis": "y"
                }
              ],
              "layout": {
                "legend": {
                  "title": {
                    "text": "color"
                  },
                  "tracegroupgap": 0
                },
                "margin": {
                  "t": 60
                },
                "template": {
                  "data": {
                    "bar": [
                      {
                        "error_x": {
                          "color": "#2a3f5f"
                        },
                        "error_y": {
                          "color": "#2a3f5f"
                        },
                        "marker": {
                          "line": {
                            "color": "#E5ECF6",
                            "width": 0.5
                          },
                          "pattern": {
                            "fillmode": "overlay",
                            "size": 10,
                            "solidity": 0.2
                          }
                        },
                        "type": "bar"
                      }
                    ],
                    "barpolar": [
                      {
                        "marker": {
                          "line": {
                            "color": "#E5ECF6",
                            "width": 0.5
                          },
                          "pattern": {
                            "fillmode": "overlay",
                            "size": 10,
                            "solidity": 0.2
                          }
                        },
                        "type": "barpolar"
                      }
                    ],
                    "carpet": [
                      {
                        "aaxis": {
                          "endlinecolor": "#2a3f5f",
                          "gridcolor": "white",
                          "linecolor": "white",
                          "minorgridcolor": "white",
                          "startlinecolor": "#2a3f5f"
                        },
                        "baxis": {
                          "endlinecolor": "#2a3f5f",
                          "gridcolor": "white",
                          "linecolor": "white",
                          "minorgridcolor": "white",
                          "startlinecolor": "#2a3f5f"
                        },
                        "type": "carpet"
                      }
                    ],
                    "choropleth": [
                      {
                        "colorbar": {
                          "outlinewidth": 0,
                          "ticks": ""
                        },
                        "type": "choropleth"
                      }
                    ],
                    "contour": [
                      {
                        "colorbar": {
                          "outlinewidth": 0,
                          "ticks": ""
                        },
                        "colorscale": [
                          [
                            0,
                            "#0d0887"
                          ],
                          [
                            0.1111111111111111,
                            "#46039f"
                          ],
                          [
                            0.2222222222222222,
                            "#7201a8"
                          ],
                          [
                            0.3333333333333333,
                            "#9c179e"
                          ],
                          [
                            0.4444444444444444,
                            "#bd3786"
                          ],
                          [
                            0.5555555555555556,
                            "#d8576b"
                          ],
                          [
                            0.6666666666666666,
                            "#ed7953"
                          ],
                          [
                            0.7777777777777778,
                            "#fb9f3a"
                          ],
                          [
                            0.8888888888888888,
                            "#fdca26"
                          ],
                          [
                            1,
                            "#f0f921"
                          ]
                        ],
                        "type": "contour"
                      }
                    ],
                    "contourcarpet": [
                      {
                        "colorbar": {
                          "outlinewidth": 0,
                          "ticks": ""
                        },
                        "type": "contourcarpet"
                      }
                    ],
                    "heatmap": [
                      {
                        "colorbar": {
                          "outlinewidth": 0,
                          "ticks": ""
                        },
                        "colorscale": [
                          [
                            0,
                            "#0d0887"
                          ],
                          [
                            0.1111111111111111,
                            "#46039f"
                          ],
                          [
                            0.2222222222222222,
                            "#7201a8"
                          ],
                          [
                            0.3333333333333333,
                            "#9c179e"
                          ],
                          [
                            0.4444444444444444,
                            "#bd3786"
                          ],
                          [
                            0.5555555555555556,
                            "#d8576b"
                          ],
                          [
                            0.6666666666666666,
                            "#ed7953"
                          ],
                          [
                            0.7777777777777778,
                            "#fb9f3a"
                          ],
                          [
                            0.8888888888888888,
                            "#fdca26"
                          ],
                          [
                            1,
                            "#f0f921"
                          ]
                        ],
                        "type": "heatmap"
                      }
                    ],
                    "histogram": [
                      {
                        "marker": {
                          "pattern": {
                            "fillmode": "overlay",
                            "size": 10,
                            "solidity": 0.2
                          }
                        },
                        "type": "histogram"
                      }
                    ],
                    "histogram2d": [
                      {
                        "colorbar": {
                          "outlinewidth": 0,
                          "ticks": ""
                        },
                        "colorscale": [
                          [
                            0,
                            "#0d0887"
                          ],
                          [
                            0.1111111111111111,
                            "#46039f"
                          ],
                          [
                            0.2222222222222222,
                            "#7201a8"
                          ],
                          [
                            0.3333333333333333,
                            "#9c179e"
                          ],
                          [
                            0.4444444444444444,
                            "#bd3786"
                          ],
                          [
                            0.5555555555555556,
                            "#d8576b"
                          ],
                          [
                            0.6666666666666666,
                            "#ed7953"
                          ],
                          [
                            0.7777777777777778,
                            "#fb9f3a"
                          ],
                          [
                            0.8888888888888888,
                            "#fdca26"
                          ],
                          [
                            1,
                            "#f0f921"
                          ]
                        ],
                        "type": "histogram2d"
                      }
                    ],
                    "histogram2dcontour": [
                      {
                        "colorbar": {
                          "outlinewidth": 0,
                          "ticks": ""
                        },
                        "colorscale": [
                          [
                            0,
                            "#0d0887"
                          ],
                          [
                            0.1111111111111111,
                            "#46039f"
                          ],
                          [
                            0.2222222222222222,
                            "#7201a8"
                          ],
                          [
                            0.3333333333333333,
                            "#9c179e"
                          ],
                          [
                            0.4444444444444444,
                            "#bd3786"
                          ],
                          [
                            0.5555555555555556,
                            "#d8576b"
                          ],
                          [
                            0.6666666666666666,
                            "#ed7953"
                          ],
                          [
                            0.7777777777777778,
                            "#fb9f3a"
                          ],
                          [
                            0.8888888888888888,
                            "#fdca26"
                          ],
                          [
                            1,
                            "#f0f921"
                          ]
                        ],
                        "type": "histogram2dcontour"
                      }
                    ],
                    "mesh3d": [
                      {
                        "colorbar": {
                          "outlinewidth": 0,
                          "ticks": ""
                        },
                        "type": "mesh3d"
                      }
                    ],
                    "parcoords": [
                      {
                        "line": {
                          "colorbar": {
                            "outlinewidth": 0,
                            "ticks": ""
                          }
                        },
                        "type": "parcoords"
                      }
                    ],
                    "pie": [
                      {
                        "automargin": true,
                        "type": "pie"
                      }
                    ],
                    "scatter": [
                      {
                        "fillpattern": {
                          "fillmode": "overlay",
                          "size": 10,
                          "solidity": 0.2
                        },
                        "type": "scatter"
                      }
                    ],
                    "scatter3d": [
                      {
                        "line": {
                          "colorbar": {
                            "outlinewidth": 0,
                            "ticks": ""
                          }
                        },
                        "marker": {
                          "colorbar": {
                            "outlinewidth": 0,
                            "ticks": ""
                          }
                        },
                        "type": "scatter3d"
                      }
                    ],
                    "scattercarpet": [
                      {
                        "marker": {
                          "colorbar": {
                            "outlinewidth": 0,
                            "ticks": ""
                          }
                        },
                        "type": "scattercarpet"
                      }
                    ],
                    "scattergeo": [
                      {
                        "marker": {
                          "colorbar": {
                            "outlinewidth": 0,
                            "ticks": ""
                          }
                        },
                        "type": "scattergeo"
                      }
                    ],
                    "scattergl": [
                      {
                        "marker": {
                          "colorbar": {
                            "outlinewidth": 0,
                            "ticks": ""
                          }
                        },
                        "type": "scattergl"
                      }
                    ],
                    "scattermap": [
                      {
                        "marker": {
                          "colorbar": {
                            "outlinewidth": 0,
                            "ticks": ""
                          }
                        },
                        "type": "scattermap"
                      }
                    ],
                    "scattermapbox": [
                      {
                        "marker": {
                          "colorbar": {
                            "outlinewidth": 0,
                            "ticks": ""
                          }
                        },
                        "type": "scattermapbox"
                      }
                    ],
                    "scatterpolar": [
                      {
                        "marker": {
                          "colorbar": {
                            "outlinewidth": 0,
                            "ticks": ""
                          }
                        },
                        "type": "scatterpolar"
                      }
                    ],
                    "scatterpolargl": [
                      {
                        "marker": {
                          "colorbar": {
                            "outlinewidth": 0,
                            "ticks": ""
                          }
                        },
                        "type": "scatterpolargl"
                      }
                    ],
                    "scatterternary": [
                      {
                        "marker": {
                          "colorbar": {
                            "outlinewidth": 0,
                            "ticks": ""
                          }
                        },
                        "type": "scatterternary"
                      }
                    ],
                    "surface": [
                      {
                        "colorbar": {
                          "outlinewidth": 0,
                          "ticks": ""
                        },
                        "colorscale": [
                          [
                            0,
                            "#0d0887"
                          ],
                          [
                            0.1111111111111111,
                            "#46039f"
                          ],
                          [
                            0.2222222222222222,
                            "#7201a8"
                          ],
                          [
                            0.3333333333333333,
                            "#9c179e"
                          ],
                          [
                            0.4444444444444444,
                            "#bd3786"
                          ],
                          [
                            0.5555555555555556,
                            "#d8576b"
                          ],
                          [
                            0.6666666666666666,
                            "#ed7953"
                          ],
                          [
                            0.7777777777777778,
                            "#fb9f3a"
                          ],
                          [
                            0.8888888888888888,
                            "#fdca26"
                          ],
                          [
                            1,
                            "#f0f921"
                          ]
                        ],
                        "type": "surface"
                      }
                    ],
                    "table": [
                      {
                        "cells": {
                          "fill": {
                            "color": "#EBF0F8"
                          },
                          "line": {
                            "color": "white"
                          }
                        },
                        "header": {
                          "fill": {
                            "color": "#C8D4E3"
                          },
                          "line": {
                            "color": "white"
                          }
                        },
                        "type": "table"
                      }
                    ]
                  },
                  "layout": {
                    "annotationdefaults": {
                      "arrowcolor": "#2a3f5f",
                      "arrowhead": 0,
                      "arrowwidth": 1
                    },
                    "autotypenumbers": "strict",
                    "coloraxis": {
                      "colorbar": {
                        "outlinewidth": 0,
                        "ticks": ""
                      }
                    },
                    "colorscale": {
                      "diverging": [
                        [
                          0,
                          "#8e0152"
                        ],
                        [
                          0.1,
                          "#c51b7d"
                        ],
                        [
                          0.2,
                          "#de77ae"
                        ],
                        [
                          0.3,
                          "#f1b6da"
                        ],
                        [
                          0.4,
                          "#fde0ef"
                        ],
                        [
                          0.5,
                          "#f7f7f7"
                        ],
                        [
                          0.6,
                          "#e6f5d0"
                        ],
                        [
                          0.7,
                          "#b8e186"
                        ],
                        [
                          0.8,
                          "#7fbc41"
                        ],
                        [
                          0.9,
                          "#4d9221"
                        ],
                        [
                          1,
                          "#276419"
                        ]
                      ],
                      "sequential": [
                        [
                          0,
                          "#0d0887"
                        ],
                        [
                          0.1111111111111111,
                          "#46039f"
                        ],
                        [
                          0.2222222222222222,
                          "#7201a8"
                        ],
                        [
                          0.3333333333333333,
                          "#9c179e"
                        ],
                        [
                          0.4444444444444444,
                          "#bd3786"
                        ],
                        [
                          0.5555555555555556,
                          "#d8576b"
                        ],
                        [
                          0.6666666666666666,
                          "#ed7953"
                        ],
                        [
                          0.7777777777777778,
                          "#fb9f3a"
                        ],
                        [
                          0.8888888888888888,
                          "#fdca26"
                        ],
                        [
                          1,
                          "#f0f921"
                        ]
                      ],
                      "sequentialminus": [
                        [
                          0,
                          "#0d0887"
                        ],
                        [
                          0.1111111111111111,
                          "#46039f"
                        ],
                        [
                          0.2222222222222222,
                          "#7201a8"
                        ],
                        [
                          0.3333333333333333,
                          "#9c179e"
                        ],
                        [
                          0.4444444444444444,
                          "#bd3786"
                        ],
                        [
                          0.5555555555555556,
                          "#d8576b"
                        ],
                        [
                          0.6666666666666666,
                          "#ed7953"
                        ],
                        [
                          0.7777777777777778,
                          "#fb9f3a"
                        ],
                        [
                          0.8888888888888888,
                          "#fdca26"
                        ],
                        [
                          1,
                          "#f0f921"
                        ]
                      ]
                    },
                    "colorway": [
                      "#636efa",
                      "#EF553B",
                      "#00cc96",
                      "#ab63fa",
                      "#FFA15A",
                      "#19d3f3",
                      "#FF6692",
                      "#B6E880",
                      "#FF97FF",
                      "#FECB52"
                    ],
                    "font": {
                      "color": "#2a3f5f"
                    },
                    "geo": {
                      "bgcolor": "white",
                      "lakecolor": "white",
                      "landcolor": "#E5ECF6",
                      "showlakes": true,
                      "showland": true,
                      "subunitcolor": "white"
                    },
                    "hoverlabel": {
                      "align": "left"
                    },
                    "hovermode": "closest",
                    "mapbox": {
                      "style": "light"
                    },
                    "paper_bgcolor": "white",
                    "plot_bgcolor": "#E5ECF6",
                    "polar": {
                      "angularaxis": {
                        "gridcolor": "white",
                        "linecolor": "white",
                        "ticks": ""
                      },
                      "bgcolor": "#E5ECF6",
                      "radialaxis": {
                        "gridcolor": "white",
                        "linecolor": "white",
                        "ticks": ""
                      }
                    },
                    "scene": {
                      "xaxis": {
                        "backgroundcolor": "#E5ECF6",
                        "gridcolor": "white",
                        "gridwidth": 2,
                        "linecolor": "white",
                        "showbackground": true,
                        "ticks": "",
                        "zerolinecolor": "white"
                      },
                      "yaxis": {
                        "backgroundcolor": "#E5ECF6",
                        "gridcolor": "white",
                        "gridwidth": 2,
                        "linecolor": "white",
                        "showbackground": true,
                        "ticks": "",
                        "zerolinecolor": "white"
                      },
                      "zaxis": {
                        "backgroundcolor": "#E5ECF6",
                        "gridcolor": "white",
                        "gridwidth": 2,
                        "linecolor": "white",
                        "showbackground": true,
                        "ticks": "",
                        "zerolinecolor": "white"
                      }
                    },
                    "shapedefaults": {
                      "line": {
                        "color": "#2a3f5f"
                      }
                    },
                    "ternary": {
                      "aaxis": {
                        "gridcolor": "white",
                        "linecolor": "white",
                        "ticks": ""
                      },
                      "baxis": {
                        "gridcolor": "white",
                        "linecolor": "white",
                        "ticks": ""
                      },
                      "bgcolor": "#E5ECF6",
                      "caxis": {
                        "gridcolor": "white",
                        "linecolor": "white",
                        "ticks": ""
                      }
                    },
                    "title": {
                      "x": 0.05
                    },
                    "xaxis": {
                      "automargin": true,
                      "gridcolor": "white",
                      "linecolor": "white",
                      "ticks": "",
                      "title": {
                        "standoff": 15
                      },
                      "zerolinecolor": "white",
                      "zerolinewidth": 2
                    },
                    "yaxis": {
                      "automargin": true,
                      "gridcolor": "white",
                      "linecolor": "white",
                      "ticks": "",
                      "title": {
                        "standoff": 15
                      },
                      "zerolinecolor": "white",
                      "zerolinewidth": 2
                    }
                  }
                },
                "xaxis": {
                  "anchor": "y",
                  "domain": [
                    0,
                    1
                  ],
                  "title": {
                    "text": "x"
                  }
                },
                "yaxis": {
                  "anchor": "x",
                  "domain": [
                    0,
                    1
                  ],
                  "title": {
                    "text": "y"
                  }
                }
              }
            }
          },
          "metadata": {},
          "output_type": "display_data"
        }
      ],
      "source": [
        "# Visualization\n",
        "viz_df = pd.DataFrame({\n",
        "    'gesture_name': df['gesture_name'],\n",
        "    'x': embedding_2d[:, 0],\n",
        "    'y': embedding_2d[:, 1],\n",
        "    'cluster': labels\n",
        "})\n",
        "\n",
        "fig = px.scatter(viz_df, x='x', y='y', color=viz_df['cluster'].astype(str), hover_data=['gesture_name'])\n",
        "fig.show()"
      ]
    }
  ],
  "metadata": {
    "colab": {
      "provenance": []
    },
    "kernelspec": {
      "display_name": "Python 3",
      "name": "python3"
    },
    "language_info": {
      "codemirror_mode": {
        "name": "ipython",
        "version": 3
      },
      "file_extension": ".py",
      "mimetype": "text/x-python",
      "name": "python",
      "nbconvert_exporter": "python",
      "pygments_lexer": "ipython3",
      "version": "3.13.3"
    }
  },
  "nbformat": 4,
  "nbformat_minor": 0
}
