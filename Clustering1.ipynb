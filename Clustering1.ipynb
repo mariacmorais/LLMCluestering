{
  "cells": [
    {
      "cell_type": "code",
      "execution_count": 7,
      "metadata": {
        "colab": {
          "base_uri": "https://localhost:8080/"
        },
        "id": "iH9bnuthEGou",
        "outputId": "7a286837-2ba2-438e-8906-3f2b0cd29e9d"
      },
      "outputs": [
        {
          "name": "stdout",
          "output_type": "stream",
          "text": [
            "OPENAI_API_KEY set in this kernel (not saved to disk).\n"
          ]
        }
      ],
      "source": [
        "# Securely prompt for OpenAI API key (won't be saved in the notebook file)\n",
        "import getpass\n",
        "import os\n",
        "key = getpass.getpass(\"Enter your OpenAI API key (input hidden): \")\n",
        "if key:\n",
        "    os.environ[\"OPENAI_API_KEY\"] = key\n",
        "    print(\"OPENAI_API_KEY set in this kernel (not saved to disk).\")\n",
        "else:\n",
        "    print(\"No key entered; OPENAI_API_KEY not set.\")"
      ]
    },
    {
      "cell_type": "code",
      "execution_count": 1,
      "metadata": {
        "colab": {
          "base_uri": "https://localhost:8080/"
        },
        "id": "I9qPcXXeEDgl",
        "outputId": "392c94f6-a971-4f56-9ce1-b9a3c842418b"
      },
      "outputs": [],
      "source": [
        "import pandas as pd\n",
        "import openai\n",
        "import numpy as np\n",
        "from sklearn.decomposition import PCA\n",
        "import umap\n",
        "import hdbscan\n",
        "import plotly.express as px"
      ]
    },
    {
      "cell_type": "code",
      "execution_count": 2,
      "metadata": {
        "id": "olC2W0AB24vE"
      },
      "outputs": [],
      "source": [
        "# Resilient embeddings helper\n",
        "import time\n",
        "import random\n",
        "import hashlib\n",
        "import json\n",
        "import os"
      ]
    },
    {
      "cell_type": "code",
      "execution_count": 3,
      "metadata": {
        "id": "kg6qGC-2260W"
      },
      "outputs": [],
      "source": [
        "# Load CSV\n",
        "df = pd.read_csv(\"full_list.csv\", delimiter=';')\n",
        "definitions = df['gesture_definition'].fillna('').tolist()"
      ]
    },
    {
      "cell_type": "code",
      "execution_count": 4,
      "metadata": {
        "id": "ME_zR-742_NC"
      },
      "outputs": [],
      "source": [
        "# OpenAI client import (works with new and older SDKs)\n",
        "import os\n",
        "from openai import OpenAI\n",
        "# Try to import SDK-specific exception classes, but fall back if not present.\n",
        "try:\n",
        "    from openai.error import RateLimitError, OpenAIError  # modern SDK\n",
        "except Exception:\n",
        "    # Fallback placeholders so code can still check exception types by name/str\n",
        "    class RateLimitError(Exception):\n",
        "        pass\n",
        "    class OpenAIError(Exception):\n",
        "        pass\n",
        "\n",
        "# --- CONFIG ---\n",
        "CACHE_FILE = \"embeddings_cache.json\"   # local cache file\n",
        "BATCH_SIZE = 8                          # number of texts per API call (tune down if you see rate limits)\n",
        "SLEEP_BETWEEN_BATCHES = 0.5             # seconds between batches\n",
        "MAX_RETRIES = 6\n",
        "MODEL_NAME = \"text-embedding-ada-002\"   # keep existing model or change per your account\n",
        "\n",
        "# Load or init cache\n",
        "if os.path.exists(CACHE_FILE):\n",
        "    try:\n",
        "        with open(CACHE_FILE, \"r\", encoding=\"utf-8\") as f:\n",
        "            embedding_cache = json.load(f)\n",
        "    except Exception:\n",
        "        embedding_cache = {}\n",
        "else:\n",
        "    embedding_cache = {}\n",
        "\n",
        "def _cache_key(text):\n",
        "    # deterministic small key for caching\n",
        "    return hashlib.sha256(text.encode(\"utf-8\")).hexdigest()\n",
        "\n",
        "def save_cache():\n",
        "    with open(CACHE_FILE + \".tmp\", \"w\", encoding=\"utf-8\") as f:\n",
        "        json.dump(embedding_cache, f)\n",
        "    os.replace(CACHE_FILE + \".tmp\", CACHE_FILE)\n",
        "\n",
        "def create_client_from_env():\n",
        "    # prefer picking key from env var OPENAI_API_KEY for security\n",
        "    return OpenAI()  # uses env var by default; adapt if you set api_key explicitly\n",
        "\n",
        "def _is_insufficient_quota(exc):\n",
        "    # Inspect exception text/response to detect insufficient quota; return True if quota problem\n",
        "    try:\n",
        "        txt = str(exc).lower()\n",
        "        if \"insufficient_quota\" in txt or \"quota\" in txt:\n",
        "            return True\n",
        "        # some SDK responses include a response dict with details\n",
        "        if hasattr(exc, 'response') and exc.response is not None:\n",
        "            try:\n",
        "                # if response has a .data or .text attribute, convert to str\n",
        "                resp_txt = str(exc.response).lower()\n",
        "                if \"insufficient_quota\" in resp_txt or \"quota\" in resp_txt:\n",
        "                    return True\n",
        "            except Exception:\n",
        "                pass\n",
        "    except Exception:\n",
        "        pass\n",
        "    return False\n",
        "\n",
        "\n",
        "def get_embedding_with_retry(client, text, model=MODEL_NAME, max_retries=MAX_RETRIES):\n",
        "    last_exc = None\n",
        "    for attempt in range(max_retries):\n",
        "        try:\n",
        "            resp = client.embeddings.create(input=[text], model=model)\n",
        "            return resp.data[0].embedding\n",
        "        except RateLimitError as e:\n",
        "            # If the error indicates insufficient quota, abort immediately so caller can fallback.\n",
        "            if _is_insufficient_quota(e):\n",
        "                # re-raise so higher level can detect and fallback\n",
        "                raise\n",
        "            last_exc = e\n",
        "            wait = (2 ** attempt) + random.random()\n",
        "            print(f\"RateLimitError (attempt {attempt+1}/{max_retries}). Retrying in {wait:.1f}s...\")\n",
        "            time.sleep(wait)\n",
        "        except OpenAIError as e:\n",
        "            # explicit SDK-level error (e.g. insufficient_quota)\n",
        "            print(\"OpenAI API error:\", e)\n",
        "            # If insufficient_quota, abort early — do not keep retrying\n",
        "            if _is_insufficient_quota(e):\n",
        "                raise\n",
        "            # otherwise re-raise (caller may decide to retry or fallback)\n",
        "            raise\n",
        "        except Exception as e:\n",
        "            # Generic fallback for SDK differences (inspects message/code)\n",
        "            last_exc = e\n",
        "            if _is_insufficient_quota(e):\n",
        "                # immediately surface quota issues so caller can fallback\n",
        "                raise\n",
        "            # treat other errors as possibly transient\n",
        "            print(\"Unexpected error calling embeddings (will retry):\", e)\n",
        "            time.sleep((2 ** attempt) + random.random())\n",
        "    raise RuntimeError(\"Max retries exceeded\") from last_exc\n",
        "\n",
        "def batch_get_embeddings(texts, client=None, batch_size=BATCH_SIZE, throttle=SLEEP_BETWEEN_BATCHES):\n",
        "    if client is None:\n",
        "        client = create_client_from_env()\n",
        "    embeddings = []\n",
        "    for i in range(0, len(texts), batch_size):\n",
        "        batch = texts[i:i+batch_size]\n",
        "        # check cache first\n",
        "        batch_emb = []\n",
        "        to_request = []\n",
        "        to_request_idx = []\n",
        "        for j, t in enumerate(batch):\n",
        "            key = _cache_key(t)\n",
        "            if key in embedding_cache:\n",
        "                batch_emb.append(embedding_cache[key])\n",
        "            else:\n",
        "                batch_emb.append(None)\n",
        "                to_request.append(t)\n",
        "                to_request_idx.append(j)\n",
        "        # request missing embeddings in small sub-batches (1 by 1 or grouped)\n",
        "        if to_request:\n",
        "            # We'll request individually with retry to get clearer error handling:\n",
        "            for idx, text in zip(to_request_idx, to_request):\n",
        "                try:\n",
        "                    emb = get_embedding_with_retry(client, text)\n",
        "                except OpenAIError as e:\n",
        "                    # If quota problems, re-raise so outer code can fallback\n",
        "                    if _is_insufficient_quota(e):\n",
        "                        raise\n",
        "                    else:\n",
        "                        raise\n",
        "                embedding_cache[_cache_key(text)] = emb\n",
        "                batch_emb[idx] = emb\n",
        "            save_cache()\n",
        "        embeddings.extend(batch_emb)\n",
        "        time.sleep(throttle)\n",
        "    return embeddings\n",
        "\n",
        "# Optional local fallback (sentence-transformers):\n",
        "def local_fallback_embeddings(texts, model_name=\"all-MiniLM-L6-v2\"):\n",
        "    try:\n",
        "        from sentence_transformers import SentenceTransformer\n",
        "    except Exception as e:\n",
        "        raise RuntimeError(\"sentence-transformers not installed. Install it with: pip install sentence-transformers\") from e\n",
        "    m = SentenceTransformer(model_name)\n",
        "    return m.encode(texts, show_progress_bar=False).tolist()\n",
        "\n",
        "\n",
        "# Note: do not create the client here automatically when editing — caller will create and call batch_get_embeddings\n"
      ]
    },
    {
      "cell_type": "code",
      "execution_count": 27,
      "metadata": {
        "colab": {
          "base_uri": "https://localhost:8080/"
        },
        "id": "y6qVjPBd3BW1",
        "outputId": "6e3b95f5-eb46-4a49-8eb4-c65e398ae1a7"
      },
      "outputs": [
        {
          "data": {
            "text/plain": [
              "{'cell_type': 'code',\n",
              " 'metadata': {'language': 'python'},\n",
              " 'source': ['client = create_client_from_env()',\n",
              "  'try:',\n",
              "  ' embeddings = batch_get_embeddings(definitions, client=client)',\n",
              "  'except Exception as e:',\n",
              "  \" print('API embeddings failed (likely quota). Falling back to local model:', e)\",\n",
              "  ' embeddings = local_fallback_embeddings(definitions)']}"
            ]
          },
          "execution_count": 27,
          "metadata": {},
          "output_type": "execute_result"
        }
      ],
      "source": [
        "{\n",
        "\"cell_type\":\"code\",\n",
        "\"metadata\":{\"language\":\"python\"},\n",
        "\"source\":[\n",
        "\"client = create_client_from_env()\",\n",
        "\"try:\",\n",
        "\" embeddings = batch_get_embeddings(definitions, client=client)\",\n",
        "\"except Exception as e:\",\n",
        "\" print('API embeddings failed (likely quota). Falling back to local model:', e)\",\n",
        "\" embeddings = local_fallback_embeddings(definitions)\"\n",
        "]\n",
        "}"
      ]
    },
    {
      "cell_type": "code",
      "execution_count": 5,
      "metadata": {
        "id": "f6LNtb6O3IT9"
      },
      "outputs": [],
      "source": [
        "from sklearn.feature_extraction.text import TfidfVectorizer\n",
        "from sklearn.decomposition import TruncatedSVD\n",
        "\n",
        "def local_fallback_embeddings(texts, n_components=384):  # Match OpenAI embedding dimension\n",
        "    \"\"\"Generate embeddings locally using TF-IDF + SVD.\"\"\"\n",
        "    # Convert texts to list if single string\n",
        "    if isinstance(texts, str):\n",
        "        texts = [texts]\n",
        "    elif isinstance(texts, dict):\n",
        "        texts = [item['text'] for item in texts]\n",
        "    \n",
        "    # Create embeddings using TF-IDF followed by dimensionality reduction\n",
        "    vectorizer = TfidfVectorizer(stop_words='english')\n",
        "    tfidf_matrix = vectorizer.fit_transform(texts)\n",
        "    \n",
        "    # Reduce to desired dimensionality (similar to sentence transformers)\n",
        "    svd = TruncatedSVD(n_components=n_components)\n",
        "    embeddings = svd.fit_transform(tfidf_matrix)\n",
        "    \n",
        "    return embeddings"
      ]
    },
    {
      "cell_type": "code",
      "execution_count": 29,
      "metadata": {},
      "outputs": [
        {
          "name": "stdout",
          "output_type": "stream",
          "text": [
            "\u001b[31mERROR: Could not find a version that satisfies the requirement torch==2.1.1 (from versions: none)\u001b[0m\u001b[31m\n",
            "\u001b[0m\u001b[31mERROR: No matching distribution found for torch==2.1.1\u001b[0m\u001b[31m\n",
            "\u001b[0m\u001b[31mERROR: No matching distribution found for torch==2.1.1\u001b[0m\u001b[31m\n",
            "\u001b[0mRequirement already satisfied: sentence-transformers==2.2.2 in /opt/miniconda3/lib/python3.13/site-packages (2.2.2)\n",
            "Requirement already satisfied: sentence-transformers==2.2.2 in /opt/miniconda3/lib/python3.13/site-packages (2.2.2)\n",
            "Requirement already satisfied: transformers in /opt/miniconda3/lib/python3.13/site-packages (4.57.1)\n",
            "Requirement already satisfied: tqdm in /opt/miniconda3/lib/python3.13/site-packages (4.67.1)\n",
            "Requirement already satisfied: numpy in /opt/miniconda3/lib/python3.13/site-packages (2.2.6)\n",
            "Requirement already satisfied: scikit-learn in /opt/miniconda3/lib/python3.13/site-packages (1.7.2)\n",
            "Requirement already satisfied: filelock in /opt/miniconda3/lib/python3.13/site-packages (from transformers) (3.20.0)\n",
            "Requirement already satisfied: huggingface-hub<1.0,>=0.34.0 in /opt/miniconda3/lib/python3.13/site-packages (from transformers) (0.36.0)\n",
            "Requirement already satisfied: packaging>=20.0 in /opt/miniconda3/lib/python3.13/site-packages (from transformers) (25.0)\n",
            "Requirement already satisfied: pyyaml>=5.1 in /opt/miniconda3/lib/python3.13/site-packages (from transformers) (6.0.3)\n",
            "Requirement already satisfied: regex!=2019.12.17 in /opt/miniconda3/lib/python3.13/site-packages (from transformers) (2025.10.23)\n",
            "Requirement already satisfied: requests in /opt/miniconda3/lib/python3.13/site-packages (from transformers) (2.32.4)\n",
            "Requirement already satisfied: tokenizers<=0.23.0,>=0.22.0 in /opt/miniconda3/lib/python3.13/site-packages (from transformers) (0.22.1)\n",
            "Requirement already satisfied: safetensors>=0.4.3 in /opt/miniconda3/lib/python3.13/site-packages (from transformers) (0.6.2)\n",
            "Requirement already satisfied: transformers in /opt/miniconda3/lib/python3.13/site-packages (4.57.1)\n",
            "Requirement already satisfied: tqdm in /opt/miniconda3/lib/python3.13/site-packages (4.67.1)\n",
            "Requirement already satisfied: numpy in /opt/miniconda3/lib/python3.13/site-packages (2.2.6)\n",
            "Requirement already satisfied: scikit-learn in /opt/miniconda3/lib/python3.13/site-packages (1.7.2)\n",
            "Requirement already satisfied: filelock in /opt/miniconda3/lib/python3.13/site-packages (from transformers) (3.20.0)\n",
            "Requirement already satisfied: huggingface-hub<1.0,>=0.34.0 in /opt/miniconda3/lib/python3.13/site-packages (from transformers) (0.36.0)\n",
            "Requirement already satisfied: packaging>=20.0 in /opt/miniconda3/lib/python3.13/site-packages (from transformers) (25.0)\n",
            "Requirement already satisfied: pyyaml>=5.1 in /opt/miniconda3/lib/python3.13/site-packages (from transformers) (6.0.3)\n",
            "Requirement already satisfied: regex!=2019.12.17 in /opt/miniconda3/lib/python3.13/site-packages (from transformers) (2025.10.23)\n",
            "Requirement already satisfied: requests in /opt/miniconda3/lib/python3.13/site-packages (from transformers) (2.32.4)\n",
            "Requirement already satisfied: tokenizers<=0.23.0,>=0.22.0 in /opt/miniconda3/lib/python3.13/site-packages (from transformers) (0.22.1)\n",
            "Requirement already satisfied: safetensors>=0.4.3 in /opt/miniconda3/lib/python3.13/site-packages (from transformers) (0.6.2)\n",
            "Requirement already satisfied: fsspec>=2023.5.0 in /opt/miniconda3/lib/python3.13/site-packages (from huggingface-hub<1.0,>=0.34.0->transformers) (2025.7.0)\n",
            "Requirement already satisfied: hf-xet<2.0.0,>=1.1.3 in /opt/miniconda3/lib/python3.13/site-packages (from huggingface-hub<1.0,>=0.34.0->transformers) (1.2.0)\n",
            "Requirement already satisfied: typing-extensions>=3.7.4.3 in /opt/miniconda3/lib/python3.13/site-packages (from huggingface-hub<1.0,>=0.34.0->transformers) (4.12.2)\n",
            "Requirement already satisfied: fsspec>=2023.5.0 in /opt/miniconda3/lib/python3.13/site-packages (from huggingface-hub<1.0,>=0.34.0->transformers) (2025.7.0)\n",
            "Requirement already satisfied: hf-xet<2.0.0,>=1.1.3 in /opt/miniconda3/lib/python3.13/site-packages (from huggingface-hub<1.0,>=0.34.0->transformers) (1.2.0)\n",
            "Requirement already satisfied: typing-extensions>=3.7.4.3 in /opt/miniconda3/lib/python3.13/site-packages (from huggingface-hub<1.0,>=0.34.0->transformers) (4.12.2)\n",
            "Requirement already satisfied: scipy>=1.8.0 in /opt/miniconda3/lib/python3.13/site-packages (from scikit-learn) (1.16.0)\n",
            "Requirement already satisfied: joblib>=1.2.0 in /opt/miniconda3/lib/python3.13/site-packages (from scikit-learn) (1.5.2)\n",
            "Requirement already satisfied: threadpoolctl>=3.1.0 in /opt/miniconda3/lib/python3.13/site-packages (from scikit-learn) (3.6.0)\n",
            "Requirement already satisfied: scipy>=1.8.0 in /opt/miniconda3/lib/python3.13/site-packages (from scikit-learn) (1.16.0)\n",
            "Requirement already satisfied: joblib>=1.2.0 in /opt/miniconda3/lib/python3.13/site-packages (from scikit-learn) (1.5.2)\n",
            "Requirement already satisfied: threadpoolctl>=3.1.0 in /opt/miniconda3/lib/python3.13/site-packages (from scikit-learn) (3.6.0)\n",
            "Requirement already satisfied: charset_normalizer<4,>=2 in /opt/miniconda3/lib/python3.13/site-packages (from requests->transformers) (3.3.2)\n",
            "Requirement already satisfied: idna<4,>=2.5 in /opt/miniconda3/lib/python3.13/site-packages (from requests->transformers) (3.7)\n",
            "Requirement already satisfied: urllib3<3,>=1.21.1 in /opt/miniconda3/lib/python3.13/site-packages (from requests->transformers) (2.5.0)\n",
            "Requirement already satisfied: certifi>=2017.4.17 in /opt/miniconda3/lib/python3.13/site-packages (from requests->transformers) (2025.10.5)\n",
            "Requirement already satisfied: charset_normalizer<4,>=2 in /opt/miniconda3/lib/python3.13/site-packages (from requests->transformers) (3.3.2)\n",
            "Requirement already satisfied: idna<4,>=2.5 in /opt/miniconda3/lib/python3.13/site-packages (from requests->transformers) (3.7)\n",
            "Requirement already satisfied: urllib3<3,>=1.21.1 in /opt/miniconda3/lib/python3.13/site-packages (from requests->transformers) (2.5.0)\n",
            "Requirement already satisfied: certifi>=2017.4.17 in /opt/miniconda3/lib/python3.13/site-packages (from requests->transformers) (2025.10.5)\n"
          ]
        }
      ],
      "source": [
        "# Install required packages\n",
        "import sys\n",
        "!pip install --no-deps torch==2.1.1\n",
        "!pip install --no-deps sentence-transformers==2.2.2\n",
        "!pip install transformers tqdm numpy scikit-learn"
      ]
    },
    {
      "cell_type": "code",
      "execution_count": 8,
      "metadata": {
        "id": "qX935AYO3KNy"
      },
      "outputs": [],
      "source": [
        "# Generate embeddings using batch helper with fallback\n",
        "client = create_client_from_env()\n",
        "try:\n",
        "    embeddings = batch_get_embeddings(definitions, client=client)\n",
        "except Exception as e:\n",
        "    print('API embeddings failed. Falling back to local model:', e)\n",
        "    embeddings = local_fallback_embeddings(definitions)"
      ]
    },
    {
      "cell_type": "code",
      "execution_count": 9,
      "metadata": {
        "colab": {
          "base_uri": "https://localhost:8080/"
        },
        "id": "gWyCmX9u3MFn",
        "outputId": "0ea2fe7c-1201-4f71-94ca-39d11553a486"
      },
      "outputs": [
        {
          "name": "stderr",
          "output_type": "stream",
          "text": [
            "/Library/Frameworks/Python.framework/Versions/3.13/lib/python3.13/site-packages/umap/umap_.py:1952: UserWarning: n_jobs value 1 overridden to 1 by setting random_state. Use no seed for parallelism.\n",
            "  warn(\n"
          ]
        }
      ],
      "source": [
        "# Dimensionality reduction\n",
        "reducer = umap.UMAP(n_components=2, random_state=42)\n",
        "embedding_2d = reducer.fit_transform(embeddings)"
      ]
    },
    {
      "cell_type": "code",
      "execution_count": 10,
      "metadata": {
        "colab": {
          "base_uri": "https://localhost:8080/"
        },
        "id": "Q0-e6BBo3Npn",
        "outputId": "5bb7eb6d-ef2a-45d2-ada9-85688a26b387"
      },
      "outputs": [
        {
          "name": "stderr",
          "output_type": "stream",
          "text": [
            "/Library/Frameworks/Python.framework/Versions/3.13/lib/python3.13/site-packages/sklearn/utils/deprecation.py:132: FutureWarning: 'force_all_finite' was renamed to 'ensure_all_finite' in 1.6 and will be removed in 1.8.\n",
            "  warnings.warn(\n",
            "/Library/Frameworks/Python.framework/Versions/3.13/lib/python3.13/site-packages/sklearn/utils/deprecation.py:132: FutureWarning: 'force_all_finite' was renamed to 'ensure_all_finite' in 1.6 and will be removed in 1.8.\n",
            "  warnings.warn(\n"
          ]
        }
      ],
      "source": [
        "# Clustering\n",
        "clusterer = hdbscan.HDBSCAN(min_cluster_size=3)\n",
        "labels = clusterer.fit_predict(embedding_2d)"
      ]
    },
    {
      "cell_type": "code",
      "execution_count": 11,
      "metadata": {
        "colab": {
          "base_uri": "https://localhost:8080/",
          "height": 542
        },
        "id": "b9o8XJJt3QKC",
        "outputId": "7c526e50-e856-407b-ebf9-f26388f1f8f5"
      },
      "outputs": [
        {
          "data": {
            "application/vnd.plotly.v1+json": {
              "config": {
                "plotlyServerURL": "https://plot.ly"
              },
              "data": [
                {
                  "customdata": [
                    [
                      "Blunt dissect"
                    ],
                    [
                      "Cut"
                    ],
                    [
                      "Cauterize"
                    ],
                    [
                      "Clip"
                    ],
                    [
                      "Irrigate"
                    ],
                    [
                      "Suction"
                    ],
                    [
                      "Stick"
                    ]
                  ],
                  "hovertemplate": "color=2<br>x=%{x}<br>y=%{y}<br>gesture_name=%{customdata[0]}<extra></extra>",
                  "legendgroup": "2",
                  "marker": {
                    "color": "#636efa",
                    "symbol": "circle"
                  },
                  "mode": "markers",
                  "name": "2",
                  "orientation": "v",
                  "showlegend": true,
                  "type": "scatter",
                  "x": {
                    "bdata": "MaolQfJMKkGX7SVBWhgrQQBdJUGezydB4oklQQ==",
                    "dtype": "f4"
                  },
                  "xaxis": "x",
                  "y": {
                    "bdata": "AhcMQWmLD0GPUgtBC3IQQek0C0GuIw1BL18LQQ==",
                    "dtype": "f4"
                  },
                  "yaxis": "y"
                },
                {
                  "customdata": [
                    [
                      "Blunt dissection"
                    ],
                    [
                      "Hook"
                    ],
                    [
                      "Hook dissection"
                    ],
                    [
                      "Inefficient hook"
                    ],
                    [
                      "Push"
                    ]
                  ],
                  "hovertemplate": "color=20<br>x=%{x}<br>y=%{y}<br>gesture_name=%{customdata[0]}<extra></extra>",
                  "legendgroup": "20",
                  "marker": {
                    "color": "#EF553B",
                    "symbol": "circle"
                  },
                  "mode": "markers",
                  "name": "20",
                  "orientation": "v",
                  "showlegend": true,
                  "type": "scatter",
                  "x": {
                    "bdata": "azc8QSq1O0E4RTxBwIw6QWl0PEE=",
                    "dtype": "f4"
                  },
                  "xaxis": "x",
                  "y": {
                    "bdata": "fYcmQR2LJEEVXSRBYUYiQZSaJUE=",
                    "dtype": "f4"
                  },
                  "yaxis": "y"
                },
                {
                  "customdata": [
                    [
                      "Burn dissect"
                    ],
                    [
                      "Cold cut"
                    ],
                    [
                      "Hot cut"
                    ],
                    [
                      "Pedicalize"
                    ],
                    [
                      "Peel/push"
                    ],
                    [
                      "Spread"
                    ],
                    [
                      "Two-hand spread"
                    ],
                    [
                      "Coagulate then cut"
                    ],
                    [
                      "0's"
                    ]
                  ],
                  "hovertemplate": "color=0<br>x=%{x}<br>y=%{y}<br>gesture_name=%{customdata[0]}<extra></extra>",
                  "legendgroup": "0",
                  "marker": {
                    "color": "#00cc96",
                    "symbol": "circle"
                  },
                  "mode": "markers",
                  "name": "0",
                  "orientation": "v",
                  "showlegend": true,
                  "type": "scatter",
                  "x": {
                    "bdata": "PROWwMZLl8AgpJbAczaVwP4WmcAwfpfA0c6VwFIIk8CO85DA",
                    "dtype": "f4"
                  },
                  "xaxis": "x",
                  "y": {
                    "bdata": "4JOeQdnhnkEXuJ5BqlyeQaFUn0Ft7p5BmIKeQTLRnUHDS51B",
                    "dtype": "f4"
                  },
                  "yaxis": "y"
                },
                {
                  "customdata": [
                    [
                      "Cut cautery"
                    ],
                    [
                      "Cut ultrasonic"
                    ],
                    [
                      "Cutting"
                    ],
                    [
                      "Dissecting"
                    ],
                    [
                      "Regular Dissection"
                    ],
                    [
                      "Stapling"
                    ],
                    [
                      "Abdominal access"
                    ],
                    [
                      "Marking"
                    ]
                  ],
                  "hovertemplate": "color=12<br>x=%{x}<br>y=%{y}<br>gesture_name=%{customdata[0]}<extra></extra>",
                  "legendgroup": "12",
                  "marker": {
                    "color": "#ab63fa",
                    "symbol": "circle"
                  },
                  "mode": "markers",
                  "name": "12",
                  "orientation": "v",
                  "showlegend": true,
                  "type": "scatter",
                  "x": {
                    "bdata": "t4c5Qd9fN0Hk7zRBPHE1QfnJNEGPpDdB8x4xQZ/jOUE=",
                    "dtype": "f4"
                  },
                  "xaxis": "x",
                  "y": {
                    "bdata": "7rYqQU2QK0EBjC5BCpssQUdyLEEv6itBwnMvQe4iLUE=",
                    "dtype": "f4"
                  },
                  "yaxis": "y"
                },
                {
                  "customdata": [
                    [
                      "Cutting (high frequency)"
                    ],
                    [
                      "Cutting ends"
                    ],
                    [
                      "Dissect"
                    ],
                    [
                      "Dissection (blunt)"
                    ],
                    [
                      "Dissection (thermal)"
                    ],
                    [
                      "Peel"
                    ],
                    [
                      "Tissue bite"
                    ],
                    [
                      "Retract"
                    ],
                    [
                      "Resect"
                    ],
                    [
                      "Transection"
                    ]
                  ],
                  "hovertemplate": "color=10<br>x=%{x}<br>y=%{y}<br>gesture_name=%{customdata[0]}<extra></extra>",
                  "legendgroup": "10",
                  "marker": {
                    "color": "#FFA15A",
                    "symbol": "circle"
                  },
                  "mode": "markers",
                  "name": "10",
                  "orientation": "v",
                  "showlegend": true,
                  "type": "scatter",
                  "x": {
                    "bdata": "qA5CQZpcRkHftENBl4ZCQfekQkHDF0NBQ9FEQYuXQ0GkqERBMAxHQQ==",
                    "dtype": "f4"
                  },
                  "xaxis": "x",
                  "y": {
                    "bdata": "ppskQYCeL0GyuyhBklMoQVuRJUHysSpBxMYvQZR1KkFhGy1BiDotQQ==",
                    "dtype": "f4"
                  },
                  "yaxis": "y"
                },
                {
                  "customdata": [
                    [
                      "Dissection"
                    ],
                    [
                      "Application of clips"
                    ],
                    [
                      "Clipping"
                    ],
                    [
                      "Hemostatic control"
                    ],
                    [
                      "Wipe"
                    ],
                    [
                      "Adjustment gesture"
                    ],
                    [
                      "Camera move"
                    ],
                    [
                      "Endobag - In"
                    ],
                    [
                      "Endobag - Out"
                    ],
                    [
                      "Exchange"
                    ],
                    [
                      "Extract"
                    ],
                    [
                      "Idle position"
                    ],
                    [
                      "Sling (Hyst.)"
                    ],
                    [
                      "Sling-In"
                    ],
                    [
                      "Grasping anatomy"
                    ],
                    [
                      "Inefficient grasp"
                    ],
                    [
                      "Move"
                    ],
                    [
                      "Penetrating countertissue"
                    ],
                    [
                      "Touch"
                    ],
                    [
                      "Approach pole"
                    ],
                    [
                      "Drop"
                    ],
                    [
                      "End of trial"
                    ],
                    [
                      "Non-specific movement"
                    ],
                    [
                      "Placing"
                    ],
                    [
                      "Put"
                    ],
                    [
                      "Grab needle"
                    ],
                    [
                      "Grab – Pull - Run"
                    ],
                    [
                      "Grasping/orienting needle"
                    ],
                    [
                      "Gripper reconfiguration"
                    ],
                    [
                      "Hand-off"
                    ],
                    [
                      "Indirectly rotate"
                    ],
                    [
                      "Insert and push needle through tissue"
                    ],
                    [
                      "Insert needle/push needle through tissue"
                    ],
                    [
                      "Knot tie (Double/Single loop)"
                    ],
                    [
                      "Knotting"
                    ],
                    [
                      "Loosen up more suture"
                    ],
                    [
                      "Moving to center with needle in grip"
                    ],
                    [
                      "Needle grasping"
                    ],
                    [
                      "Needle handling"
                    ],
                    [
                      "Needle hold angle"
                    ],
                    [
                      "Orient needle with both hands"
                    ],
                    [
                      "Orient needle with two hands"
                    ],
                    [
                      "Orienting needle"
                    ],
                    [
                      "Picking up the needle"
                    ],
                    [
                      "Position needle"
                    ],
                    [
                      "Positioning needle with right hand"
                    ],
                    [
                      "Positioning the tip of the needle"
                    ],
                    [
                      "Pull needle"
                    ],
                    [
                      "Pull suture"
                    ],
                    [
                      "Pull suture with both graspers"
                    ],
                    [
                      "Pulling suture with both hands"
                    ],
                    [
                      "Puling the needle out of the tissue"
                    ],
                    [
                      "Reach for needle (gripper open)"
                    ],
                    [
                      "Reach for the suture end with the right grasper and pull the suture to lock the knot"
                    ],
                    [
                      "Reaching for needle"
                    ],
                    [
                      "Reaching for needle with left hand"
                    ],
                    [
                      "Reaching for suture with one hand while the other holding the needle"
                    ],
                    [
                      "Returning/dropping the needle"
                    ],
                    [
                      "Suture"
                    ],
                    [
                      "Suture throw"
                    ],
                    [
                      "Suture tying"
                    ],
                    [
                      "Transferring needle from one hand to the other"
                    ],
                    [
                      "Tying a knot"
                    ],
                    [
                      "Using one hand to help tighten suture"
                    ],
                    [
                      "Wrist rotation"
                    ],
                    [
                      "Wrist rotation needle withdrawal"
                    ]
                  ],
                  "hovertemplate": "color=-1<br>x=%{x}<br>y=%{y}<br>gesture_name=%{customdata[0]}<extra></extra>",
                  "legendgroup": "-1",
                  "marker": {
                    "color": "#19d3f3",
                    "symbol": "circle"
                  },
                  "mode": "markers",
                  "name": "-1",
                  "orientation": "v",
                  "showlegend": true,
                  "type": "scatter",
                  "x": {
                    "bdata": "WKIqQa1+MUGMnTZBKOc3QV4KMkEpbCxBHanuQN+NNUExjTZBcAEEQZn7PkHnrfZA27JDQQE5REHfkUhB9S0KQduwEkFo8BVBye/6QMAJ70CxOixB7OH3QIRx+0BvovVAPITsQCze+kD+6DRB0iwEQb8eC0HWJANBm+L5QLVPE0Hn+wtBs5o8QYM/PkFEp0dBPzXwQBA8FkE02h9Bt5IIQe/+6EAkYP9AgHDzQAneAkHa/gFB3vTcQJXEAUFPtRVBq30+QaikUkH6RVRBtWYVQcdf+EAgpE9B3K/uQAge6EBA7lBBaHH1QHtpG0GZ1TNBrKUxQQV0AEFE5D9B8ulPQQsgC0Gx9QpB",
                    "dtype": "f4"
                  },
                  "xaxis": "x",
                  "y": {
                    "bdata": "mMEcQaC6GkEn0xxBq6QgQd9MI0FSZEtBM5I5QUwUM0Gh0TNBUbosQcSuMEEdmR1B7jtHQcugRkEefzpBX8wTQQ9LGEEt7UNBW0wkQVkSH0E2xDRBlociQXYIHEEMehdB6YAkQVHRMkFVEkZBRnlAQXNkL0HN9yxBwvYnQQ95RkFr2UFBfiZdQWudVkGmwk5BwSsvQdjALEG4tC9BU1k9QeQUNUF2JzpBir0zQbRGRUGW/kFB/+w0QRNjO0E1b0pBg+JSQcuvU0GCplJBzKdLQcCGLkFKl0ZBDmYyQdsEK0FGSE5BgWBBQWrGSEEmpUpB+Ko9QbejLkFZsVhBQ7xaQbLeHkEAbB5B",
                    "dtype": "f4"
                  },
                  "yaxis": "y"
                },
                {
                  "customdata": [
                    [
                      "Bleeding"
                    ],
                    [
                      "Coagulate"
                    ],
                    [
                      "Coagulation"
                    ],
                    [
                      "Tamponade"
                    ],
                    [
                      "Clamp"
                    ]
                  ],
                  "hovertemplate": "color=21<br>x=%{x}<br>y=%{y}<br>gesture_name=%{customdata[0]}<extra></extra>",
                  "legendgroup": "21",
                  "marker": {
                    "color": "#FF6692",
                    "symbol": "circle"
                  },
                  "mode": "markers",
                  "name": "21",
                  "orientation": "v",
                  "showlegend": true,
                  "type": "scatter",
                  "x": {
                    "bdata": "QzM9QTVWP0FVij1BEEc8QTo0PEE=",
                    "dtype": "f4"
                  },
                  "xaxis": "x",
                  "y": {
                    "bdata": "SGAfQYwcHUEolB9BisUeQS3/G0E=",
                    "dtype": "f4"
                  },
                  "yaxis": "y"
                },
                {
                  "customdata": [
                    [
                      "Precision"
                    ],
                    [
                      "Collaboration"
                    ],
                    [
                      "Displacement"
                    ],
                    [
                      "Free motion"
                    ],
                    [
                      "Idle holding"
                    ],
                    [
                      "Load motion"
                    ],
                    [
                      "Reach"
                    ],
                    [
                      "Idle"
                    ],
                    [
                      "Picking"
                    ]
                  ],
                  "hovertemplate": "color=19<br>x=%{x}<br>y=%{y}<br>gesture_name=%{customdata[0]}<extra></extra>",
                  "legendgroup": "19",
                  "marker": {
                    "color": "#B6E880",
                    "symbol": "circle"
                  },
                  "mode": "markers",
                  "name": "19",
                  "orientation": "v",
                  "showlegend": true,
                  "type": "scatter",
                  "x": {
                    "bdata": "lgcEQXqZ/kA6VwFBv0YDQS3PC0EycwJBdEgPQYArCUFzgAFB",
                    "dtype": "f4"
                  },
                  "xaxis": "x",
                  "y": {
                    "bdata": "+1cYQWJRFUEWoRVBH6sWQWCuFkHDuxdBs8gXQX1aGEH1wRZB",
                    "dtype": "f4"
                  },
                  "yaxis": "y"
                },
                {
                  "customdata": [
                    [
                      "Ascending survey"
                    ],
                    [
                      "Descending survey"
                    ],
                    [
                      "Inermaneuver segment"
                    ],
                    [
                      "Pulling/lifting"
                    ],
                    [
                      "Inserting/pushing"
                    ]
                  ],
                  "hovertemplate": "color=8<br>x=%{x}<br>y=%{y}<br>gesture_name=%{customdata[0]}<extra></extra>",
                  "legendgroup": "8",
                  "marker": {
                    "color": "#FF97FF",
                    "symbol": "circle"
                  },
                  "mode": "markers",
                  "name": "8",
                  "orientation": "v",
                  "showlegend": true,
                  "type": "scatter",
                  "x": {
                    "bdata": "sgUkQUagJEGyOSlBZYYiQZTtIkE=",
                    "dtype": "f4"
                  },
                  "xaxis": "x",
                  "y": {
                    "bdata": "I9IfQXOzH0FLFCJBehIgQQFKH0E=",
                    "dtype": "f4"
                  },
                  "yaxis": "y"
                },
                {
                  "customdata": [
                    [
                      "Get together"
                    ],
                    [
                      "Dropping suture"
                    ],
                    [
                      "Dropping suture and moving to end points"
                    ]
                  ],
                  "hovertemplate": "color=15<br>x=%{x}<br>y=%{y}<br>gesture_name=%{customdata[0]}<extra></extra>",
                  "legendgroup": "15",
                  "marker": {
                    "color": "#FECB52",
                    "symbol": "circle"
                  },
                  "mode": "markers",
                  "name": "15",
                  "orientation": "v",
                  "showlegend": true,
                  "type": "scatter",
                  "x": {
                    "bdata": "7MtPQWxhR0H/G0tB",
                    "dtype": "f4"
                  },
                  "xaxis": "x",
                  "y": {
                    "bdata": "SnBJQTy2SEEr90pB",
                    "dtype": "f4"
                  },
                  "yaxis": "y"
                },
                {
                  "customdata": [
                    [
                      "Injection"
                    ],
                    [
                      "Drive needle enter skin"
                    ],
                    [
                      "Driving the needle to enter the skin or tissue"
                    ],
                    [
                      "Needle pushing"
                    ],
                    [
                      "Pushing needle through the tissue"
                    ]
                  ],
                  "hovertemplate": "color=17<br>x=%{x}<br>y=%{y}<br>gesture_name=%{customdata[0]}<extra></extra>",
                  "legendgroup": "17",
                  "marker": {
                    "color": "#636efa",
                    "symbol": "circle"
                  },
                  "mode": "markers",
                  "name": "17",
                  "orientation": "v",
                  "showlegend": true,
                  "type": "scatter",
                  "x": {
                    "bdata": "LXkPQb0eEEHM3Q9BUSQPQX5MDEE=",
                    "dtype": "f4"
                  },
                  "xaxis": "x",
                  "y": {
                    "bdata": "MkNGQZBTRkEFykVBKhxGQaOtR0E=",
                    "dtype": "f4"
                  },
                  "yaxis": "y"
                },
                {
                  "customdata": [
                    [
                      "Release"
                    ],
                    [
                      "Grasp"
                    ],
                    [
                      "Hold"
                    ],
                    [
                      "Place"
                    ]
                  ],
                  "hovertemplate": "color=9<br>x=%{x}<br>y=%{y}<br>gesture_name=%{customdata[0]}<extra></extra>",
                  "legendgroup": "9",
                  "marker": {
                    "color": "#EF553B",
                    "symbol": "circle"
                  },
                  "mode": "markers",
                  "name": "9",
                  "orientation": "v",
                  "showlegend": true,
                  "type": "scatter",
                  "x": {
                    "bdata": "ttwbQbHiGkEaBBdB+4obQQ==",
                    "dtype": "f4"
                  },
                  "xaxis": "x",
                  "y": {
                    "bdata": "ljUWQZ6nE0FYTBRBaCIYQQ==",
                    "dtype": "f4"
                  },
                  "yaxis": "y"
                },
                {
                  "customdata": [
                    [
                      "Align and grasp"
                    ],
                    [
                      "Align and place"
                    ],
                    [
                      "Reach for needle"
                    ],
                    [
                      "Reaching for needle with right hand"
                    ]
                  ],
                  "hovertemplate": "color=25<br>x=%{x}<br>y=%{y}<br>gesture_name=%{customdata[0]}<extra></extra>",
                  "legendgroup": "25",
                  "marker": {
                    "color": "#00cc96",
                    "symbol": "circle"
                  },
                  "mode": "markers",
                  "name": "25",
                  "orientation": "v",
                  "showlegend": true,
                  "type": "scatter",
                  "x": {
                    "bdata": "1YDxQPzJ7UD4qvJACpvuQA==",
                    "dtype": "f4"
                  },
                  "xaxis": "x",
                  "y": {
                    "bdata": "1q4oQdryKUEuKCtBBYgsQQ==",
                    "dtype": "f4"
                  },
                  "yaxis": "y"
                },
                {
                  "customdata": [
                    [
                      "Aspiration"
                    ],
                    [
                      "Irrigation"
                    ],
                    [
                      "Irrigation and suction"
                    ],
                    [
                      "Retracting with grasping"
                    ],
                    [
                      "Retracting without grasping"
                    ],
                    [
                      "Scratch"
                    ],
                    [
                      "Suction and irrigation"
                    ],
                    [
                      "Specimen/material removal"
                    ]
                  ],
                  "hovertemplate": "color=16<br>x=%{x}<br>y=%{y}<br>gesture_name=%{customdata[0]}<extra></extra>",
                  "legendgroup": "16",
                  "marker": {
                    "color": "#ab63fa",
                    "symbol": "circle"
                  },
                  "mode": "markers",
                  "name": "16",
                  "orientation": "v",
                  "showlegend": true,
                  "type": "scatter",
                  "x": {
                    "bdata": "q/EyQRbkLUFdWzBBPDcsQa3hK0EvWjZBbmwtQZgiMEE=",
                    "dtype": "f4"
                  },
                  "xaxis": "x",
                  "y": {
                    "bdata": "LY0lQdO7KUGNzCZBeP0mQfvUKEF6wSNBynYpQS6iKkE=",
                    "dtype": "f4"
                  },
                  "yaxis": "y"
                },
                {
                  "customdata": [
                    [
                      "Catch"
                    ],
                    [
                      "Give slack"
                    ],
                    [
                      "Avoidable delay"
                    ],
                    [
                      "Make a loop"
                    ],
                    [
                      "Pass through"
                    ],
                    [
                      "Position"
                    ],
                    [
                      "Pull"
                    ]
                  ],
                  "hovertemplate": "color=5<br>x=%{x}<br>y=%{y}<br>gesture_name=%{customdata[0]}<extra></extra>",
                  "legendgroup": "5",
                  "marker": {
                    "color": "#FFA15A",
                    "symbol": "circle"
                  },
                  "mode": "markers",
                  "name": "5",
                  "orientation": "v",
                  "showlegend": true,
                  "type": "scatter",
                  "x": {
                    "bdata": "zpIXQS4bFkGBRBJBdAQYQQ3wFEFHtxlBqigUQQ==",
                    "dtype": "f4"
                  },
                  "xaxis": "x",
                  "y": {
                    "bdata": "KBwgQbExIUGB9yNB9csjQW3jIEFCKSVBBn8fQQ==",
                    "dtype": "f4"
                  },
                  "yaxis": "y"
                },
                {
                  "customdata": [
                    [
                      "Penetrating tissue"
                    ],
                    [
                      "Insert needle trough tissue"
                    ],
                    [
                      "Needle puncture"
                    ],
                    [
                      "Positioning the needle tip"
                    ]
                  ],
                  "hovertemplate": "color=13<br>x=%{x}<br>y=%{y}<br>gesture_name=%{customdata[0]}<extra></extra>",
                  "legendgroup": "13",
                  "marker": {
                    "color": "#19d3f3",
                    "symbol": "circle"
                  },
                  "mode": "markers",
                  "name": "13",
                  "orientation": "v",
                  "showlegend": true,
                  "type": "scatter",
                  "x": {
                    "bdata": "hskRQQleEkGaUhJBnVgRQQ==",
                    "dtype": "f4"
                  },
                  "xaxis": "x",
                  "y": {
                    "bdata": "EEE/Qa27QkGUrEBB46Q/QQ==",
                    "dtype": "f4"
                  },
                  "yaxis": "y"
                },
                {
                  "customdata": [
                    [
                      "Retraction"
                    ],
                    [
                      "Flush hand over - Left"
                    ],
                    [
                      "Flush hand over - Right"
                    ],
                    [
                      "Flush hand under - Left"
                    ],
                    [
                      "Flush hand under - Right"
                    ],
                    [
                      "Forehand over - Left"
                    ],
                    [
                      "Forehand over - Right"
                    ],
                    [
                      "Forehand over -> Under"
                    ],
                    [
                      "Forehand under - Left"
                    ],
                    [
                      "Forehand under - Right"
                    ],
                    [
                      "Needle driving"
                    ],
                    [
                      "Needle targeting"
                    ],
                    [
                      "Needle withdrawl"
                    ],
                    [
                      "Suture cinching"
                    ]
                  ],
                  "hovertemplate": "color=1<br>x=%{x}<br>y=%{y}<br>gesture_name=%{customdata[0]}<extra></extra>",
                  "legendgroup": "1",
                  "marker": {
                    "color": "#FF6692",
                    "symbol": "circle"
                  },
                  "mode": "markers",
                  "name": "1",
                  "orientation": "v",
                  "showlegend": true,
                  "type": "scatter",
                  "x": {
                    "bdata": "Oq4uQS0LLUEqcTFBJiIuQdjqLkFeEjBBC2cvQVeTLkHt6TBB0IktQeL1LEHP3ixBV9AtQVYTMEE=",
                    "dtype": "f4"
                  },
                  "xaxis": "x",
                  "y": {
                    "bdata": "sSWHwAGEi8BCyoTAqIKHwATdh8BziYnAjHWJwO+XiMB/cofAGNCBwDmQc8BjJozAYGp0wEOIg8A=",
                    "dtype": "f4"
                  },
                  "yaxis": "y"
                },
                {
                  "customdata": [
                    [
                      "Approach peg"
                    ],
                    [
                      "Lift peg"
                    ],
                    [
                      "Reach for peg"
                    ],
                    [
                      "Reach for the peg with the left grasper"
                    ],
                    [
                      "Reach for the peg with the right grasper"
                    ],
                    [
                      "Transfer peg - exchange"
                    ],
                    [
                      "Transfer peg - together"
                    ],
                    [
                      "Transfer peg between graspers"
                    ]
                  ],
                  "hovertemplate": "color=23<br>x=%{x}<br>y=%{y}<br>gesture_name=%{customdata[0]}<extra></extra>",
                  "legendgroup": "23",
                  "marker": {
                    "color": "#B6E880",
                    "symbol": "circle"
                  },
                  "mode": "markers",
                  "name": "23",
                  "orientation": "v",
                  "showlegend": true,
                  "type": "scatter",
                  "x": {
                    "bdata": "vHLoQD886UC43+dAKH7iQOLu4kB+peNAD0bjQNxP5EA=",
                    "dtype": "f4"
                  },
                  "xaxis": "x",
                  "y": {
                    "bdata": "7bofQRgFGUGelBlBluEbQabvGUEZCRhB/MwWQQmIFkE=",
                    "dtype": "f4"
                  },
                  "yaxis": "y"
                },
                {
                  "customdata": [
                    [
                      "Backhand over - Left"
                    ],
                    [
                      "Backhand over - Right"
                    ],
                    [
                      "Backhand under - Left"
                    ],
                    [
                      "Backhand under - Right"
                    ],
                    [
                      "Backhand under -> over"
                    ]
                  ],
                  "hovertemplate": "color=22<br>x=%{x}<br>y=%{y}<br>gesture_name=%{customdata[0]}<extra></extra>",
                  "legendgroup": "22",
                  "marker": {
                    "color": "#FF97FF",
                    "symbol": "circle"
                  },
                  "mode": "markers",
                  "name": "22",
                  "orientation": "v",
                  "showlegend": true,
                  "type": "scatter",
                  "x": {
                    "bdata": "LmnbQOmH10DvK9tAkl7aQOlX10A=",
                    "dtype": "f4"
                  },
                  "xaxis": "x",
                  "y": {
                    "bdata": "HYIhQdJjH0FOESBBE14gQcd6HkE=",
                    "dtype": "f4"
                  },
                  "yaxis": "y"
                },
                {
                  "customdata": [
                    [
                      "Both hands pull"
                    ],
                    [
                      "Extracting suture from tissue with left hand"
                    ],
                    [
                      "Making C loop around right hand"
                    ],
                    [
                      "pull suture with left hand"
                    ],
                    [
                      "pull suture with right hand"
                    ],
                    [
                      "Pulling suture with left hand"
                    ],
                    [
                      "Pulling suture with right hand"
                    ],
                    [
                      "Reach for suture with right grasper"
                    ],
                    [
                      "Reaching for suture with right hand"
                    ],
                    [
                      "Right hand assisting left while pulling suture"
                    ],
                    [
                      "Right hand reaches for suture"
                    ],
                    [
                      "Using right hand to help tighten suture"
                    ]
                  ],
                  "hovertemplate": "color=11<br>x=%{x}<br>y=%{y}<br>gesture_name=%{customdata[0]}<extra></extra>",
                  "legendgroup": "11",
                  "marker": {
                    "color": "#FECB52",
                    "symbol": "circle"
                  },
                  "mode": "markers",
                  "name": "11",
                  "orientation": "v",
                  "showlegend": true,
                  "type": "scatter",
                  "x": {
                    "bdata": "qsBUQVPuV0GlPVdBmAJYQfWUWEEPgVZBKbxWQfDeVkF3iVVBxBpYQYLBU0F7PllB",
                    "dtype": "f4"
                  },
                  "xaxis": "x",
                  "y": {
                    "bdata": "YalRQVf5RkF4A05BpBRIQYxxSkFPZEdBU1lIQRLSSUFRX0pBkTJKQV7NREFO/UtB",
                    "dtype": "f4"
                  },
                  "yaxis": "y"
                },
                {
                  "customdata": [
                    [
                      "Cutting the suture"
                    ],
                    [
                      "Grab suture"
                    ],
                    [
                      "String cutting"
                    ],
                    [
                      "Thread cut"
                    ]
                  ],
                  "hovertemplate": "color=4<br>x=%{x}<br>y=%{y}<br>gesture_name=%{customdata[0]}<extra></extra>",
                  "legendgroup": "4",
                  "marker": {
                    "color": "#636efa",
                    "symbol": "circle"
                  },
                  "mode": "markers",
                  "name": "4",
                  "orientation": "v",
                  "showlegend": true,
                  "type": "scatter",
                  "x": {
                    "bdata": "2ZU7QSzAO0G0bjtBF3U8QQ==",
                    "dtype": "f4"
                  },
                  "xaxis": "x",
                  "y": {
                    "bdata": "WdRLQQPwTUES90pBYkBNQQ==",
                    "dtype": "f4"
                  },
                  "yaxis": "y"
                },
                {
                  "customdata": [
                    [
                      "Driving smoothness"
                    ],
                    [
                      "Needle entry angle"
                    ],
                    [
                      "Needle hold ratio"
                    ],
                    [
                      "Needle positioning"
                    ],
                    [
                      "Needle insertion"
                    ],
                    [
                      "Needle passing"
                    ],
                    [
                      "Needle repositioning"
                    ]
                  ],
                  "hovertemplate": "color=7<br>x=%{x}<br>y=%{y}<br>gesture_name=%{customdata[0]}<extra></extra>",
                  "legendgroup": "7",
                  "marker": {
                    "color": "#EF553B",
                    "symbol": "circle"
                  },
                  "mode": "markers",
                  "name": "7",
                  "orientation": "v",
                  "showlegend": true,
                  "type": "scatter",
                  "x": {
                    "bdata": "gTATQd7wF0FuVhFBuPgTQUOQGkF7OhlB2agRQQ==",
                    "dtype": "f4"
                  },
                  "xaxis": "x",
                  "y": {
                    "bdata": "qN81QXhnNkEwnjBB8ncvQUwuOEFefjRBmHkyQQ==",
                    "dtype": "f4"
                  },
                  "yaxis": "y"
                },
                {
                  "customdata": [
                    [
                      "Dropping suture at end and moving to end points"
                    ],
                    [
                      "Grab suture-tail"
                    ],
                    [
                      "Grasp suture tail in knot tying"
                    ],
                    [
                      "Grasping and pulling the tail of suture through the loop"
                    ],
                    [
                      "Knot pushing"
                    ],
                    [
                      "Knot tying"
                    ],
                    [
                      "Knot-Tying"
                    ],
                    [
                      "Knot tying - Grasp tail"
                    ],
                    [
                      "Knot tying - Perform a single C-loop"
                    ],
                    [
                      "Knot tying - Tighten suture"
                    ],
                    [
                      "Loop suture for knot tying"
                    ],
                    [
                      "Looping the suture around a needle driver to make a knot"
                    ],
                    [
                      "Loosening more suture"
                    ],
                    [
                      "Make a knot"
                    ],
                    [
                      "Making C loop around one hand"
                    ],
                    [
                      "Making C-loop around right grasper"
                    ],
                    [
                      "Moving to end points"
                    ],
                    [
                      "One loop knot"
                    ],
                    [
                      "Pull ends of suture taut"
                    ],
                    [
                      "Pull suture tail trough knot"
                    ],
                    [
                      "Pulling the 2 suture ends taut to tighten the knot."
                    ],
                    [
                      "Rotate suture once"
                    ],
                    [
                      "Rotate suture twice"
                    ],
                    [
                      "Two loop knot"
                    ]
                  ],
                  "hovertemplate": "color=14<br>x=%{x}<br>y=%{y}<br>gesture_name=%{customdata[0]}<extra></extra>",
                  "legendgroup": "14",
                  "marker": {
                    "color": "#00cc96",
                    "symbol": "circle"
                  },
                  "mode": "markers",
                  "name": "14",
                  "orientation": "v",
                  "showlegend": true,
                  "type": "scatter",
                  "x": {
                    "bdata": "gKFFQVFATEFh30dB1dJHQSAdSkENaEVBPYM/QUcYSUExEkVB4wZNQTcYQ0HegUhBmXRIQdAKTUEuPEpBwTlIQW1+TEGPfj9BkTNIQYUGREF5hEtB3e9CQfR1REHTZUdB",
                    "dtype": "f4"
                  },
                  "xaxis": "x",
                  "y": {
                    "bdata": "lutSQU7BUkEkHllB/F5aQQawXkHc1FVBJ/FdQRFcVEHVrF5BONxbQV26XEFrq2JBAyxQQfZvUEHjZl5BmSdhQTBpS0H+K15Bm+RXQYOAWEFLIltB8wFfQcXHYUENy2BB",
                    "dtype": "f4"
                  },
                  "yaxis": "y"
                },
                {
                  "customdata": [
                    [
                      "Grasp Pull Run Suture"
                    ],
                    [
                      "Pull needle suture"
                    ],
                    [
                      "Pull/run suture out of tissue"
                    ],
                    [
                      "Pulling Suture"
                    ],
                    [
                      "Pulling thread trough tissue"
                    ]
                  ],
                  "hovertemplate": "color=3<br>x=%{x}<br>y=%{y}<br>gesture_name=%{customdata[0]}<extra></extra>",
                  "legendgroup": "3",
                  "marker": {
                    "color": "#ab63fa",
                    "symbol": "circle"
                  },
                  "mode": "markers",
                  "name": "3",
                  "orientation": "v",
                  "showlegend": true,
                  "type": "scatter",
                  "x": {
                    "bdata": "gZYzQRF5NUFCSzRBfj02QV2sNkE=",
                    "dtype": "f4"
                  },
                  "xaxis": "x",
                  "y": {
                    "bdata": "+bBPQUImUUEoqVFB0ypRQRHzUUE=",
                    "dtype": "f4"
                  },
                  "yaxis": "y"
                },
                {
                  "customdata": [
                    [
                      "Grasping needle with right hand"
                    ],
                    [
                      "Moving to center of workspace with needle in grip"
                    ],
                    [
                      "Orienting needle with right hand"
                    ],
                    [
                      "Orienting needles"
                    ],
                    [
                      "Rotate"
                    ]
                  ],
                  "hovertemplate": "color=26<br>x=%{x}<br>y=%{y}<br>gesture_name=%{customdata[0]}<extra></extra>",
                  "legendgroup": "26",
                  "marker": {
                    "color": "#FFA15A",
                    "symbol": "circle"
                  },
                  "mode": "markers",
                  "name": "26",
                  "orientation": "v",
                  "showlegend": true,
                  "type": "scatter",
                  "x": {
                    "bdata": "wfXiQEGH40A7W+NAIDLlQHLi40A=",
                    "dtype": "f4"
                  },
                  "xaxis": "x",
                  "y": {
                    "bdata": "ZM83QdSCNUFLjzhBbwE2Qf8pOEE=",
                    "dtype": "f4"
                  },
                  "yaxis": "y"
                },
                {
                  "customdata": [
                    [
                      "Grasping the needle"
                    ],
                    [
                      "Orient needle"
                    ],
                    [
                      "Position needle (holding needle)"
                    ],
                    [
                      "Positioning needle"
                    ],
                    [
                      "Repositioning the needle on the needle driver"
                    ],
                    [
                      "Straightening/orienting needle"
                    ]
                  ],
                  "hovertemplate": "color=27<br>x=%{x}<br>y=%{y}<br>gesture_name=%{customdata[0]}<extra></extra>",
                  "legendgroup": "27",
                  "marker": {
                    "color": "#19d3f3",
                    "symbol": "circle"
                  },
                  "mode": "markers",
                  "name": "27",
                  "orientation": "v",
                  "showlegend": true,
                  "type": "scatter",
                  "x": {
                    "bdata": "6gXzQDfK+ECJlOdAX57+QJ8I7kDf0PRA",
                    "dtype": "f4"
                  },
                  "xaxis": "x",
                  "y": {
                    "bdata": "5yk9QVuEP0F2fDtBeCo9Qa/IOkH++TlB",
                    "dtype": "f4"
                  },
                  "yaxis": "y"
                },
                {
                  "customdata": [
                    [
                      "Insert"
                    ],
                    [
                      "Loosen completely"
                    ],
                    [
                      "Loosen partially"
                    ],
                    [
                      "Needle extraction"
                    ],
                    [
                      "Needle holding"
                    ],
                    [
                      "Suture handling"
                    ],
                    [
                      "Suture making"
                    ],
                    [
                      "Suturing"
                    ]
                  ],
                  "hovertemplate": "color=6<br>x=%{x}<br>y=%{y}<br>gesture_name=%{customdata[0]}<extra></extra>",
                  "legendgroup": "6",
                  "marker": {
                    "color": "#FF6692",
                    "symbol": "circle"
                  },
                  "mode": "markers",
                  "name": "6",
                  "orientation": "v",
                  "showlegend": true,
                  "type": "scatter",
                  "x": {
                    "bdata": "9LcjQZDEK0H0JCxB/3QgQU1AKUGVQChBYK8jQVkbJ0E=",
                    "dtype": "f4"
                  },
                  "xaxis": "x",
                  "y": {
                    "bdata": "l7w4QVZrQEGnz0BBXOQ0QXK0O0Finz1BGDY6Qa/iM0E=",
                    "dtype": "f4"
                  },
                  "yaxis": "y"
                },
                {
                  "customdata": [
                    [
                      "Move to middle with needle (left hand)"
                    ],
                    [
                      "Move to middle with needle (right hand)"
                    ],
                    [
                      "Orienting needle with left hand"
                    ],
                    [
                      "Positioning needle with left hand"
                    ],
                    [
                      "Pushing needle through tissue with left hand"
                    ],
                    [
                      "Pushing needle through tissue with right hand"
                    ],
                    [
                      "Transferring needle from left to right"
                    ],
                    [
                      "Transferring needle from right to left"
                    ]
                  ],
                  "hovertemplate": "color=24<br>x=%{x}<br>y=%{y}<br>gesture_name=%{customdata[0]}<extra></extra>",
                  "legendgroup": "24",
                  "marker": {
                    "color": "#B6E880",
                    "symbol": "circle"
                  },
                  "mode": "markers",
                  "name": "24",
                  "orientation": "v",
                  "showlegend": true,
                  "type": "scatter",
                  "x": {
                    "bdata": "wNXfQCXl3kCNNOFAb9vdQDVX2UBef9ZA7YzeQJFs2kA=",
                    "dtype": "f4"
                  },
                  "xaxis": "x",
                  "y": {
                    "bdata": "ve0sQdbqLUFeDzFBZC8xQZnKLkHi7TFBkd8tQXInL0E=",
                    "dtype": "f4"
                  },
                  "yaxis": "y"
                },
                {
                  "customdata": [
                    [
                      "Needle pulling"
                    ],
                    [
                      "Pulling needle"
                    ],
                    [
                      "Rotate needle trough skin"
                    ],
                    [
                      "Rotating or pulling the needle out of the skin or tissue"
                    ]
                  ],
                  "hovertemplate": "color=18<br>x=%{x}<br>y=%{y}<br>gesture_name=%{customdata[0]}<extra></extra>",
                  "legendgroup": "18",
                  "marker": {
                    "color": "#FF97FF",
                    "symbol": "circle"
                  },
                  "mode": "markers",
                  "name": "18",
                  "orientation": "v",
                  "showlegend": true,
                  "type": "scatter",
                  "x": {
                    "bdata": "72ESQc5bEUGv8g1BxbkPQQ==",
                    "dtype": "f4"
                  },
                  "xaxis": "x",
                  "y": {
                    "bdata": "IohMQWVASkFD3ElBznBKQQ==",
                    "dtype": "f4"
                  },
                  "yaxis": "y"
                }
              ],
              "layout": {
                "legend": {
                  "title": {
                    "text": "color"
                  },
                  "tracegroupgap": 0
                },
                "margin": {
                  "t": 60
                },
                "template": {
                  "data": {
                    "bar": [
                      {
                        "error_x": {
                          "color": "#2a3f5f"
                        },
                        "error_y": {
                          "color": "#2a3f5f"
                        },
                        "marker": {
                          "line": {
                            "color": "#E5ECF6",
                            "width": 0.5
                          },
                          "pattern": {
                            "fillmode": "overlay",
                            "size": 10,
                            "solidity": 0.2
                          }
                        },
                        "type": "bar"
                      }
                    ],
                    "barpolar": [
                      {
                        "marker": {
                          "line": {
                            "color": "#E5ECF6",
                            "width": 0.5
                          },
                          "pattern": {
                            "fillmode": "overlay",
                            "size": 10,
                            "solidity": 0.2
                          }
                        },
                        "type": "barpolar"
                      }
                    ],
                    "carpet": [
                      {
                        "aaxis": {
                          "endlinecolor": "#2a3f5f",
                          "gridcolor": "white",
                          "linecolor": "white",
                          "minorgridcolor": "white",
                          "startlinecolor": "#2a3f5f"
                        },
                        "baxis": {
                          "endlinecolor": "#2a3f5f",
                          "gridcolor": "white",
                          "linecolor": "white",
                          "minorgridcolor": "white",
                          "startlinecolor": "#2a3f5f"
                        },
                        "type": "carpet"
                      }
                    ],
                    "choropleth": [
                      {
                        "colorbar": {
                          "outlinewidth": 0,
                          "ticks": ""
                        },
                        "type": "choropleth"
                      }
                    ],
                    "contour": [
                      {
                        "colorbar": {
                          "outlinewidth": 0,
                          "ticks": ""
                        },
                        "colorscale": [
                          [
                            0,
                            "#0d0887"
                          ],
                          [
                            0.1111111111111111,
                            "#46039f"
                          ],
                          [
                            0.2222222222222222,
                            "#7201a8"
                          ],
                          [
                            0.3333333333333333,
                            "#9c179e"
                          ],
                          [
                            0.4444444444444444,
                            "#bd3786"
                          ],
                          [
                            0.5555555555555556,
                            "#d8576b"
                          ],
                          [
                            0.6666666666666666,
                            "#ed7953"
                          ],
                          [
                            0.7777777777777778,
                            "#fb9f3a"
                          ],
                          [
                            0.8888888888888888,
                            "#fdca26"
                          ],
                          [
                            1,
                            "#f0f921"
                          ]
                        ],
                        "type": "contour"
                      }
                    ],
                    "contourcarpet": [
                      {
                        "colorbar": {
                          "outlinewidth": 0,
                          "ticks": ""
                        },
                        "type": "contourcarpet"
                      }
                    ],
                    "heatmap": [
                      {
                        "colorbar": {
                          "outlinewidth": 0,
                          "ticks": ""
                        },
                        "colorscale": [
                          [
                            0,
                            "#0d0887"
                          ],
                          [
                            0.1111111111111111,
                            "#46039f"
                          ],
                          [
                            0.2222222222222222,
                            "#7201a8"
                          ],
                          [
                            0.3333333333333333,
                            "#9c179e"
                          ],
                          [
                            0.4444444444444444,
                            "#bd3786"
                          ],
                          [
                            0.5555555555555556,
                            "#d8576b"
                          ],
                          [
                            0.6666666666666666,
                            "#ed7953"
                          ],
                          [
                            0.7777777777777778,
                            "#fb9f3a"
                          ],
                          [
                            0.8888888888888888,
                            "#fdca26"
                          ],
                          [
                            1,
                            "#f0f921"
                          ]
                        ],
                        "type": "heatmap"
                      }
                    ],
                    "histogram": [
                      {
                        "marker": {
                          "pattern": {
                            "fillmode": "overlay",
                            "size": 10,
                            "solidity": 0.2
                          }
                        },
                        "type": "histogram"
                      }
                    ],
                    "histogram2d": [
                      {
                        "colorbar": {
                          "outlinewidth": 0,
                          "ticks": ""
                        },
                        "colorscale": [
                          [
                            0,
                            "#0d0887"
                          ],
                          [
                            0.1111111111111111,
                            "#46039f"
                          ],
                          [
                            0.2222222222222222,
                            "#7201a8"
                          ],
                          [
                            0.3333333333333333,
                            "#9c179e"
                          ],
                          [
                            0.4444444444444444,
                            "#bd3786"
                          ],
                          [
                            0.5555555555555556,
                            "#d8576b"
                          ],
                          [
                            0.6666666666666666,
                            "#ed7953"
                          ],
                          [
                            0.7777777777777778,
                            "#fb9f3a"
                          ],
                          [
                            0.8888888888888888,
                            "#fdca26"
                          ],
                          [
                            1,
                            "#f0f921"
                          ]
                        ],
                        "type": "histogram2d"
                      }
                    ],
                    "histogram2dcontour": [
                      {
                        "colorbar": {
                          "outlinewidth": 0,
                          "ticks": ""
                        },
                        "colorscale": [
                          [
                            0,
                            "#0d0887"
                          ],
                          [
                            0.1111111111111111,
                            "#46039f"
                          ],
                          [
                            0.2222222222222222,
                            "#7201a8"
                          ],
                          [
                            0.3333333333333333,
                            "#9c179e"
                          ],
                          [
                            0.4444444444444444,
                            "#bd3786"
                          ],
                          [
                            0.5555555555555556,
                            "#d8576b"
                          ],
                          [
                            0.6666666666666666,
                            "#ed7953"
                          ],
                          [
                            0.7777777777777778,
                            "#fb9f3a"
                          ],
                          [
                            0.8888888888888888,
                            "#fdca26"
                          ],
                          [
                            1,
                            "#f0f921"
                          ]
                        ],
                        "type": "histogram2dcontour"
                      }
                    ],
                    "mesh3d": [
                      {
                        "colorbar": {
                          "outlinewidth": 0,
                          "ticks": ""
                        },
                        "type": "mesh3d"
                      }
                    ],
                    "parcoords": [
                      {
                        "line": {
                          "colorbar": {
                            "outlinewidth": 0,
                            "ticks": ""
                          }
                        },
                        "type": "parcoords"
                      }
                    ],
                    "pie": [
                      {
                        "automargin": true,
                        "type": "pie"
                      }
                    ],
                    "scatter": [
                      {
                        "fillpattern": {
                          "fillmode": "overlay",
                          "size": 10,
                          "solidity": 0.2
                        },
                        "type": "scatter"
                      }
                    ],
                    "scatter3d": [
                      {
                        "line": {
                          "colorbar": {
                            "outlinewidth": 0,
                            "ticks": ""
                          }
                        },
                        "marker": {
                          "colorbar": {
                            "outlinewidth": 0,
                            "ticks": ""
                          }
                        },
                        "type": "scatter3d"
                      }
                    ],
                    "scattercarpet": [
                      {
                        "marker": {
                          "colorbar": {
                            "outlinewidth": 0,
                            "ticks": ""
                          }
                        },
                        "type": "scattercarpet"
                      }
                    ],
                    "scattergeo": [
                      {
                        "marker": {
                          "colorbar": {
                            "outlinewidth": 0,
                            "ticks": ""
                          }
                        },
                        "type": "scattergeo"
                      }
                    ],
                    "scattergl": [
                      {
                        "marker": {
                          "colorbar": {
                            "outlinewidth": 0,
                            "ticks": ""
                          }
                        },
                        "type": "scattergl"
                      }
                    ],
                    "scattermap": [
                      {
                        "marker": {
                          "colorbar": {
                            "outlinewidth": 0,
                            "ticks": ""
                          }
                        },
                        "type": "scattermap"
                      }
                    ],
                    "scattermapbox": [
                      {
                        "marker": {
                          "colorbar": {
                            "outlinewidth": 0,
                            "ticks": ""
                          }
                        },
                        "type": "scattermapbox"
                      }
                    ],
                    "scatterpolar": [
                      {
                        "marker": {
                          "colorbar": {
                            "outlinewidth": 0,
                            "ticks": ""
                          }
                        },
                        "type": "scatterpolar"
                      }
                    ],
                    "scatterpolargl": [
                      {
                        "marker": {
                          "colorbar": {
                            "outlinewidth": 0,
                            "ticks": ""
                          }
                        },
                        "type": "scatterpolargl"
                      }
                    ],
                    "scatterternary": [
                      {
                        "marker": {
                          "colorbar": {
                            "outlinewidth": 0,
                            "ticks": ""
                          }
                        },
                        "type": "scatterternary"
                      }
                    ],
                    "surface": [
                      {
                        "colorbar": {
                          "outlinewidth": 0,
                          "ticks": ""
                        },
                        "colorscale": [
                          [
                            0,
                            "#0d0887"
                          ],
                          [
                            0.1111111111111111,
                            "#46039f"
                          ],
                          [
                            0.2222222222222222,
                            "#7201a8"
                          ],
                          [
                            0.3333333333333333,
                            "#9c179e"
                          ],
                          [
                            0.4444444444444444,
                            "#bd3786"
                          ],
                          [
                            0.5555555555555556,
                            "#d8576b"
                          ],
                          [
                            0.6666666666666666,
                            "#ed7953"
                          ],
                          [
                            0.7777777777777778,
                            "#fb9f3a"
                          ],
                          [
                            0.8888888888888888,
                            "#fdca26"
                          ],
                          [
                            1,
                            "#f0f921"
                          ]
                        ],
                        "type": "surface"
                      }
                    ],
                    "table": [
                      {
                        "cells": {
                          "fill": {
                            "color": "#EBF0F8"
                          },
                          "line": {
                            "color": "white"
                          }
                        },
                        "header": {
                          "fill": {
                            "color": "#C8D4E3"
                          },
                          "line": {
                            "color": "white"
                          }
                        },
                        "type": "table"
                      }
                    ]
                  },
                  "layout": {
                    "annotationdefaults": {
                      "arrowcolor": "#2a3f5f",
                      "arrowhead": 0,
                      "arrowwidth": 1
                    },
                    "autotypenumbers": "strict",
                    "coloraxis": {
                      "colorbar": {
                        "outlinewidth": 0,
                        "ticks": ""
                      }
                    },
                    "colorscale": {
                      "diverging": [
                        [
                          0,
                          "#8e0152"
                        ],
                        [
                          0.1,
                          "#c51b7d"
                        ],
                        [
                          0.2,
                          "#de77ae"
                        ],
                        [
                          0.3,
                          "#f1b6da"
                        ],
                        [
                          0.4,
                          "#fde0ef"
                        ],
                        [
                          0.5,
                          "#f7f7f7"
                        ],
                        [
                          0.6,
                          "#e6f5d0"
                        ],
                        [
                          0.7,
                          "#b8e186"
                        ],
                        [
                          0.8,
                          "#7fbc41"
                        ],
                        [
                          0.9,
                          "#4d9221"
                        ],
                        [
                          1,
                          "#276419"
                        ]
                      ],
                      "sequential": [
                        [
                          0,
                          "#0d0887"
                        ],
                        [
                          0.1111111111111111,
                          "#46039f"
                        ],
                        [
                          0.2222222222222222,
                          "#7201a8"
                        ],
                        [
                          0.3333333333333333,
                          "#9c179e"
                        ],
                        [
                          0.4444444444444444,
                          "#bd3786"
                        ],
                        [
                          0.5555555555555556,
                          "#d8576b"
                        ],
                        [
                          0.6666666666666666,
                          "#ed7953"
                        ],
                        [
                          0.7777777777777778,
                          "#fb9f3a"
                        ],
                        [
                          0.8888888888888888,
                          "#fdca26"
                        ],
                        [
                          1,
                          "#f0f921"
                        ]
                      ],
                      "sequentialminus": [
                        [
                          0,
                          "#0d0887"
                        ],
                        [
                          0.1111111111111111,
                          "#46039f"
                        ],
                        [
                          0.2222222222222222,
                          "#7201a8"
                        ],
                        [
                          0.3333333333333333,
                          "#9c179e"
                        ],
                        [
                          0.4444444444444444,
                          "#bd3786"
                        ],
                        [
                          0.5555555555555556,
                          "#d8576b"
                        ],
                        [
                          0.6666666666666666,
                          "#ed7953"
                        ],
                        [
                          0.7777777777777778,
                          "#fb9f3a"
                        ],
                        [
                          0.8888888888888888,
                          "#fdca26"
                        ],
                        [
                          1,
                          "#f0f921"
                        ]
                      ]
                    },
                    "colorway": [
                      "#636efa",
                      "#EF553B",
                      "#00cc96",
                      "#ab63fa",
                      "#FFA15A",
                      "#19d3f3",
                      "#FF6692",
                      "#B6E880",
                      "#FF97FF",
                      "#FECB52"
                    ],
                    "font": {
                      "color": "#2a3f5f"
                    },
                    "geo": {
                      "bgcolor": "white",
                      "lakecolor": "white",
                      "landcolor": "#E5ECF6",
                      "showlakes": true,
                      "showland": true,
                      "subunitcolor": "white"
                    },
                    "hoverlabel": {
                      "align": "left"
                    },
                    "hovermode": "closest",
                    "mapbox": {
                      "style": "light"
                    },
                    "paper_bgcolor": "white",
                    "plot_bgcolor": "#E5ECF6",
                    "polar": {
                      "angularaxis": {
                        "gridcolor": "white",
                        "linecolor": "white",
                        "ticks": ""
                      },
                      "bgcolor": "#E5ECF6",
                      "radialaxis": {
                        "gridcolor": "white",
                        "linecolor": "white",
                        "ticks": ""
                      }
                    },
                    "scene": {
                      "xaxis": {
                        "backgroundcolor": "#E5ECF6",
                        "gridcolor": "white",
                        "gridwidth": 2,
                        "linecolor": "white",
                        "showbackground": true,
                        "ticks": "",
                        "zerolinecolor": "white"
                      },
                      "yaxis": {
                        "backgroundcolor": "#E5ECF6",
                        "gridcolor": "white",
                        "gridwidth": 2,
                        "linecolor": "white",
                        "showbackground": true,
                        "ticks": "",
                        "zerolinecolor": "white"
                      },
                      "zaxis": {
                        "backgroundcolor": "#E5ECF6",
                        "gridcolor": "white",
                        "gridwidth": 2,
                        "linecolor": "white",
                        "showbackground": true,
                        "ticks": "",
                        "zerolinecolor": "white"
                      }
                    },
                    "shapedefaults": {
                      "line": {
                        "color": "#2a3f5f"
                      }
                    },
                    "ternary": {
                      "aaxis": {
                        "gridcolor": "white",
                        "linecolor": "white",
                        "ticks": ""
                      },
                      "baxis": {
                        "gridcolor": "white",
                        "linecolor": "white",
                        "ticks": ""
                      },
                      "bgcolor": "#E5ECF6",
                      "caxis": {
                        "gridcolor": "white",
                        "linecolor": "white",
                        "ticks": ""
                      }
                    },
                    "title": {
                      "x": 0.05
                    },
                    "xaxis": {
                      "automargin": true,
                      "gridcolor": "white",
                      "linecolor": "white",
                      "ticks": "",
                      "title": {
                        "standoff": 15
                      },
                      "zerolinecolor": "white",
                      "zerolinewidth": 2
                    },
                    "yaxis": {
                      "automargin": true,
                      "gridcolor": "white",
                      "linecolor": "white",
                      "ticks": "",
                      "title": {
                        "standoff": 15
                      },
                      "zerolinecolor": "white",
                      "zerolinewidth": 2
                    }
                  }
                },
                "xaxis": {
                  "anchor": "y",
                  "domain": [
                    0,
                    1
                  ],
                  "title": {
                    "text": "x"
                  }
                },
                "yaxis": {
                  "anchor": "x",
                  "domain": [
                    0,
                    1
                  ],
                  "title": {
                    "text": "y"
                  }
                }
              }
            }
          },
          "metadata": {},
          "output_type": "display_data"
        }
      ],
      "source": [
        "# Visualization\n",
        "viz_df = pd.DataFrame({\n",
        "    'gesture_name': df['gesture_name'],\n",
        "    'x': embedding_2d[:, 0],\n",
        "    'y': embedding_2d[:, 1],\n",
        "    'cluster': labels\n",
        "})\n",
        "\n",
        "fig = px.scatter(viz_df, x='x', y='y', color=viz_df['cluster'].astype(str), hover_data=['gesture_name'])\n",
        "fig.show()"
      ]
    }
  ],
  "metadata": {
    "colab": {
      "provenance": []
    },
    "kernelspec": {
      "display_name": "Python 3",
      "language": "python",
      "name": "python3"
    },
    "language_info": {
      "codemirror_mode": {
        "name": "ipython",
        "version": 3
      },
      "file_extension": ".py",
      "mimetype": "text/x-python",
      "name": "python",
      "nbconvert_exporter": "python",
      "pygments_lexer": "ipython3",
      "version": "3.13.3"
    }
  },
  "nbformat": 4,
  "nbformat_minor": 0
}
