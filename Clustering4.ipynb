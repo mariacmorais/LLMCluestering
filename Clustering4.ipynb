{
  "nbformat": 4,
  "nbformat_minor": 0,
  "metadata": {
    "colab": {
      "provenance": [],
      "authorship_tag": "ABX9TyO1LeOmnmu7+LclTQMlftDH",
      "include_colab_link": true
    },
    "kernelspec": {
      "name": "python3",
      "display_name": "Python 3"
    },
    "language_info": {
      "name": "python"
    },
    "widgets": {
      "application/vnd.jupyter.widget-state+json": {
        "d11bc2704a1841de9622af6392ced77d": {
          "model_module": "@jupyter-widgets/controls",
          "model_name": "HBoxModel",
          "model_module_version": "1.5.0",
          "state": {
            "_dom_classes": [],
            "_model_module": "@jupyter-widgets/controls",
            "_model_module_version": "1.5.0",
            "_model_name": "HBoxModel",
            "_view_count": null,
            "_view_module": "@jupyter-widgets/controls",
            "_view_module_version": "1.5.0",
            "_view_name": "HBoxView",
            "box_style": "",
            "children": [
              "IPY_MODEL_bcc87093280b45db91d914103d7710ed",
              "IPY_MODEL_270f610f6a374cdaaf335d14ea9ed324",
              "IPY_MODEL_ffad658e105040419c41ff1665423147"
            ],
            "layout": "IPY_MODEL_4443e8d3609c4c05b56e539711408f4c"
          }
        },
        "bcc87093280b45db91d914103d7710ed": {
          "model_module": "@jupyter-widgets/controls",
          "model_name": "HTMLModel",
          "model_module_version": "1.5.0",
          "state": {
            "_dom_classes": [],
            "_model_module": "@jupyter-widgets/controls",
            "_model_module_version": "1.5.0",
            "_model_name": "HTMLModel",
            "_view_count": null,
            "_view_module": "@jupyter-widgets/controls",
            "_view_module_version": "1.5.0",
            "_view_name": "HTMLView",
            "description": "",
            "description_tooltip": null,
            "layout": "IPY_MODEL_e1b2d67366fa4847a7f16ef9e40567fc",
            "placeholder": "​",
            "style": "IPY_MODEL_90579b16c68447d9bfb92a3098426800",
            "value": "Batches: 100%"
          }
        },
        "270f610f6a374cdaaf335d14ea9ed324": {
          "model_module": "@jupyter-widgets/controls",
          "model_name": "FloatProgressModel",
          "model_module_version": "1.5.0",
          "state": {
            "_dom_classes": [],
            "_model_module": "@jupyter-widgets/controls",
            "_model_module_version": "1.5.0",
            "_model_name": "FloatProgressModel",
            "_view_count": null,
            "_view_module": "@jupyter-widgets/controls",
            "_view_module_version": "1.5.0",
            "_view_name": "ProgressView",
            "bar_style": "success",
            "description": "",
            "description_tooltip": null,
            "layout": "IPY_MODEL_16c68d61b6c04209b5bd977155a2f0a6",
            "max": 9,
            "min": 0,
            "orientation": "horizontal",
            "style": "IPY_MODEL_ce81906d68be4a96ac50a583b8bc8c0d",
            "value": 9
          }
        },
        "ffad658e105040419c41ff1665423147": {
          "model_module": "@jupyter-widgets/controls",
          "model_name": "HTMLModel",
          "model_module_version": "1.5.0",
          "state": {
            "_dom_classes": [],
            "_model_module": "@jupyter-widgets/controls",
            "_model_module_version": "1.5.0",
            "_model_name": "HTMLModel",
            "_view_count": null,
            "_view_module": "@jupyter-widgets/controls",
            "_view_module_version": "1.5.0",
            "_view_name": "HTMLView",
            "description": "",
            "description_tooltip": null,
            "layout": "IPY_MODEL_0d1d440a2a224c548dcffaf8452d6724",
            "placeholder": "​",
            "style": "IPY_MODEL_a8797b830eeb43f3a7e0f73a557f4173",
            "value": " 9/9 [00:36&lt;00:00,  2.40s/it]"
          }
        },
        "4443e8d3609c4c05b56e539711408f4c": {
          "model_module": "@jupyter-widgets/base",
          "model_name": "LayoutModel",
          "model_module_version": "1.2.0",
          "state": {
            "_model_module": "@jupyter-widgets/base",
            "_model_module_version": "1.2.0",
            "_model_name": "LayoutModel",
            "_view_count": null,
            "_view_module": "@jupyter-widgets/base",
            "_view_module_version": "1.2.0",
            "_view_name": "LayoutView",
            "align_content": null,
            "align_items": null,
            "align_self": null,
            "border": null,
            "bottom": null,
            "display": null,
            "flex": null,
            "flex_flow": null,
            "grid_area": null,
            "grid_auto_columns": null,
            "grid_auto_flow": null,
            "grid_auto_rows": null,
            "grid_column": null,
            "grid_gap": null,
            "grid_row": null,
            "grid_template_areas": null,
            "grid_template_columns": null,
            "grid_template_rows": null,
            "height": null,
            "justify_content": null,
            "justify_items": null,
            "left": null,
            "margin": null,
            "max_height": null,
            "max_width": null,
            "min_height": null,
            "min_width": null,
            "object_fit": null,
            "object_position": null,
            "order": null,
            "overflow": null,
            "overflow_x": null,
            "overflow_y": null,
            "padding": null,
            "right": null,
            "top": null,
            "visibility": null,
            "width": null
          }
        },
        "e1b2d67366fa4847a7f16ef9e40567fc": {
          "model_module": "@jupyter-widgets/base",
          "model_name": "LayoutModel",
          "model_module_version": "1.2.0",
          "state": {
            "_model_module": "@jupyter-widgets/base",
            "_model_module_version": "1.2.0",
            "_model_name": "LayoutModel",
            "_view_count": null,
            "_view_module": "@jupyter-widgets/base",
            "_view_module_version": "1.2.0",
            "_view_name": "LayoutView",
            "align_content": null,
            "align_items": null,
            "align_self": null,
            "border": null,
            "bottom": null,
            "display": null,
            "flex": null,
            "flex_flow": null,
            "grid_area": null,
            "grid_auto_columns": null,
            "grid_auto_flow": null,
            "grid_auto_rows": null,
            "grid_column": null,
            "grid_gap": null,
            "grid_row": null,
            "grid_template_areas": null,
            "grid_template_columns": null,
            "grid_template_rows": null,
            "height": null,
            "justify_content": null,
            "justify_items": null,
            "left": null,
            "margin": null,
            "max_height": null,
            "max_width": null,
            "min_height": null,
            "min_width": null,
            "object_fit": null,
            "object_position": null,
            "order": null,
            "overflow": null,
            "overflow_x": null,
            "overflow_y": null,
            "padding": null,
            "right": null,
            "top": null,
            "visibility": null,
            "width": null
          }
        },
        "90579b16c68447d9bfb92a3098426800": {
          "model_module": "@jupyter-widgets/controls",
          "model_name": "DescriptionStyleModel",
          "model_module_version": "1.5.0",
          "state": {
            "_model_module": "@jupyter-widgets/controls",
            "_model_module_version": "1.5.0",
            "_model_name": "DescriptionStyleModel",
            "_view_count": null,
            "_view_module": "@jupyter-widgets/base",
            "_view_module_version": "1.2.0",
            "_view_name": "StyleView",
            "description_width": ""
          }
        },
        "16c68d61b6c04209b5bd977155a2f0a6": {
          "model_module": "@jupyter-widgets/base",
          "model_name": "LayoutModel",
          "model_module_version": "1.2.0",
          "state": {
            "_model_module": "@jupyter-widgets/base",
            "_model_module_version": "1.2.0",
            "_model_name": "LayoutModel",
            "_view_count": null,
            "_view_module": "@jupyter-widgets/base",
            "_view_module_version": "1.2.0",
            "_view_name": "LayoutView",
            "align_content": null,
            "align_items": null,
            "align_self": null,
            "border": null,
            "bottom": null,
            "display": null,
            "flex": null,
            "flex_flow": null,
            "grid_area": null,
            "grid_auto_columns": null,
            "grid_auto_flow": null,
            "grid_auto_rows": null,
            "grid_column": null,
            "grid_gap": null,
            "grid_row": null,
            "grid_template_areas": null,
            "grid_template_columns": null,
            "grid_template_rows": null,
            "height": null,
            "justify_content": null,
            "justify_items": null,
            "left": null,
            "margin": null,
            "max_height": null,
            "max_width": null,
            "min_height": null,
            "min_width": null,
            "object_fit": null,
            "object_position": null,
            "order": null,
            "overflow": null,
            "overflow_x": null,
            "overflow_y": null,
            "padding": null,
            "right": null,
            "top": null,
            "visibility": null,
            "width": null
          }
        },
        "ce81906d68be4a96ac50a583b8bc8c0d": {
          "model_module": "@jupyter-widgets/controls",
          "model_name": "ProgressStyleModel",
          "model_module_version": "1.5.0",
          "state": {
            "_model_module": "@jupyter-widgets/controls",
            "_model_module_version": "1.5.0",
            "_model_name": "ProgressStyleModel",
            "_view_count": null,
            "_view_module": "@jupyter-widgets/base",
            "_view_module_version": "1.2.0",
            "_view_name": "StyleView",
            "bar_color": null,
            "description_width": ""
          }
        },
        "0d1d440a2a224c548dcffaf8452d6724": {
          "model_module": "@jupyter-widgets/base",
          "model_name": "LayoutModel",
          "model_module_version": "1.2.0",
          "state": {
            "_model_module": "@jupyter-widgets/base",
            "_model_module_version": "1.2.0",
            "_model_name": "LayoutModel",
            "_view_count": null,
            "_view_module": "@jupyter-widgets/base",
            "_view_module_version": "1.2.0",
            "_view_name": "LayoutView",
            "align_content": null,
            "align_items": null,
            "align_self": null,
            "border": null,
            "bottom": null,
            "display": null,
            "flex": null,
            "flex_flow": null,
            "grid_area": null,
            "grid_auto_columns": null,
            "grid_auto_flow": null,
            "grid_auto_rows": null,
            "grid_column": null,
            "grid_gap": null,
            "grid_row": null,
            "grid_template_areas": null,
            "grid_template_columns": null,
            "grid_template_rows": null,
            "height": null,
            "justify_content": null,
            "justify_items": null,
            "left": null,
            "margin": null,
            "max_height": null,
            "max_width": null,
            "min_height": null,
            "min_width": null,
            "object_fit": null,
            "object_position": null,
            "order": null,
            "overflow": null,
            "overflow_x": null,
            "overflow_y": null,
            "padding": null,
            "right": null,
            "top": null,
            "visibility": null,
            "width": null
          }
        },
        "a8797b830eeb43f3a7e0f73a557f4173": {
          "model_module": "@jupyter-widgets/controls",
          "model_name": "DescriptionStyleModel",
          "model_module_version": "1.5.0",
          "state": {
            "_model_module": "@jupyter-widgets/controls",
            "_model_module_version": "1.5.0",
            "_model_name": "DescriptionStyleModel",
            "_view_count": null,
            "_view_module": "@jupyter-widgets/base",
            "_view_module_version": "1.2.0",
            "_view_name": "StyleView",
            "description_width": ""
          }
        }
      }
    }
  },
  "cells": [
    {
      "cell_type": "markdown",
      "metadata": {
        "id": "view-in-github",
        "colab_type": "text"
      },
      "source": [
        "<a href=\"https://colab.research.google.com/github/mariacmorais/LLMCluestering/blob/main/Clustering4.ipynb\" target=\"_parent\"><img src=\"https://colab.research.google.com/assets/colab-badge.svg\" alt=\"Open In Colab\"/></a>"
      ]
    },
    {
      "cell_type": "code",
      "source": [
        "# Install dependencies if needed\n",
        "# !pip install sentence-transformers umap-learn hdbscan pandas matplotlib\n",
        "\n",
        "import pandas as pd\n",
        "import matplotlib.pyplot as plt\n",
        "import umap\n",
        "import hdbscan\n",
        "from sentence_transformers import SentenceTransformer\n",
        "from sklearn.preprocessing import StandardScaler\n",
        "from collections import Counter\n",
        "import warnings\n"
      ],
      "metadata": {
        "id": "vghXoXhTZ3Tl"
      },
      "execution_count": 38,
      "outputs": []
    },
    {
      "cell_type": "code",
      "source": [
        "\n",
        "# -----------------------------\n",
        "# 1. Load Data (Multiline + Semicolon)\n",
        "# -----------------------------\n",
        "warnings.filterwarnings(\"ignore\", category=SyntaxWarning)\n",
        "\n",
        "file_path = 'complete_list.csv'\n",
        "\n",
        "df = pd.read_csv(\n",
        "    file_path,\n",
        "    sep=';',\n",
        "    quotechar='\"',\n",
        "    encoding='utf-8-sig',\n",
        "    engine='python'\n",
        ")\n",
        "\n",
        "# Clean and filter columns\n",
        "df = df.rename(columns=lambda x: x.strip().lower())\n",
        "df = df.rename(columns={'gesture_definition': 'definition', 'gesture_name': 'name'})\n",
        "df.dropna(subset=['definition'], inplace=True)\n",
        "df['definition'] = df['definition'].str.strip()\n"
      ],
      "metadata": {
        "id": "zNinIoJGZ6Kb"
      },
      "execution_count": 39,
      "outputs": []
    },
    {
      "cell_type": "code",
      "source": [
        "\n",
        "# -----------------------------\n",
        "# 2. Embed Using BioBERT\n",
        "# -----------------------------\n",
        "print(\"Loading model...\")\n",
        "model = SentenceTransformer('allenai/scibert_scivocab_uncased')\n",
        "\n",
        "# Optional: Prompt Engineering\n",
        "formatted_definitions = [\"This surgical gesture is defined as: \" + d for d in df['definition']]\n",
        "\n",
        "print(\"Embedding definitions...\")\n",
        "embeddings = model.encode(formatted_definitions, show_progress_bar=True)\n",
        "\n"
      ],
      "metadata": {
        "colab": {
          "base_uri": "https://localhost:8080/",
          "height": 121,
          "referenced_widgets": [
            "d11bc2704a1841de9622af6392ced77d",
            "bcc87093280b45db91d914103d7710ed",
            "270f610f6a374cdaaf335d14ea9ed324",
            "ffad658e105040419c41ff1665423147",
            "4443e8d3609c4c05b56e539711408f4c",
            "e1b2d67366fa4847a7f16ef9e40567fc",
            "90579b16c68447d9bfb92a3098426800",
            "16c68d61b6c04209b5bd977155a2f0a6",
            "ce81906d68be4a96ac50a583b8bc8c0d",
            "0d1d440a2a224c548dcffaf8452d6724",
            "a8797b830eeb43f3a7e0f73a557f4173"
          ]
        },
        "id": "zCZEtd_dZ9fJ",
        "outputId": "c8122076-b604-4d99-fd30-c90c127db410"
      },
      "execution_count": 40,
      "outputs": [
        {
          "output_type": "stream",
          "name": "stdout",
          "text": [
            "Loading model...\n"
          ]
        },
        {
          "output_type": "stream",
          "name": "stderr",
          "text": [
            "WARNING:sentence_transformers.SentenceTransformer:No sentence-transformers model found with name allenai/scibert_scivocab_uncased. Creating a new one with mean pooling.\n"
          ]
        },
        {
          "output_type": "stream",
          "name": "stdout",
          "text": [
            "Embedding definitions...\n"
          ]
        },
        {
          "output_type": "display_data",
          "data": {
            "text/plain": [
              "Batches:   0%|          | 0/9 [00:00<?, ?it/s]"
            ],
            "application/vnd.jupyter.widget-view+json": {
              "version_major": 2,
              "version_minor": 0,
              "model_id": "d11bc2704a1841de9622af6392ced77d"
            }
          },
          "metadata": {}
        }
      ]
    },
    {
      "cell_type": "code",
      "source": [
        "# -----------------------------\n",
        "# 3. Dimensionality Reduction\n",
        "# -----------------------------\n",
        "scaled_embeddings = StandardScaler().fit_transform(embeddings)\n",
        "\n",
        "print(\"Running UMAP...\")\n",
        "umap_model = umap.UMAP(n_neighbors=15, min_dist=0.0, n_components=2, random_state=42)\n",
        "umap_embeddings = umap_model.fit_transform(scaled_embeddings)\n"
      ],
      "metadata": {
        "colab": {
          "base_uri": "https://localhost:8080/"
        },
        "id": "ScL6VYUZaAtA",
        "outputId": "c4cfd966-9c54-4ae3-fee3-60384304f3c0"
      },
      "execution_count": 41,
      "outputs": [
        {
          "output_type": "stream",
          "name": "stdout",
          "text": [
            "Running UMAP...\n"
          ]
        },
        {
          "output_type": "stream",
          "name": "stderr",
          "text": [
            "/usr/local/lib/python3.12/dist-packages/umap/umap_.py:1952: UserWarning:\n",
            "\n",
            "n_jobs value 1 overridden to 1 by setting random_state. Use no seed for parallelism.\n",
            "\n"
          ]
        }
      ]
    },
    {
      "cell_type": "code",
      "source": [
        "\n",
        "# -----------------------------\n",
        "# 4. Clustering\n",
        "# -----------------------------\n",
        "print(\"Clustering with HDBSCAN...\")\n",
        "clusterer = hdbscan.HDBSCAN(min_cluster_size=3, min_samples=1, metric='euclidean')\n",
        "cluster_labels = clusterer.fit_predict(umap_embeddings)\n",
        "\n",
        "# Add to dataframe\n",
        "df['Cluster'] = cluster_labels\n"
      ],
      "metadata": {
        "colab": {
          "base_uri": "https://localhost:8080/"
        },
        "id": "oWEwxAP8aCnl",
        "outputId": "1efe703f-83ea-4c09-c1c3-5a6a5b1c4521"
      },
      "execution_count": 42,
      "outputs": [
        {
          "output_type": "stream",
          "name": "stdout",
          "text": [
            "Clustering with HDBSCAN...\n"
          ]
        },
        {
          "output_type": "stream",
          "name": "stderr",
          "text": [
            "/usr/local/lib/python3.12/dist-packages/sklearn/utils/deprecation.py:151: FutureWarning:\n",
            "\n",
            "'force_all_finite' was renamed to 'ensure_all_finite' in 1.6 and will be removed in 1.8.\n",
            "\n",
            "/usr/local/lib/python3.12/dist-packages/sklearn/utils/deprecation.py:151: FutureWarning:\n",
            "\n",
            "'force_all_finite' was renamed to 'ensure_all_finite' in 1.6 and will be removed in 1.8.\n",
            "\n"
          ]
        }
      ]
    },
    {
      "cell_type": "code",
      "source": [
        "# -----------------------------\n",
        "# 5. Save and Inspect\n",
        "# -----------------------------\n",
        "df.to_csv(\"clustered_definitions.csv\", index=False)\n",
        "print(\"Clustered definitions saved to clustered_definitions.csv\")\n",
        "\n"
      ],
      "metadata": {
        "colab": {
          "base_uri": "https://localhost:8080/"
        },
        "id": "V-IcF2DSaFTm",
        "outputId": "8e9fbd88-f9eb-4d20-8bcc-fa10a4b4a70a"
      },
      "execution_count": 43,
      "outputs": [
        {
          "output_type": "stream",
          "name": "stdout",
          "text": [
            "Clustered definitions saved to clustered_definitions.csv\n"
          ]
        }
      ]
    },
    {
      "cell_type": "code",
      "source": [
        "# -----------------------------\n",
        "# 6. Visualization\n",
        "# -----------------------------\n",
        "plt.figure(figsize=(10, 6))\n",
        "plt.scatter(umap_embeddings[:, 0], umap_embeddings[:, 1], c=cluster_labels, cmap='tab10', s=15)\n",
        "plt.colorbar()\n",
        "plt.title('UMAP projection of clustered surgical definitions')\n",
        "plt.xlabel('UMAP-1')\n",
        "plt.ylabel('UMAP-2')\n",
        "plt.show()\n",
        "\n",
        "\n"
      ],
      "metadata": {
        "colab": {
          "base_uri": "https://localhost:8080/",
          "height": 564
        },
        "id": "p-SAyVVDaGt9",
        "outputId": "2cf12eaa-927f-48d5-ed3e-ddcb5c7a27c6"
      },
      "execution_count": 44,
      "outputs": [
        {
          "output_type": "display_data",
          "data": {
            "text/plain": [
              "<Figure size 1000x600 with 2 Axes>"
            ],
            "image/png": "[encoded data removed]"
          },
          "metadata": {}
        }
      ]
    },
    {
      "cell_type": "code",
      "source": [
        "# -----------------------------\n",
        "# 7. Print Cluster Examples\n",
        "# -----------------------------\n",
        "num_clusters = len(set(cluster_labels)) - (1 if -1 in cluster_labels else 0)\n",
        "print(f\"\\nNumber of clusters (excluding noise): {num_clusters}\\n\")\n",
        "\n",
        "clusters = df.groupby(\"Cluster\")\n",
        "\n",
        "for cluster_id, group in clusters:\n",
        "    if cluster_id == -1:\n",
        "        continue  # Skip noise\n",
        "    print(f\"\\n--- Cluster {cluster_id} ({len(group)} items) ---\")\n",
        "    for definition in group[\"definition\"].head(3):  # show top 3 per cluster\n",
        "        print(f\"- {definition}\")\n",
        "\n"
      ],
      "metadata": {
        "colab": {
          "base_uri": "https://localhost:8080/"
        },
        "id": "B6Cev91-aH1u",
        "outputId": "206af6ff-a21b-4406-bdf6-b577839689ac"
      },
      "execution_count": 45,
      "outputs": [
        {
          "output_type": "stream",
          "name": "stdout",
          "text": [
            "\n",
            "Number of clusters (excluding noise): 42\n",
            "\n",
            "\n",
            "--- Cluster 0 (10 items) ---\n",
            "- Start: when the instrument tip touches the target with the intent to dissect it. End: when the instrument doesn’t touch the target anymore.\n",
            "- The anatomical structure is cut by scissor. Started as soon as the cutting instrument began to close around tissue and ended with the complete closure of the cutting instrument[75] Start: when the instrument starts to fluidly close around a target. End: when the instrument is fully closed.\n",
            "- 1. Navigate to the point of dissection. 2. Slowly penetrate the tissue. 3. Open the jaws to separate layers. 4. Pull out the instrument in an open position\n",
            "\n",
            "--- Cluster 1 (3 items) ---\n",
            "- Instruments are oriented to align with a target before grasping it. Common in needle pickup or tissue handling.\n",
            "- The instrument or object is aligned to a target location and positioned precisely into place.\n",
            "- A generic placement gesture where an item is positioned or set down in a designated area.\n",
            "\n",
            "--- Cluster 2 (8 items) ---\n",
            "- Active hemorrhage is observed, either spontaneously or following a gesture, requiring hemostatic response.\n",
            "- Two instruments or structures are brought into proximity to enable a subsequent gesture (e.g., clipping, suturing).\n",
            "- Brief contact with a structure or instrument, not intended as a grasp or manipulation.\n",
            "\n",
            "--- Cluster 3 (4 items) ---\n",
            "- Positioning closer to surgeon with open tip\n",
            "- Positioning away from surgeon with open tip.\n",
            "- Positioning closer to surgeon with closed tip.\n",
            "\n",
            "--- Cluster 4 (8 items) ---\n",
            "- Both instruments work in coordination to stretch or spread tissue in opposing directions for exposure.\n",
            "- Both instruments simultaneously apply traction to tissue or suture.\n",
            "- Grasping the free end of the suture during knot tying to control tension or form loops.\n",
            "\n",
            "--- Cluster 5 (7 items) ---\n",
            "- Reaching for an object with empty tool/hand.\n",
            "- When tooltips begin to close to grab a target between them.\n",
            "- Grasping an object by contacting and closing the finger of the active hand. Moving an object by tool-grasping.\n",
            "\n",
            "--- Cluster 6 (6 items) ---\n",
            "- Whenever the surgeon uses the clip applier.\n",
            "- Whenever the surgeon used energy to control bleeding.\n",
            "- Unannotated data. Unannotated.\n",
            "\n",
            "--- Cluster 7 (6 items) ---\n",
            "- For the purpose of compression hemostasis, the bleeding site is compressed by gauze or aspirator.\n",
            "- The surgical area is wiped with gauze for the purpose of wiping off fluid.\n",
            "- For the purpose of clean, the fluid/blood/bile or other substances is aspirated by aspirator.\n",
            "\n",
            "--- Cluster 8 (9 items) ---\n",
            "- Tissue is dissected using electrocautery to achieve both separation and hemostasis, typically with a monopolar hook or spatula.\n",
            "- Sharp dissection of tissue using cold scissors or scalpel without energy application, separating layers precisely.\n",
            "- Tissue is divided using high-frequency energy or harmonic scalpel to achieve hemostatic dissection.\n",
            "\n",
            "--- Cluster 9 (6 items) ---\n",
            "- Running suture out of tissue following a suture throw.\n",
            "- The overall process of performing knot(s) with the suture.\n",
            "- Generic term for drawing the suture thread through tissue.\n",
            "\n",
            "--- Cluster 10 (5 items) ---\n",
            "- Portions of the task wherein the surgeons performed certain actions in preparation for the next maneuver.\n",
            "- The instrument navigates toward a peg target in preparation for grasping or interaction.\n",
            "- The instrument is directed toward a rod or vertical object as part of a dexterity task.\n",
            "\n",
            "--- Cluster 11 (14 items) ---\n",
            "- Left-hand instrument performs a backhand movement over another structure or instrument.\n",
            "- Right-hand instrument performs a backhand movement over another structure or instrument.\n",
            "- Left-hand instrument performs a backhand movement underneath a structure or instrument.\n",
            "\n",
            "--- Cluster 12 (5 items) ---\n",
            "- After releasing the suture, instruments move to a new position or anatomical landmark.\n",
            "- With the needle secured, the instrument moves to the central working zone.\n",
            "- The subject inserts the needle into the tissue, entering at the dot marked on one side of the incision and exiting at the corresponding dot marked on the other side of the incision[45]\n",
            "\n",
            "--- Cluster 13 (3 items) ---\n",
            "- Separating tissue planes using electrical cautery\n",
            "- Slicing tissue or sutures using sharp scissors\n",
            "- Sharp and blunt dissection\n",
            "\n",
            "--- Cluster 14 (4 items) ---\n",
            "- Occluding a vessel or connecting latex drains with a metal clip.\n",
            "- Separating tissues with a mechanical stapling device.\n",
            "- Pierce a membrane of a vessel with a needle.\n",
            "\n",
            "--- Cluster 15 (3 items) ---\n",
            "- Suture thread is cut using scissors or energy instruments.\n",
            "- Combined pulling of the needle and attached suture through the tissue.\n",
            "- Cutting the suture thread after tying or placement.\n",
            "\n",
            "--- Cluster 16 (3 items) ---\n",
            "- Both instruments are collaborating on the same task\n",
            "- Instrument remains motionless within the field, not performing any action. Often reflects pauses or transitions.\n",
            "- No functional action was performed and repeated (more than twice) grasps or slips/misses within a short period of time.\n",
            "\n",
            "--- Cluster 17 (11 items) ---\n",
            "- The instrument is performing an action that requires an accurate motion of the tip.\n",
            "- The camera is repositioned to adjust the visual field or focus on a new area.\n",
            "- The instrument is moving with or without an object on the tip in a particular area of the scenario.\n",
            "\n",
            "--- Cluster 18 (6 items) ---\n",
            "- One instrument transfers a peg to the other instrument across the midline, often in a crossover motion.\n",
            "- Both instruments simultaneously hold or stabilize the peg during hand-off or placement.\n",
            "- The peg is passed directly from one grasper to another, typically across the midline.\n",
            "\n",
            "--- Cluster 19 (10 items) ---\n",
            "- Represents how smooth the needle drive in and out of tissue.\n",
            "- Needle is grasped and its angle adjusted for optimal driving through tissue.\n",
            "- The needle is driven through tissue in a single, smooth arc using one or both instruments to maintain ideal angles.\n",
            "\n",
            "--- Cluster 20 (8 items) ---\n",
            "- The first knot/Any knot thrown subsequent to the first knot.\n",
            "- A loop is created in the suture (typically in a C-shape) to initiate a knot.\n",
            "- The suture is wrapped or looped in preparation for a knot.\n",
            "\n",
            "--- Cluster 21 (3 items) ---\n",
            "- No movement or insignificant movement with closed tip.\n",
            "- No movement with open tip. The instrument is in a resting position.\n",
            "- Both instruments cooperate to adjust the orientation of the needle.\n",
            "\n",
            "--- Cluster 22 (5 items) ---\n",
            "- The suture is sequentially grasped, tensioned, and pulled through tissue to complete the needle passage.\n",
            "- After passage, the needle is pulled through tissue to complete the arc.\n",
            "- The needle is carefully pulled through the exit side of the tissue, completing the suture pass.\n",
            "\n",
            "--- Cluster 23 (10 items) ---\n",
            "- Separating tissue planes using the ultrasonic energy generated by the ultrasonic shears\n",
            "- Tissue is separated or mobilized along anatomical planes using sharp or blunt dissection techniques.\n",
            "- Separating tissue planes using the blunt end of an instrument\n",
            "\n",
            "--- Cluster 24 (5 items) ---\n",
            "- Slack is introduced into the suture line to enable further manipulation.\n",
            "- Releasing tension in the suture to create slack for further steps.\n",
            "- Both ends of the suture are tensioned to secure knot or tissue approximation.\n",
            "\n",
            "--- Cluster 25 (7 items) ---\n",
            "- The free end ('tail') of the suture is secured by the instrument.\n",
            "- The free end ('tail') of the suture is held to assist with loop formation or tensioning during knot tying.\n",
            "- The suture tail is pulled through the loop during knot tying to secure the knot.\n",
            "\n",
            "--- Cluster 26 (14 items) ---\n",
            "- Left-hand instrument pulls the suture out after needle passage.\n",
            "- The right-hand instrument is used as an anchor to form a C-loop in the suture.\n",
            "- Synonym for the above — bimanual needle alignment.\n",
            "\n",
            "--- Cluster 27 (3 items) ---\n",
            "- Needle is inserted into tissue and advanced along its arc to complete passage.\n",
            "- Needle is retracted or drawn through tissue after passage.\n",
            "- Needle is withdrawn from the tissue — same as 'pulling needle'.\n",
            "\n",
            "--- Cluster 28 (9 items) ---\n",
            "- Instrument is advanced through an opposing tissue layer, typically from the backside or exit direction.\n",
            "- Needle tip is advanced through the skin surface, initiating needle passage.\n",
            "- Needle is guided to penetrate the surface of tissue or synthetic skin.\n",
            "\n",
            "--- Cluster 29 (5 items) ---\n",
            "- The tissue is dissected and separated by forceps\n",
            "- The tissue is dissected by the back or tip of the cautery hook\n",
            "- The tissue is hooked by cautery hook without disconnection or activation\n",
            "\n",
            "--- Cluster 30 (4 items) ---\n",
            "- The subject extracts the needle out of the tissue\n",
            "- The delicate movement of a needle into and out of the tissue\n",
            "- Insert and pull the needle into artificial vessels\n",
            "\n",
            "--- Cluster 31 (5 items) ---\n",
            "- The subject adjusts the needle grasping pose, passing the needle between the two instruments.\n",
            "- The subject picks up the needle.\n",
            "- Dynamic process of adjusting needle position for upcoming gestures.\n",
            "\n",
            "--- Cluster 32 (4 items) ---\n",
            "- Object or tissue is released from the instrument intentionally into a designated location.\n",
            "- A landmark or boundary is indicated using electrocautery, ink, or mechanical means.\n",
            "- Suture is intentionally released by the instrument into the surgical field.\n",
            "\n",
            "--- Cluster 33 (3 items) ---\n",
            "- Right-hand grasper reaches for the free end of the suture to prepare for tensioning or manipulation.\n",
            "- Instrument approaches needle to initiate control.\n",
            "- Right-hand instrument approaches suture for grasp.\n",
            "\n",
            "--- Cluster 34 (7 items) ---\n",
            "- Finalizing the cut on an anatomical structure or object, often at the end of a dissection or transection sequence.\n",
            "- Removal of tissue or specimen from the body cavity, usually following resection.\n",
            "- Fluid or dye is delivered into tissues or body cavities via a syringe or needle.\n",
            "\n",
            "--- Cluster 35 (5 items) ---\n",
            "- Introduction of the specimen retrieval bag into the abdominal cavity through a trocar.\n",
            "- Removal of the endobag containing the specimen from the body through a trocar or incision.\n",
            "- Replacement of one instrument with another, often via trocar exchange.\n",
            "\n",
            "--- Cluster 36 (3 items) ---\n",
            "- Instrument tip enters tissue for purposes such as needle insertion, dissection, or traction.\n",
            "- Tissue or organ is pulled away from the operative field to expose deeper structures.\n",
            "- Instrument-to-instrument transfer of needle, suture, or object.\n",
            "\n",
            "--- Cluster 37 (4 items) ---\n",
            "- Grab Suture; Grab skin; Transfer needle/suture; Align needle for driving trough skin; Align needle on needle driver; Camera zoom in/out; Camera rotation\n",
            "- Instrument extends toward a peg in preparation for manipulation.\n",
            "- Instrument moves toward needle in preparation for grasping.\n",
            "\n",
            "--- Cluster 38 (3 items) ---\n",
            "- Right-hand instrument moves the needle toward the midline, often for driving or exchange.\n",
            "- Needle-holding instrument navigates to midline for subsequent gesture.\n",
            "- Left-hand instrument moves toward needle for grasp.\n",
            "\n",
            "--- Cluster 39 (5 items) ---\n",
            "- Right-hand instrument secures the needle for reorientation or subsequent needle driving.\n",
            "- Approach gesture with jaws open, preparing to grasp needle.\n",
            "- Right-hand instrument moves toward needle for grasp.\n",
            "\n",
            "--- Cluster 40 (3 items) ---\n",
            "- Needle is secured and oriented by the instrument, ready for driving.\n",
            "- The left instrument moves the needle into proper orientation.\n",
            "- The right instrument moves the needle into proper orientation.\n",
            "\n",
            "--- Cluster 41 (3 items) ---\n",
            "- Left-hand instrument manipulates the needle for proper orientation.\n",
            "- Needle is driven by the left-hand instrument.\n",
            "- Needle is driven by the right-hand instrument.\n"
          ]
        }
      ]
    },
    {
      "cell_type": "code",
      "source": [
        "import plotly.express as px\n",
        "\n",
        "# Create a DataFrame for plotting\n",
        "plot_df = df.copy()\n",
        "plot_df['UMAP-1'] = umap_embeddings[:, 0]\n",
        "plot_df['UMAP-2'] = umap_embeddings[:, 1]\n",
        "\n",
        "# You can show gesture name, definition, or both in the hover\n",
        "plot_df['hover_text'] = plot_df['name'] + \": \" + plot_df['definition'].str.slice(0, 150)\n",
        "\n",
        "fig = px.scatter(\n",
        "    plot_df,\n",
        "    x=\"UMAP-1\",\n",
        "    y=\"UMAP-2\",\n",
        "    color=plot_df['Cluster'].astype(str),\n",
        "    hover_name=\"name\",\n",
        "    hover_data={\"definition\": True, \"Cluster\": True},\n",
        "    title=\"Interactive Clustering of Surgical Gestures\"\n",
        ")\n",
        "\n",
        "fig.update_traces(marker=dict(size=6))\n",
        "fig.show()"
      ],
      "metadata": {
        "colab": {
          "base_uri": "https://localhost:8080/",
          "height": 542
        },
        "id": "MRpfH9OMd7n7",
        "outputId": "86807877-7930-4a17-a2a2-e41369490c8c"
      },
      "execution_count": 46,
      "outputs": [
        {
          "output_type": "display_data",
          "data": {
            "text/html": [
              "<html>\n",
              "<head><meta charset=\"utf-8\" /></head>\n",
              "<body>\n",
              "    <div>            <script src=\"https://cdnjs.cloudflare.com/ajax/libs/mathjax/2.7.5/MathJax.js?config=TeX-AMS-MML_SVG\"></script><script type=\"text/javascript\">if (window.MathJax && window.MathJax.Hub && window.MathJax.Hub.Config) {window.MathJax.Hub.Config({SVG: {font: \"STIX-Web\"}});}</script>                <script type=\"text/javascript\">window.PlotlyConfig = {MathJaxConfig: 'local'};</script>\n",
              "        <script charset=\"utf-8\" src=\"https://cdn.plot.ly/plotly-2.35.2.min.js\"></script>                <div id=\"40d0a3fc-9fa9-4eab-8885-b5d5fff8c10f\" class=\"plotly-graph-div\" style=\"height:525px; width:100%;\"></div>            <script type=\"text/javascript\">                                    window.PLOTLYENV=window.PLOTLYENV || {};                                    if (document.getElementById(\"40d0a3fc-9fa9-4eab-8885-b5d5fff8c10f\")) {                    Plotly.newPlot(                        \"40d0a3fc-9fa9-4eab-8885-b5d5fff8c10f\",                        [{\"customdata\":[[\"Start: when the instrument tip touches the target with the intent to dissect it. End: when the instrument doesn’t touch the target anymore.\",0],[\"The anatomical structure is cut by scissor. Started as soon as the cutting instrument began to close around tissue and ended with the complete closure of the cutting instrument[75] Start: when the instrument starts to fluidly close around a target. End: when the instrument is fully closed.\",0],[\"1. Navigate to the point of dissection. 2. Slowly penetrate the tissue. 3. Open the jaws to separate layers. 4. Pull out the instrument in an open position\",0],[\"Start: when the instrument is visually estimated to start cauterizing the target. End: when the instrument is visually estimated to stop cauterizing the target.\",0],[\"The anatomical structure is clamped by clip applier. Start: when the instrument starts to close around a target. End: when the clipper begins to release its grip after the application of a clip. Started as soon as the clipper began to close around tissue and ended with the clipper beginning to release its grip after the application of a clip.\",0],[\"1. Navigate to approach position (waypoints can be added). 2. Navigate to grasp position. 3. Close jaws. Grasping an object using an active tool. Moving an object using a hand motion. The tissue\\u002ffree item (eg. clip, gauze) is grasped and displaced. As soon as the grasper began to close the instrument and ended with its complete closure. Start: when the instrument jaws begin to be fluidly closed (even if it is further away, but this is left to the annotator's estimation). End: when the instrument jaws stop closing because of the thickness of the tissue or when the instrument jaws are fully closed.\",0],[\"Holding an object\\u002fHolding an object using a tool. Keep a target between tooltips (it is a transition action verb between other verbs) or block a vessel by applying a force from the target interior or exterior. Started after the action grasp, if the grasper successfully grasped tissue. It ended as soon as the grasper began to release its grip or when tissue started to slip out of the grip. If the target was grasped before: directly after the “Grasp” action is successfully completed. until As soon as the grasper begins to release its grip or when tissue starts slipping out of the grip.\",0],[\"Start: when water is first seen applied by the actor or the water level is rising with the irrigation below the water surface. End: when no water is actively coming out of the instrument anymore.\",0],[\"Start: when liquid or tissue starts disappearing because of the instrument or when the instrument moves in a pouch where liquid is present frequently in a way that makes suctioning apparent (annotator estimation). \\nEnd: when the instrument is not touching a liquid anymore or no tissue or liquid is disappearing anymore because of the instrument.[25]\",0],[\"Start: when a target still adheres to the instrument even though the preceding action ended.\\nEnd: when another action can be annotated, namely when the target does not stick anymore or the actor starts performing another action.[25]\",0]],\"hovertemplate\":\"\\u003cb\\u003e%{hovertext}\\u003c\\u002fb\\u003e\\u003cbr\\u003e\\u003cbr\\u003ecolor=0\\u003cbr\\u003eUMAP-1=%{x}\\u003cbr\\u003eUMAP-2=%{y}\\u003cbr\\u003edefinition=%{customdata[0]}\\u003cbr\\u003eCluster=%{customdata[1]}\\u003cextra\\u003e\\u003c\\u002fextra\\u003e\",\"hovertext\":[\"Blunt dissect\",\"Cut\",\"Dissection\",\"Cauterize\",\"Clip\",\"Grasp\",\"Hold\",\"Irrigate\",\"Suction\",\"Stick\"],\"legendgroup\":\"0\",\"marker\":{\"color\":\"#636efa\",\"symbol\":\"circle\",\"size\":6},\"mode\":\"markers\",\"name\":\"0\",\"orientation\":\"v\",\"showlegend\":true,\"x\":[10.073275,10.110179,9.743625,10.0891,10.040504,10.016816,10.123054,10.158396,10.187044,10.124899],\"xaxis\":\"x\",\"y\":[12.75025,12.6488695,12.409488,12.750727,12.618496,12.545654,12.659025,12.696618,12.6846485,12.746468],\"yaxis\":\"y\",\"type\":\"scatter\"},{\"customdata\":[[\"The tissue is dissected and separated by forceps\",29],[\"The tissue is dissected by the back or tip of the cautery hook\",29],[\"The tissue is hooked by cautery hook without disconnection or activation\",29],[\"For the purpose of exposure, the tissue is displaced by pushing or pressing.\",29],[\"For the purpose of exposure, the tissue is scratched by instruments\",29]],\"hovertemplate\":\"\\u003cb\\u003e%{hovertext}\\u003c\\u002fb\\u003e\\u003cbr\\u003e\\u003cbr\\u003ecolor=29\\u003cbr\\u003eUMAP-1=%{x}\\u003cbr\\u003eUMAP-2=%{y}\\u003cbr\\u003edefinition=%{customdata[0]}\\u003cbr\\u003eCluster=%{customdata[1]}\\u003cextra\\u003e\\u003c\\u002fextra\\u003e\",\"hovertext\":[\"Blunt dissection\",\"Hook dissection\",\"Inefficient hook\",\"Push\",\"Scratch\"],\"legendgroup\":\"29\",\"marker\":{\"color\":\"#EF553B\",\"symbol\":\"circle\",\"size\":6},\"mode\":\"markers\",\"name\":\"29\",\"orientation\":\"v\",\"showlegend\":true,\"x\":[6.7277875,6.722083,6.7362943,6.448649,6.633088],\"xaxis\":\"x\",\"y\":[10.543505,10.406954,10.534055,10.759796,10.698144],\"yaxis\":\"y\",\"type\":\"scatter\"},{\"customdata\":[[\"Tissue is dissected using electrocautery to achieve both separation and hemostasis, typically with a monopolar hook or spatula.\",8],[\"Sharp dissection of tissue using cold scissors or scalpel without energy application, separating layers precisely.\",8],[\"Tissue is divided using high-frequency energy or harmonic scalpel to achieve hemostatic dissection.\",8],[\"Dissection achieved through application of thermal energy (e.g., monopolar cautery) to divide or mobilize tissues.\",8],[\"The tissue is hooked using an electrocautery or blunt hook, then gently elevated and dissected from underlying layers.\",8],[\"The tissue is transected using energy (e.g., monopolar hook) while simultaneously coagulating vessels along the cut path.\",8],[\"Application of thermal or bipolar energy to stop bleeding or seal vessels\\u002ftissues.\",8],[\"A vessel or structure is coagulated using energy before being divided with scissors or cautery to prevent bleeding.\",8],[\"Cauterizing a vessel without cutting. For the purpose of hemostasis, the bleeding site is cauterized by cautery hook\\u002fcoagulator.\",8]],\"hovertemplate\":\"\\u003cb\\u003e%{hovertext}\\u003c\\u002fb\\u003e\\u003cbr\\u003e\\u003cbr\\u003ecolor=8\\u003cbr\\u003eUMAP-1=%{x}\\u003cbr\\u003eUMAP-2=%{y}\\u003cbr\\u003edefinition=%{customdata[0]}\\u003cbr\\u003eCluster=%{customdata[1]}\\u003cextra\\u003e\\u003c\\u002fextra\\u003e\",\"hovertext\":[\"Burn dissect\",\"Cold cut\",\"Cutting (high frequency)\",\"Dissection (thermal)\",\"Hook\",\"Hot cut\",\"Coagulate\",\"Coagulate then cut\",\"Coagulation\"],\"legendgroup\":\"8\",\"marker\":{\"color\":\"#00cc96\",\"symbol\":\"circle\",\"size\":6},\"mode\":\"markers\",\"name\":\"8\",\"orientation\":\"v\",\"showlegend\":true,\"x\":[4.9348364,5.2495184,4.9034023,4.8512096,5.236944,4.901495,4.9573374,5.014021,4.964687],\"xaxis\":\"x\",\"y\":[10.710007,10.517657,10.688518,10.797918,10.598601,10.677977,10.941424,10.799498,10.777457],\"yaxis\":\"y\",\"type\":\"scatter\"},{\"customdata\":[[\"Separating tissue planes using electrical cautery\",13],[\"Slicing tissue or sutures using sharp scissors\",13],[\"Sharp and blunt dissection\",13]],\"hovertemplate\":\"\\u003cb\\u003e%{hovertext}\\u003c\\u002fb\\u003e\\u003cbr\\u003e\\u003cbr\\u003ecolor=13\\u003cbr\\u003eUMAP-1=%{x}\\u003cbr\\u003eUMAP-2=%{y}\\u003cbr\\u003edefinition=%{customdata[0]}\\u003cbr\\u003eCluster=%{customdata[1]}\\u003cextra\\u003e\\u003c\\u002fextra\\u003e\",\"hovertext\":[\"Cut cautery\",\"Cutting\",\"Regular Dissection\"],\"legendgroup\":\"13\",\"marker\":{\"color\":\"#ab63fa\",\"symbol\":\"circle\",\"size\":6},\"mode\":\"markers\",\"name\":\"13\",\"orientation\":\"v\",\"showlegend\":true,\"x\":[6.1232824,6.047076,6.1715474],\"xaxis\":\"x\",\"y\":[10.243845,10.174611,10.174489],\"yaxis\":\"y\",\"type\":\"scatter\"},{\"customdata\":[[\"Separating tissue planes using the ultrasonic energy generated by the ultrasonic shears\",23],[\"Tissue is separated or mobilized along anatomical planes using sharp or blunt dissection techniques.\",23],[\"Separating tissue planes using the blunt end of an instrument\",23],[\"Tissue layers are separated using spreading or pushing motions, typically without cutting.\",23],[\"The targeted structure is isolated and dissected circumferentially to form a pedicle for ligation or division.\",23],[\"A thin tissue plane is bluntly dissected and peeled away using a pushing or sweeping motion of the instrument.\",23],[\"Tissue layers are separated by opening the instrument jaws or by lateral sweeping motions to widen the operative space.\",23],[\"A portion of tissue is grasped or secured in preparation for retraction, ligation, or cutting.\",23],[\"Application of a clamping instrument (e.g., clip applier or grasper) to compress tissue or occlude a vessel.\",23],[\"Tissue is grasped and pulled in a controlled direction to expose deeper structures or operative planes.\",23]],\"hovertemplate\":\"\\u003cb\\u003e%{hovertext}\\u003c\\u002fb\\u003e\\u003cbr\\u003e\\u003cbr\\u003ecolor=23\\u003cbr\\u003eUMAP-1=%{x}\\u003cbr\\u003eUMAP-2=%{y}\\u003cbr\\u003edefinition=%{customdata[0]}\\u003cbr\\u003eCluster=%{customdata[1]}\\u003cextra\\u003e\\u003c\\u002fextra\\u003e\",\"hovertext\":[\"Cut ultrasonic\",\"Dissect\",\"Dissecting\",\"Dissection (blunt)\",\"Pedicalize\",\"Peel\\u002fpush\",\"Spread\",\"Tissue bite\",\"Clamp\",\"Retraction\"],\"legendgroup\":\"23\",\"marker\":{\"color\":\"#FFA15A\",\"symbol\":\"circle\",\"size\":6},\"mode\":\"markers\",\"name\":\"23\",\"orientation\":\"v\",\"showlegend\":true,\"x\":[6.385566,5.639487,6.432237,6.171936,5.4906816,5.751025,6.081105,5.7623,5.66286,5.844231],\"xaxis\":\"x\",\"y\":[10.424661,10.908551,10.384837,10.611412,10.999316,10.786932,10.735146,10.931399,10.762416,10.855391],\"yaxis\":\"y\",\"type\":\"scatter\"},{\"customdata\":[[\"Finalizing the cut on an anatomical structure or object, often at the end of a dissection or transection sequence.\",34],[\"Removal of tissue or specimen from the body cavity, usually following resection.\",34],[\"Fluid or dye is delivered into tissues or body cavities via a syringe or needle.\",34],[\"Introduction or positioning of sling material into the surgical site.\",34],[\"Removing an organ, tissue sample, or surgical material.\",34],[\"A segment of tissue is removed surgically.\",34],[\"Complete division of a structure or organ using cutting tools.\",34]],\"hovertemplate\":\"\\u003cb\\u003e%{hovertext}\\u003c\\u002fb\\u003e\\u003cbr\\u003e\\u003cbr\\u003ecolor=34\\u003cbr\\u003eUMAP-1=%{x}\\u003cbr\\u003eUMAP-2=%{y}\\u003cbr\\u003edefinition=%{customdata[0]}\\u003cbr\\u003eCluster=%{customdata[1]}\\u003cextra\\u003e\\u003c\\u002fextra\\u003e\",\"hovertext\":[\"Cutting ends\",\"Extract\",\"Injection\",\"Sling-In\",\"Specimen\\u002fmaterial removal\",\"Resect\",\"Transection\"],\"legendgroup\":\"34\",\"marker\":{\"color\":\"#19d3f3\",\"symbol\":\"circle\",\"size\":6},\"mode\":\"markers\",\"name\":\"34\",\"orientation\":\"v\",\"showlegend\":true,\"x\":[5.8667717,5.700575,5.6967616,5.610178,5.7173347,5.7865396,5.618183],\"xaxis\":\"x\",\"y\":[11.689243,11.561616,11.880656,11.443809,11.668115,11.717676,11.478779],\"yaxis\":\"y\",\"type\":\"scatter\"},{\"customdata\":[[\"The outer tissue layer is stripped off a structure, often with traction and counter-traction.\",-1],[\"1. Open jaws. 2. Navigate to leave position. Releasing control of an object.\",-1],[\"An anatomical structure (e.g., bowel, vessel, ligament) is secured using a grasper.\",-1],[\"Maneuvering a tissue or organ that is inside the jaws of the instrument.\",-1],[\"Maneuvering a tissue or organ while it is not within the jaws of the instrument.\",-1],[\"1. Navigate to approach position (waypoints can be added). 2. Navigate to place position.\",-1],[\"The needle is grasped by the instrument, typically at the body or swage.\",-1],[\"The suture thread is grasped, often for tensioning, passing, or cutting.\",-1],[\"The needle is picked up or resecured for manipulation.\",-1],[\"Standard gesture for needle driving into and across tissue.\",-1],[\"A tied loop or knot is advanced into position using an instrument.\",-1],[\"Instruments manipulate the suture to form a knot, typically after a tissue pass.\",-1],[\"Represents if the holding is between 1\\u002f2 and 1\\u002f4 of a needle.\",-1],[\"Put the needle on place to allow suturing.\",-1],[\"The needle is positioned at a specific angle or alignment for optimal driving.\",-1],[\"The needle is retrieved from its resting position (e.g., foam, tissue, endobag).\",-1],[\"Replace the needle held by a tooltip with the other tooltip\",-1],[\"Needle is realigned to prepare for next driving gesture.\",-1],[\"A double-loop knot is tied for enhanced security.\",-1],[\"One instrument holds or assists in pulling to tension the knot.\",-1]],\"hovertemplate\":\"\\u003cb\\u003e%{hovertext}\\u003c\\u002fb\\u003e\\u003cbr\\u003e\\u003cbr\\u003ecolor=-1\\u003cbr\\u003eUMAP-1=%{x}\\u003cbr\\u003eUMAP-2=%{y}\\u003cbr\\u003edefinition=%{customdata[0]}\\u003cbr\\u003eCluster=%{customdata[1]}\\u003cextra\\u003e\\u003c\\u002fextra\\u003e\",\"hovertext\":[\"Peel\",\"Release\",\"Grasping anatomy\",\"Retracting with grasping\",\"Retracting without grasping\",\"Place\",\"Grab needle\",\"Grab suture\",\"Grasping the needle\",\"Insert needle\\u002fpush needle through tissue\",\"Knot pushing\",\"Make a knot\",\"Needle hold ratio\",\"Needle holding\",\"Orient needle\",\"Picking up the needle\",\"Position\",\"Straightening\\u002forienting needle\",\"Two loop knot\",\"Using one hand to help tighten suture\"],\"legendgroup\":\"-1\",\"marker\":{\"color\":\"#FF6692\",\"symbol\":\"circle\",\"size\":6},\"mode\":\"markers\",\"name\":\"-1\",\"orientation\":\"v\",\"showlegend\":true,\"x\":[6.5606294,10.06513,6.390199,6.789147,6.800578,10.055871,7.037278,6.466674,6.9568615,7.874621,7.0092587,6.381498,8.662152,7.924472,7.8878016,6.860289,7.344596,9.34921,6.898127,7.57556],\"xaxis\":\"x\",\"y\":[9.788985,11.194095,11.077461,11.027379,11.06588,11.133325,11.263622,9.769346,11.665709,11.695245,8.4332905,8.6342535,9.747159,9.620932,12.116936,11.784399,10.399087,9.647144,8.307308,8.738371],\"yaxis\":\"y\",\"type\":\"scatter\"},{\"customdata\":[[\"Both instruments work in coordination to stretch or spread tissue in opposing directions for exposure.\",4],[\"Both instruments simultaneously apply traction to tissue or suture.\",4],[\"Grasping the free end of the suture during knot tying to control tension or form loops.\",4],[\"Knot is cinched down by pulling on both ends or instrument pressure.\",4],[\"Undo partial a knot (generally to tighten it up without making again wire loop).\",4],[\"Both instruments work together to tension or draw the suture.\",4],[\"Both instruments coordinate to tension or advance the suture.\",4],[\"Put the artificial vessels align and the wire to allow the knot tying.\",4]],\"hovertemplate\":\"\\u003cb\\u003e%{hovertext}\\u003c\\u002fb\\u003e\\u003cbr\\u003e\\u003cbr\\u003ecolor=4\\u003cbr\\u003eUMAP-1=%{x}\\u003cbr\\u003eUMAP-2=%{y}\\u003cbr\\u003edefinition=%{customdata[0]}\\u003cbr\\u003eCluster=%{customdata[1]}\\u003cextra\\u003e\\u003c\\u002fextra\\u003e\",\"hovertext\":[\"Two-hand spread\",\"Both hands pull\",\"Knot tying - Grasp tail\",\"Knot tying - Tighten suture\",\"Loosen partially\",\"Pull suture with both graspers\",\"Pulling suture with both hands\",\"Suture handling\"],\"legendgroup\":\"4\",\"marker\":{\"color\":\"#B6E880\",\"symbol\":\"circle\",\"size\":6},\"mode\":\"markers\",\"name\":\"4\",\"orientation\":\"v\",\"showlegend\":true,\"x\":[7.020098,6.9032354,7.0601974,7.1452823,7.1827817,7.091843,7.222217,7.122809],\"xaxis\":\"x\",\"y\":[9.516696,9.509355,8.893648,8.941896,8.8632555,9.18606,9.363246,9.082286],\"yaxis\":\"y\",\"type\":\"scatter\"},{\"customdata\":[[\"Whenever the surgeon uses the clip applier.\",6],[\"Whenever the surgeon used energy to control bleeding.\",6],[\"Unannotated data. Unannotated.\",6],[\"Waiting that is within the worker's control.\",6],[\"Undo completely a knot.\",6],[\"Represents how many times the needle exchange hands\",6]],\"hovertemplate\":\"\\u003cb\\u003e%{hovertext}\\u003c\\u002fb\\u003e\\u003cbr\\u003e\\u003cbr\\u003ecolor=6\\u003cbr\\u003eUMAP-1=%{x}\\u003cbr\\u003eUMAP-2=%{y}\\u003cbr\\u003edefinition=%{customdata[0]}\\u003cbr\\u003eCluster=%{customdata[1]}\\u003cextra\\u003e\\u003c\\u002fextra\\u003e\",\"hovertext\":[\"Application of clips\",\"Hemostatic control\",\"0's\",\"Avoidable delay\",\"Loosen completely\",\"Needle repositioning\"],\"legendgroup\":\"6\",\"marker\":{\"color\":\"#FF97FF\",\"symbol\":\"circle\",\"size\":6},\"mode\":\"markers\",\"name\":\"6\",\"orientation\":\"v\",\"showlegend\":true,\"x\":[8.389726,8.278485,8.2814,8.273341,8.23533,8.486378],\"xaxis\":\"x\",\"y\":[9.531439,9.548981,9.573815,9.628904,9.482547,9.515591],\"yaxis\":\"y\",\"type\":\"scatter\"},{\"customdata\":[[\"Active hemorrhage is observed, either spontaneously or following a gesture, requiring hemostatic response.\",2],[\"Two instruments or structures are brought into proximity to enable a subsequent gesture (e.g., clipping, suturing).\",2],[\"Brief contact with a structure or instrument, not intended as a grasp or manipulation.\",2],[\"Instrument movement is present but not classifiable as a specific gesture or action.\",2],[\"Rotation of an object (e.g., needle) via manipulations that do not involve direct grasping.\",2],[\"One or both instruments modify needle orientation in preparation for action.\",2],[\"General act of aligning the needle for insertion or manipulation.\",2],[\"General gesture referring to needle driving and suture passage through tissue.\",2]],\"hovertemplate\":\"\\u003cb\\u003e%{hovertext}\\u003c\\u002fb\\u003e\\u003cbr\\u003e\\u003cbr\\u003ecolor=2\\u003cbr\\u003eUMAP-1=%{x}\\u003cbr\\u003eUMAP-2=%{y}\\u003cbr\\u003edefinition=%{customdata[0]}\\u003cbr\\u003eCluster=%{customdata[1]}\\u003cextra\\u003e\\u003c\\u002fextra\\u003e\",\"hovertext\":[\"Bleeding\",\"Get together\",\"Touch\",\"Non-specific movement\",\"Indirectly rotate\",\"Orienting needles\",\"Positioning needle\",\"Suture\"],\"legendgroup\":\"2\",\"marker\":{\"color\":\"#FECB52\",\"symbol\":\"circle\",\"size\":6},\"mode\":\"markers\",\"name\":\"2\",\"orientation\":\"v\",\"showlegend\":true,\"x\":[8.248694,8.083473,8.287346,8.35559,8.177982,8.366627,8.262088,8.119437],\"xaxis\":\"x\",\"y\":[10.483162,11.199965,10.859109,10.726737,11.165845,10.410778,10.783682,10.717045],\"yaxis\":\"y\",\"type\":\"scatter\"},{\"customdata\":[[\"Occluding a vessel or connecting latex drains with a metal clip.\",14],[\"Separating tissues with a mechanical stapling device.\",14],[\"Pierce a membrane of a vessel with a needle.\",14],[\"Whenever the needle was in contact with tissue. Piercing of tissue with the suture needle.\",14]],\"hovertemplate\":\"\\u003cb\\u003e%{hovertext}\\u003c\\u002fb\\u003e\\u003cbr\\u003e\\u003cbr\\u003ecolor=14\\u003cbr\\u003eUMAP-1=%{x}\\u003cbr\\u003eUMAP-2=%{y}\\u003cbr\\u003edefinition=%{customdata[0]}\\u003cbr\\u003eCluster=%{customdata[1]}\\u003cextra\\u003e\\u003c\\u002fextra\\u003e\",\"hovertext\":[\"Clipping\",\"Stapling\",\"Insert\",\"Suturing\"],\"legendgroup\":\"14\",\"marker\":{\"color\":\"#636efa\",\"symbol\":\"circle\",\"size\":6},\"mode\":\"markers\",\"name\":\"14\",\"orientation\":\"v\",\"showlegend\":true,\"x\":[6.02275,6.062254,6.098738,6.2578554],\"xaxis\":\"x\",\"y\":[9.56922,9.604218,9.581132,9.572041],\"yaxis\":\"y\",\"type\":\"scatter\"},{\"customdata\":[[\"For the purpose of compression hemostasis, the bleeding site is compressed by gauze or aspirator.\",7],[\"The surgical area is wiped with gauze for the purpose of wiping off fluid.\",7],[\"For the purpose of clean, the fluid\\u002fblood\\u002fbile or other substances is aspirated by aspirator.\",7],[\"Saline or fluid is delivered into the field to clear blood, debris, or aid visualization.\",7],[\"Clearing the field of view using saline and\\u002for suction.\",7],[\"Simultaneous removal of fluid and debris from the field while irrigating the area.\",7]],\"hovertemplate\":\"\\u003cb\\u003e%{hovertext}\\u003c\\u002fb\\u003e\\u003cbr\\u003e\\u003cbr\\u003ecolor=7\\u003cbr\\u003eUMAP-1=%{x}\\u003cbr\\u003eUMAP-2=%{y}\\u003cbr\\u003edefinition=%{customdata[0]}\\u003cbr\\u003eCluster=%{customdata[1]}\\u003cextra\\u003e\\u003c\\u002fextra\\u003e\",\"hovertext\":[\"Tamponade\",\"Wipe\",\"Aspiration\",\"Irrigation\",\"Irrigation and suction\",\"Suction and irrigation\"],\"legendgroup\":\"7\",\"marker\":{\"color\":\"#EF553B\",\"symbol\":\"circle\",\"size\":6},\"mode\":\"markers\",\"name\":\"7\",\"orientation\":\"v\",\"showlegend\":true,\"x\":[5.001531,5.094392,5.0920324,5.2839055,5.135923,5.108928],\"xaxis\":\"x\",\"y\":[11.245301,11.435001,11.464785,11.632362,11.406337,11.460314],\"yaxis\":\"y\",\"type\":\"scatter\"},{\"customdata\":[[\"The instrument is performing an action that requires an accurate motion of the tip.\",17],[\"The camera is repositioned to adjust the visual field or focus on a new area.\",17],[\"The instrument is moving with or without an object on the tip in a particular area of the scenario.\",17],[\"The instrument is moving without carrying anything at the tool tip.\",17],[\"The instrument moves while holding an object.\",17],[\"Move a target (a wire or a part of it) to have more space to work.\",17],[\"A peg is elevated or picked up from its resting position.\",17],[\"The instrument is picking an object.\",17],[\"The instrument is placing an object on a peg.\",17],[\"Action consisting to move a tool through a wire loop\",17],[\"To exert force on a target to draw it towards the source of the force.\",17]],\"hovertemplate\":\"\\u003cb\\u003e%{hovertext}\\u003c\\u002fb\\u003e\\u003cbr\\u003e\\u003cbr\\u003ecolor=17\\u003cbr\\u003eUMAP-1=%{x}\\u003cbr\\u003eUMAP-2=%{y}\\u003cbr\\u003edefinition=%{customdata[0]}\\u003cbr\\u003eCluster=%{customdata[1]}\\u003cextra\\u003e\\u003c\\u002fextra\\u003e\",\"hovertext\":[\"Precision\",\"Camera move\",\"Displacement\",\"Free motion\",\"Load motion\",\"Give slack\",\"Lift peg\",\"Picking\",\"Placing\",\"Pass through\",\"Pull\"],\"legendgroup\":\"17\",\"marker\":{\"color\":\"#00cc96\",\"symbol\":\"circle\",\"size\":6},\"mode\":\"markers\",\"name\":\"17\",\"orientation\":\"v\",\"showlegend\":true,\"x\":[9.320555,9.159299,9.168732,9.087225,9.225087,9.491133,9.08735,9.438323,9.295356,9.635417,9.409499],\"xaxis\":\"x\",\"y\":[10.931823,10.684486,11.017415,10.899514,10.906403,10.905484,10.931236,10.736338,10.774117,10.840606,11.040392],\"yaxis\":\"y\",\"type\":\"scatter\"},{\"customdata\":[[\"Grab Suture; Grab skin; Transfer needle\\u002fsuture; Align needle for driving trough skin; Align needle on needle driver; Camera zoom in\\u002fout; Camera rotation\",37],[\"Instrument extends toward a peg in preparation for manipulation.\",37],[\"Instrument moves toward needle in preparation for grasping.\",37],[\"Instrument rotates to adjust orientation of needle, suture, or tool.\",37]],\"hovertemplate\":\"\\u003cb\\u003e%{hovertext}\\u003c\\u002fb\\u003e\\u003cbr\\u003e\\u003cbr\\u003ecolor=37\\u003cbr\\u003eUMAP-1=%{x}\\u003cbr\\u003eUMAP-2=%{y}\\u003cbr\\u003edefinition=%{customdata[0]}\\u003cbr\\u003eCluster=%{customdata[1]}\\u003cextra\\u003e\\u003c\\u002fextra\\u003e\",\"hovertext\":[\"Adjustment gesture\",\"Reach for peg\",\"Reach for needle\",\"Rotate\"],\"legendgroup\":\"37\",\"marker\":{\"color\":\"#ab63fa\",\"symbol\":\"circle\",\"size\":6},\"mode\":\"markers\",\"name\":\"37\",\"orientation\":\"v\",\"showlegend\":true,\"x\":[9.967995,9.853139,9.907253,10.012564],\"xaxis\":\"x\",\"y\":[9.278604,9.297157,9.33533,9.19191],\"yaxis\":\"y\",\"type\":\"scatter\"},{\"customdata\":[[\"Positioning closer to surgeon with open tip\",3],[\"Positioning away from surgeon with open tip.\",3],[\"Positioning closer to surgeon with closed tip.\",3],[\"Positioning away from surgeon with closed tip.\",3]],\"hovertemplate\":\"\\u003cb\\u003e%{hovertext}\\u003c\\u002fb\\u003e\\u003cbr\\u003e\\u003cbr\\u003ecolor=3\\u003cbr\\u003eUMAP-1=%{x}\\u003cbr\\u003eUMAP-2=%{y}\\u003cbr\\u003edefinition=%{customdata[0]}\\u003cbr\\u003eCluster=%{customdata[1]}\\u003cextra\\u003e\\u003c\\u002fextra\\u003e\",\"hovertext\":[\"Ascending survey\",\"Descending survey\",\"Pulling\\u002flifting\",\"Inserting\\u002fpushing\"],\"legendgroup\":\"3\",\"marker\":{\"color\":\"#FFA15A\",\"symbol\":\"circle\",\"size\":6},\"mode\":\"markers\",\"name\":\"3\",\"orientation\":\"v\",\"showlegend\":true,\"x\":[9.749884,9.718168,9.79235,9.722737],\"xaxis\":\"x\",\"y\":[8.648064,8.658841,8.638835,8.647144],\"yaxis\":\"y\",\"type\":\"scatter\"},{\"customdata\":[[\"Both instruments are collaborating on the same task\",16],[\"Instrument remains motionless within the field, not performing any action. Often reflects pauses or transitions.\",16],[\"No functional action was performed and repeated (more than twice) grasps or slips\\u002fmisses within a short period of time.\",16]],\"hovertemplate\":\"\\u003cb\\u003e%{hovertext}\\u003c\\u002fb\\u003e\\u003cbr\\u003e\\u003cbr\\u003ecolor=16\\u003cbr\\u003eUMAP-1=%{x}\\u003cbr\\u003eUMAP-2=%{y}\\u003cbr\\u003edefinition=%{customdata[0]}\\u003cbr\\u003eCluster=%{customdata[1]}\\u003cextra\\u003e\\u003c\\u002fextra\\u003e\",\"hovertext\":[\"Collaboration\",\"Idle position\",\"Inefficient grasp\"],\"legendgroup\":\"16\",\"marker\":{\"color\":\"#19d3f3\",\"symbol\":\"circle\",\"size\":6},\"mode\":\"markers\",\"name\":\"16\",\"orientation\":\"v\",\"showlegend\":true,\"x\":[8.983925,8.958474,8.920056],\"xaxis\":\"x\",\"y\":[10.626385,10.686297,10.710951],\"yaxis\":\"y\",\"type\":\"scatter\"},{\"customdata\":[[\"Introduction of the specimen retrieval bag into the abdominal cavity through a trocar.\",35],[\"Removal of the endobag containing the specimen from the body through a trocar or incision.\",35],[\"Replacement of one instrument with another, often via trocar exchange.\",35],[\"Placement or manipulation of a sling material (e.g., for uterine support or suspension).\",35],[\"Achieving abdominal access by directly inserting a trocar with a blade into the abdominal cavity.\",35]],\"hovertemplate\":\"\\u003cb\\u003e%{hovertext}\\u003c\\u002fb\\u003e\\u003cbr\\u003e\\u003cbr\\u003ecolor=35\\u003cbr\\u003eUMAP-1=%{x}\\u003cbr\\u003eUMAP-2=%{y}\\u003cbr\\u003edefinition=%{customdata[0]}\\u003cbr\\u003eCluster=%{customdata[1]}\\u003cextra\\u003e\\u003c\\u002fextra\\u003e\",\"hovertext\":[\"Endobag - In\",\"Endobag - Out\",\"Exchange\",\"Sling (Hyst.)\",\"Abdominal access\"],\"legendgroup\":\"35\",\"marker\":{\"color\":\"#FF6692\",\"symbol\":\"circle\",\"size\":6},\"mode\":\"markers\",\"name\":\"35\",\"orientation\":\"v\",\"showlegend\":true,\"x\":[5.908083,5.8053875,5.930054,5.734793,6.0805416],\"xaxis\":\"x\",\"y\":[11.354053,11.40632,11.37546,11.242565,11.305102],\"yaxis\":\"y\",\"type\":\"scatter\"},{\"customdata\":[[\"No movement or insignificant movement with closed tip.\",21],[\"No movement with open tip. The instrument is in a resting position.\",21],[\"Both instruments cooperate to adjust the orientation of the needle.\",21]],\"hovertemplate\":\"\\u003cb\\u003e%{hovertext}\\u003c\\u002fb\\u003e\\u003cbr\\u003e\\u003cbr\\u003ecolor=21\\u003cbr\\u003eUMAP-1=%{x}\\u003cbr\\u003eUMAP-2=%{y}\\u003cbr\\u003edefinition=%{customdata[0]}\\u003cbr\\u003eCluster=%{customdata[1]}\\u003cextra\\u003e\\u003c\\u002fextra\\u003e\",\"hovertext\":[\"Idle holding\",\"Idle\",\"Orient needle with both hands\"],\"legendgroup\":\"21\",\"marker\":{\"color\":\"#B6E880\",\"symbol\":\"circle\",\"size\":6},\"mode\":\"markers\",\"name\":\"21\",\"orientation\":\"v\",\"showlegend\":true,\"x\":[8.850957,8.84066,8.728031],\"xaxis\":\"x\",\"y\":[10.103842,10.160108,10.117243],\"yaxis\":\"y\",\"type\":\"scatter\"},{\"customdata\":[[\"Portions of the task wherein the surgeons performed certain actions in preparation for the next maneuver.\",10],[\"The instrument navigates toward a peg target in preparation for grasping or interaction.\",10],[\"The instrument is directed toward a rod or vertical object as part of a dexterity task.\",10],[\"Task is completed, and instruments are withdrawn or moved to idle.\",10],[\"Final portion of the suture is dropped before transitioning to another task.\",10]],\"hovertemplate\":\"\\u003cb\\u003e%{hovertext}\\u003c\\u002fb\\u003e\\u003cbr\\u003e\\u003cbr\\u003ecolor=10\\u003cbr\\u003eUMAP-1=%{x}\\u003cbr\\u003eUMAP-2=%{y}\\u003cbr\\u003edefinition=%{customdata[0]}\\u003cbr\\u003eCluster=%{customdata[1]}\\u003cextra\\u003e\\u003c\\u002fextra\\u003e\",\"hovertext\":[\"Inermaneuver segment\",\"Approach peg\",\"Approach pole\",\"End of trial\",\"Dropping suture at end and moving to end points\"],\"legendgroup\":\"10\",\"marker\":{\"color\":\"#FF97FF\",\"symbol\":\"circle\",\"size\":6},\"mode\":\"markers\",\"name\":\"10\",\"orientation\":\"v\",\"showlegend\":true,\"x\":[9.509003,9.462775,9.3480625,9.694183,9.638117],\"xaxis\":\"x\",\"y\":[11.406136,11.329786,11.279564,11.275612,11.387612],\"yaxis\":\"y\",\"type\":\"scatter\"},{\"customdata\":[[\"Reaching for an object with empty tool\\u002fhand.\",5],[\"When tooltips begin to close to grab a target between them.\",5],[\"Grasping an object by contacting and closing the finger of the active hand. Moving an object by tool-grasping.\",5],[\"The left-hand instrument moves to initiate interaction with a peg.\",5],[\"The right-hand instrument moves to initiate interaction with a peg.\",5],[\"Action consisting to create a loop with a wire around the second tool. Both tooltips exert it at the same time.\",5],[\"A loop is created around the right-hand grasper as part of knot formation.\",5]],\"hovertemplate\":\"\\u003cb\\u003e%{hovertext}\\u003c\\u002fb\\u003e\\u003cbr\\u003e\\u003cbr\\u003ecolor=5\\u003cbr\\u003eUMAP-1=%{x}\\u003cbr\\u003eUMAP-2=%{y}\\u003cbr\\u003edefinition=%{customdata[0]}\\u003cbr\\u003eCluster=%{customdata[1]}\\u003cextra\\u003e\\u003c\\u002fextra\\u003e\",\"hovertext\":[\"Reach\",\"Catch\",\"Move\",\"Reach for the peg with the left grasper\",\"Reach for the peg with the right grasper\",\"Make a loop\",\"Making C-loop around right grasper\"],\"legendgroup\":\"5\",\"marker\":{\"color\":\"#FECB52\",\"symbol\":\"circle\",\"size\":6},\"mode\":\"markers\",\"name\":\"5\",\"orientation\":\"v\",\"showlegend\":true,\"x\":[10.112456,10.012661,10.079899,10.187841,10.128439,9.880777,9.911583],\"xaxis\":\"x\",\"y\":[10.832899,10.8423815,10.796549,10.684343,10.701473,10.792226,10.552055],\"yaxis\":\"y\",\"type\":\"scatter\"},{\"customdata\":[[\"Instruments are oriented to align with a target before grasping it. Common in needle pickup or tissue handling.\",1],[\"The instrument or object is aligned to a target location and positioned precisely into place.\",1],[\"A generic placement gesture where an item is positioned or set down in a designated area.\",1]],\"hovertemplate\":\"\\u003cb\\u003e%{hovertext}\\u003c\\u002fb\\u003e\\u003cbr\\u003e\\u003cbr\\u003ecolor=1\\u003cbr\\u003eUMAP-1=%{x}\\u003cbr\\u003eUMAP-2=%{y}\\u003cbr\\u003edefinition=%{customdata[0]}\\u003cbr\\u003eCluster=%{customdata[1]}\\u003cextra\\u003e\\u003c\\u002fextra\\u003e\",\"hovertext\":[\"Align and grasp\",\"Align and place\",\"Put\"],\"legendgroup\":\"1\",\"marker\":{\"color\":\"#636efa\",\"symbol\":\"circle\",\"size\":6},\"mode\":\"markers\",\"name\":\"1\",\"orientation\":\"v\",\"showlegend\":true,\"x\":[8.779592,8.767556,8.815916],\"xaxis\":\"x\",\"y\":[11.484684,11.536194,11.430933],\"yaxis\":\"y\",\"type\":\"scatter\"},{\"customdata\":[[\"Instrument is advanced through an opposing tissue layer, typically from the backside or exit direction.\",28],[\"Needle tip is advanced through the skin surface, initiating needle passage.\",28],[\"Needle is guided to penetrate the surface of tissue or synthetic skin.\",28],[\"Needle tip enters and traverses through tissue layers.\",28],[\"Instrument travels to the start or end of a suturing path or tissue target.\",28],[\"The tip of the needle enters the tissue, initiating the puncture.\",28],[\"The needle is aligned in space or against tissue prior to insertion.\",28],[\"Needle is retracted from the tissue post-driving.\",28],[\"The needle is rotated or pulled out of tissue\\u002fskin in a curved motion after passage.\",28]],\"hovertemplate\":\"\\u003cb\\u003e%{hovertext}\\u003c\\u002fb\\u003e\\u003cbr\\u003e\\u003cbr\\u003ecolor=28\\u003cbr\\u003eUMAP-1=%{x}\\u003cbr\\u003eUMAP-2=%{y}\\u003cbr\\u003edefinition=%{customdata[0]}\\u003cbr\\u003eCluster=%{customdata[1]}\\u003cextra\\u003e\\u003c\\u002fextra\\u003e\",\"hovertext\":[\"Penetrating countertissue\",\"Drive needle enter skin\",\"Driving the needle to enter the skin or tissue\",\"Insert needle trough tissue\",\"Moving to end points\",\"Needle puncture\",\"Position needle\",\"Pulling needle\",\"Rotating or pulling the needle out of the skin or tissue\"],\"legendgroup\":\"28\",\"marker\":{\"color\":\"#EF553B\",\"symbol\":\"circle\",\"size\":6},\"mode\":\"markers\",\"name\":\"28\",\"orientation\":\"v\",\"showlegend\":true,\"x\":[6.7642736,6.932297,6.85068,6.9349566,6.853003,6.974133,6.801815,6.9003773,7.020591],\"xaxis\":\"x\",\"y\":[12.147514,12.308148,12.247293,12.450077,12.135666,12.121459,12.267092,12.420927,12.422344],\"yaxis\":\"y\",\"type\":\"scatter\"},{\"customdata\":[[\"Instrument tip enters tissue for purposes such as needle insertion, dissection, or traction.\",36],[\"Tissue or organ is pulled away from the operative field to expose deeper structures.\",36],[\"Instrument-to-instrument transfer of needle, suture, or object.\",36]],\"hovertemplate\":\"\\u003cb\\u003e%{hovertext}\\u003c\\u002fb\\u003e\\u003cbr\\u003e\\u003cbr\\u003ecolor=36\\u003cbr\\u003eUMAP-1=%{x}\\u003cbr\\u003eUMAP-2=%{y}\\u003cbr\\u003edefinition=%{customdata[0]}\\u003cbr\\u003eCluster=%{customdata[1]}\\u003cextra\\u003e\\u003c\\u002fextra\\u003e\",\"hovertext\":[\"Penetrating tissue\",\"Retract\",\"Hand-off\"],\"legendgroup\":\"36\",\"marker\":{\"color\":\"#00cc96\",\"symbol\":\"circle\",\"size\":6},\"mode\":\"markers\",\"name\":\"36\",\"orientation\":\"v\",\"showlegend\":true,\"x\":[6.2263865,6.207194,6.3585725],\"xaxis\":\"x\",\"y\":[11.418136,11.52225,11.290947],\"yaxis\":\"y\",\"type\":\"scatter\"},{\"customdata\":[[\"Object or tissue is released from the instrument intentionally into a designated location.\",32],[\"A landmark or boundary is indicated using electrocautery, ink, or mechanical means.\",32],[\"Suture is intentionally released by the instrument into the surgical field.\",32],[\"The needle is manipulated or passed between instruments without tissue contact, often for repositioning.\",32]],\"hovertemplate\":\"\\u003cb\\u003e%{hovertext}\\u003c\\u002fb\\u003e\\u003cbr\\u003e\\u003cbr\\u003ecolor=32\\u003cbr\\u003eUMAP-1=%{x}\\u003cbr\\u003eUMAP-2=%{y}\\u003cbr\\u003edefinition=%{customdata[0]}\\u003cbr\\u003eCluster=%{customdata[1]}\\u003cextra\\u003e\\u003c\\u002fextra\\u003e\",\"hovertext\":[\"Drop\",\"Marking\",\"Dropping suture\",\"Needle handling\"],\"legendgroup\":\"32\",\"marker\":{\"color\":\"#ab63fa\",\"symbol\":\"circle\",\"size\":6},\"mode\":\"markers\",\"name\":\"32\",\"orientation\":\"v\",\"showlegend\":true,\"x\":[6.605572,6.580912,6.7443256,6.543873],\"xaxis\":\"x\",\"y\":[11.508966,11.464658,11.331558,11.439215],\"yaxis\":\"y\",\"type\":\"scatter\"},{\"customdata\":[[\"One instrument transfers a peg to the other instrument across the midline, often in a crossover motion.\",18],[\"Both instruments simultaneously hold or stabilize the peg during hand-off or placement.\",18],[\"The peg is passed directly from one grasper to another, typically across the midline.\",18],[\"Left-hand instrument moves the needle toward the midline workspace in preparation for hand-off or pass.\",18],[\"Represents smooth wrist rotation during\",18],[\"Represents smooth wrist rotation during exit\",18]],\"hovertemplate\":\"\\u003cb\\u003e%{hovertext}\\u003c\\u002fb\\u003e\\u003cbr\\u003e\\u003cbr\\u003ecolor=18\\u003cbr\\u003eUMAP-1=%{x}\\u003cbr\\u003eUMAP-2=%{y}\\u003cbr\\u003edefinition=%{customdata[0]}\\u003cbr\\u003eCluster=%{customdata[1]}\\u003cextra\\u003e\\u003c\\u002fextra\\u003e\",\"hovertext\":[\"Transfer peg - exchange\",\"Transfer peg - together\",\"Transfer peg between graspers\",\"Move to middle with needle (left hand)\",\"Wrist rotation\",\"Wrist rotation needle withdrawal\"],\"legendgroup\":\"18\",\"marker\":{\"color\":\"#FFA15A\",\"symbol\":\"circle\",\"size\":6},\"mode\":\"markers\",\"name\":\"18\",\"orientation\":\"v\",\"showlegend\":true,\"x\":[10.313163,10.381396,10.059152,10.151701,10.167869,10.178025],\"xaxis\":\"x\",\"y\":[9.843152,9.732557,9.8190565,9.5995455,9.453245,9.517358],\"yaxis\":\"y\",\"type\":\"scatter\"},{\"customdata\":[[\"Left-hand instrument performs a backhand movement over another structure or instrument.\",11],[\"Right-hand instrument performs a backhand movement over another structure or instrument.\",11],[\"Left-hand instrument performs a backhand movement underneath a structure or instrument.\",11],[\"Right-hand instrument performs a backhand movement underneath a structure or instrument.\",11],[\"A continuous motion transitioning from backhand under to backhand over, often part of a pass or reorientation.\",11],[\"The left-hand instrument glides over the target surface in a smooth, overhand motion maintaining minimal tissue trauma.\",11],[\"The right-hand instrument glides over the tissue in a smooth, overhand motion, typically during suturing.\",11],[\"The left-hand instrument moves in an underhand arc beneath tissue or suture while maintaining control.\",11],[\"The right-hand instrument executes a smooth underhand sweep beneath the working plane or object.\",11],[\"The left-hand instrument performs an overhand motion with the wrist supinated, often during suture handling.\",11],[\"The right-hand instrument performs an overhand gesture in a forward direction, maintaining fluid motion.\",11],[\"The instrument transitions from an overhand to underhand grip or movement to reposition or loop a suture.\",11],[\"The left-hand instrument executes a forehand movement beneath the tissue or arc plane, typically for looping.\",11],[\"The right-hand instrument performs a low arc, underhand movement, often for guiding a needle or suture.\",11]],\"hovertemplate\":\"\\u003cb\\u003e%{hovertext}\\u003c\\u002fb\\u003e\\u003cbr\\u003e\\u003cbr\\u003ecolor=11\\u003cbr\\u003eUMAP-1=%{x}\\u003cbr\\u003eUMAP-2=%{y}\\u003cbr\\u003edefinition=%{customdata[0]}\\u003cbr\\u003eCluster=%{customdata[1]}\\u003cextra\\u003e\\u003c\\u002fextra\\u003e\",\"hovertext\":[\"Backhand over - Left\",\"Backhand over - Right\",\"Backhand under - Left\",\"Backhand under - Right\",\"Backhand under -\\u003e over\",\"Flush hand over - Left\",\"Flush hand over - Right\",\"Flush hand under - Left\",\"Flush hand under - Right\",\"Forehand over - Left\",\"Forehand over - Right\",\"Forehand over -\\u003e Under\",\"Forehand under - Left\",\"Forehand under - Right\"],\"legendgroup\":\"11\",\"marker\":{\"color\":\"#19d3f3\",\"symbol\":\"circle\",\"size\":6},\"mode\":\"markers\",\"name\":\"11\",\"orientation\":\"v\",\"showlegend\":true,\"x\":[10.634735,10.659382,10.610545,10.609009,10.610042,10.85447,10.625411,10.851639,10.810855,10.743642,10.725955,10.631492,10.736541,10.692918],\"xaxis\":\"x\",\"y\":[10.412566,10.415775,10.364122,10.45724,10.01819,10.163433,9.980981,10.083799,10.204585,10.258411,10.363031,9.837797,10.14897,10.120951],\"yaxis\":\"y\",\"type\":\"scatter\"},{\"customdata\":[[\"Suture thread is cut using scissors or energy instruments.\",15],[\"Combined pulling of the needle and attached suture through the tissue.\",15],[\"Cutting the suture thread after tying or placement.\",15]],\"hovertemplate\":\"\\u003cb\\u003e%{hovertext}\\u003c\\u002fb\\u003e\\u003cbr\\u003e\\u003cbr\\u003ecolor=15\\u003cbr\\u003eUMAP-1=%{x}\\u003cbr\\u003eUMAP-2=%{y}\\u003cbr\\u003edefinition=%{customdata[0]}\\u003cbr\\u003eCluster=%{customdata[1]}\\u003cextra\\u003e\\u003c\\u002fextra\\u003e\",\"hovertext\":[\"Cutting the suture\",\"Pull needle suture\",\"Thread cut\"],\"legendgroup\":\"15\",\"marker\":{\"color\":\"#FF6692\",\"symbol\":\"circle\",\"size\":6},\"mode\":\"markers\",\"name\":\"15\",\"orientation\":\"v\",\"showlegend\":true,\"x\":[6.3039126,6.420808,6.3107085],\"xaxis\":\"x\",\"y\":[9.307784,9.397337,9.272146],\"yaxis\":\"y\",\"type\":\"scatter\"},{\"customdata\":[[\"Represents how smooth the needle drive in and out of tissue.\",19],[\"Needle is grasped and its angle adjusted for optimal driving through tissue.\",19],[\"The needle is driven through tissue in a single, smooth arc using one or both instruments to maintain ideal angles.\",19],[\"Needle enters the tissue at 90 degrees ± 30 degrees.\",19],[\"Measures the needle angle with respect to tissue. Needle driving involves two sub-skills.\",19],[\"The needle is aligned and adjusted to the optimal angle and location before driving through the tissue.\",19],[\"The needle is advanced forward through tissue, typically using a curved driving motion.\",19],[\"Needle tip is aligned with the entry point on tissue.\",19],[\"The needle is advanced through tissue layers using curved driving motion.\",19],[\"The needle is rotated as it passes through the skin to follow its curvature.\",19]],\"hovertemplate\":\"\\u003cb\\u003e%{hovertext}\\u003c\\u002fb\\u003e\\u003cbr\\u003e\\u003cbr\\u003ecolor=19\\u003cbr\\u003eUMAP-1=%{x}\\u003cbr\\u003eUMAP-2=%{y}\\u003cbr\\u003edefinition=%{customdata[0]}\\u003cbr\\u003eCluster=%{customdata[1]}\\u003cextra\\u003e\\u003c\\u002fextra\\u003e\",\"hovertext\":[\"Driving smoothness\",\"Grasping\\u002forienting needle\",\"Needle driving\",\"Needle entry angle\",\"Needle hold angle\",\"Needle positioning\",\"Needle pushing\",\"Positioning the needle tip\",\"Pushing needle through the tissue\",\"Rotate needle trough skin\"],\"legendgroup\":\"19\",\"marker\":{\"color\":\"#B6E880\",\"symbol\":\"circle\",\"size\":6},\"mode\":\"markers\",\"name\":\"19\",\"orientation\":\"v\",\"showlegend\":true,\"x\":[7.581321,7.4141355,7.328,7.378988,7.550049,7.3638473,7.4718623,7.200348,7.5432224,7.3125525],\"xaxis\":\"x\",\"y\":[12.407129,12.28411,12.360014,12.340544,12.358015,12.395009,12.198969,12.244289,12.246685,12.467724],\"yaxis\":\"y\",\"type\":\"scatter\"},{\"customdata\":[[\"After releasing the suture, instruments move to a new position or anatomical landmark.\",12],[\"With the needle secured, the instrument moves to the central working zone.\",12],[\"The subject inserts the needle into the tissue, entering at the dot marked on one side of the incision and exiting at the corresponding dot marked on the other side of the incision[45]\",12],[\"The instrument hovers with the needle above the target tissue to align the tip with the entry point.\",12],[\"The needle is either placed down or returned to resting position.\",12]],\"hovertemplate\":\"\\u003cb\\u003e%{hovertext}\\u003c\\u002fb\\u003e\\u003cbr\\u003e\\u003cbr\\u003ecolor=12\\u003cbr\\u003eUMAP-1=%{x}\\u003cbr\\u003eUMAP-2=%{y}\\u003cbr\\u003edefinition=%{customdata[0]}\\u003cbr\\u003eCluster=%{customdata[1]}\\u003cextra\\u003e\\u003c\\u002fextra\\u003e\",\"hovertext\":[\"Dropping suture and moving to end points\",\"Moving to center of workspace with needle in grip\",\"Needle insertion\",\"Needle targeting\",\"Returning\\u002fdropping the needle\"],\"legendgroup\":\"12\",\"marker\":{\"color\":\"#FF97FF\",\"symbol\":\"circle\",\"size\":6},\"mode\":\"markers\",\"name\":\"12\",\"orientation\":\"v\",\"showlegend\":true,\"x\":[7.4836326,7.4259744,7.3109584,7.3333735,7.3375864],\"xaxis\":\"x\",\"y\":[11.397449,11.546941,11.990563,11.950565,11.754403],\"yaxis\":\"y\",\"type\":\"scatter\"},{\"customdata\":[[\"Left-hand instrument pulls the suture out after needle passage.\",26],[\"The right-hand instrument is used as an anchor to form a C-loop in the suture.\",26],[\"Synonym for the above — bimanual needle alignment.\",26],[\"Synonym; emphasizing tip alignment with anatomical target.\",26],[\"Left-hand instrument alone performs suture traction.\",26],[\"Right-hand instrument alone performs suture traction.\",26],[\"Suture is pulled using only the left-hand instrument.\",26],[\"Suture is pulled using only the right-hand instrument.\",26],[\"Right-hand instrument navigates to secure the suture.\",26],[\"Right-hand instrument reaches to control the suture.\",26],[\"Right-hand instrument stabilizes or tensions suture while the left pulls.\",26],[\"Needle is passed from the left to right instrument.\",26],[\"Needle is passed from the right to left instrument.\",26],[\"Right-hand instrument provides assistance in tightening the suture.\",26]],\"hovertemplate\":\"\\u003cb\\u003e%{hovertext}\\u003c\\u002fb\\u003e\\u003cbr\\u003e\\u003cbr\\u003ecolor=26\\u003cbr\\u003eUMAP-1=%{x}\\u003cbr\\u003eUMAP-2=%{y}\\u003cbr\\u003edefinition=%{customdata[0]}\\u003cbr\\u003eCluster=%{customdata[1]}\\u003cextra\\u003e\\u003c\\u002fextra\\u003e\",\"hovertext\":[\"Extracting suture from tissue with left hand\",\"Making C loop around right hand\",\"Orient needle with two hands\",\"Positioning the tip of the needle\",\"pull suture with left hand\",\"pull suture with right hand\",\"Pulling suture with left hand\",\"Pulling suture with right hand\",\"Reach for suture with right grasper\",\"Reaching for suture with right hand\",\"Right hand assisting left while pulling suture\",\"Transferring needle from left to right\",\"Transferring needle from right to left\",\"Using right hand to help tighten suture\"],\"legendgroup\":\"26\",\"marker\":{\"color\":\"#FECB52\",\"symbol\":\"circle\",\"size\":6},\"mode\":\"markers\",\"name\":\"26\",\"orientation\":\"v\",\"showlegend\":true,\"x\":[8.917786,8.594203,9.153378,9.272796,9.082572,9.108,8.90725,8.73126,9.118839,9.138171,8.779884,8.987434,8.912567,8.90867],\"xaxis\":\"x\",\"y\":[8.980726,8.790492,8.636228,8.574843,8.851883,8.790143,9.06078,8.895562,9.100216,8.966252,8.903193,9.31568,9.364655,8.774173],\"yaxis\":\"y\",\"type\":\"scatter\"},{\"customdata\":[[\"The free end ('tail') of the suture is secured by the instrument.\",25],[\"The free end ('tail') of the suture is held to assist with loop formation or tensioning during knot tying.\",25],[\"The suture tail is pulled through the loop during knot tying to secure the knot.\",25],[\"Suture ends are manipulated to create one or more knots for tissue approximation.\",25],[\"The subject tyes the knot securing the single point of the suture.\",25],[\"Tail end of the suture is pulled through a formed knot loop.\",25],[\"Both suture ends are pulled taut simultaneously to tighten the knot securely.\",25]],\"hovertemplate\":\"\\u003cb\\u003e%{hovertext}\\u003c\\u002fb\\u003e\\u003cbr\\u003e\\u003cbr\\u003ecolor=25\\u003cbr\\u003eUMAP-1=%{x}\\u003cbr\\u003eUMAP-2=%{y}\\u003cbr\\u003edefinition=%{customdata[0]}\\u003cbr\\u003eCluster=%{customdata[1]}\\u003cextra\\u003e\\u003c\\u002fextra\\u003e\",\"hovertext\":[\"Grab suture-tail\",\"Grasp suture tail in knot tying\",\"Grasping and pulling the tail of suture through the loop\",\"Knot tying\",\"Knot-Tying\",\"Pull suture tail trough knot\",\"Pulling the 2 suture ends taut to tighten the knot.\"],\"legendgroup\":\"25\",\"marker\":{\"color\":\"#636efa\",\"symbol\":\"circle\",\"size\":6},\"mode\":\"markers\",\"name\":\"25\",\"orientation\":\"v\",\"showlegend\":true,\"x\":[6.686283,6.7163563,6.6930823,6.514276,6.7342677,6.635779,6.792214],\"xaxis\":\"x\",\"y\":[8.705648,8.662625,8.557073,8.475257,8.628142,8.50087,8.750819],\"yaxis\":\"y\",\"type\":\"scatter\"},{\"customdata\":[[\"Running suture out of tissue following a suture throw.\",9],[\"The overall process of performing knot(s) with the suture.\",9],[\"Generic term for drawing the suture thread through tissue.\",9],[\"Suture thread is drawn through after tissue passage.\",9],[\"Cutting a suture or thread segment.\",9],[\"Execution of a secure knot using suture strands.\",9]],\"hovertemplate\":\"\\u003cb\\u003e%{hovertext}\\u003c\\u002fb\\u003e\\u003cbr\\u003e\\u003cbr\\u003ecolor=9\\u003cbr\\u003eUMAP-1=%{x}\\u003cbr\\u003eUMAP-2=%{y}\\u003cbr\\u003edefinition=%{customdata[0]}\\u003cbr\\u003eCluster=%{customdata[1]}\\u003cextra\\u003e\\u003c\\u002fextra\\u003e\",\"hovertext\":[\"Grab – Pull - Run\",\"Knotting\",\"Pulling Suture\",\"Pulling thread trough tissue\",\"String cutting\",\"Tying a knot\"],\"legendgroup\":\"9\",\"marker\":{\"color\":\"#EF553B\",\"symbol\":\"circle\",\"size\":6},\"mode\":\"markers\",\"name\":\"9\",\"orientation\":\"v\",\"showlegend\":true,\"x\":[5.9784784,6.0782413,5.9937024,5.9864693,6.069876,6.0182595],\"xaxis\":\"x\",\"y\":[9.0728655,8.929684,9.103353,9.172956,9.258716,8.83758],\"yaxis\":\"y\",\"type\":\"scatter\"},{\"customdata\":[[\"The suture is sequentially grasped, tensioned, and pulled through tissue to complete the needle passage.\",22],[\"After passage, the needle is pulled through tissue to complete the arc.\",22],[\"The needle is carefully pulled through the exit side of the tissue, completing the suture pass.\",22],[\"Suture is pulled continuously to exit from the tissue tract after needle passage.\",22],[\"Suture throw performed in two steps; Passing the needle separately through each side of the incision or repair.Suture throw performed in one step; Passing the needle through both sides of the incision or repair in a single motion\",22]],\"hovertemplate\":\"\\u003cb\\u003e%{hovertext}\\u003c\\u002fb\\u003e\\u003cbr\\u003e\\u003cbr\\u003ecolor=22\\u003cbr\\u003eUMAP-1=%{x}\\u003cbr\\u003eUMAP-2=%{y}\\u003cbr\\u003edefinition=%{customdata[0]}\\u003cbr\\u003eCluster=%{customdata[1]}\\u003cextra\\u003e\\u003c\\u002fextra\\u003e\",\"hovertext\":[\"Grasp Pull Run Suture\",\"Needle pulling\",\"Needle withdrawl\",\"Pull\\u002frun suture out of tissue\",\"Suture throw\"],\"legendgroup\":\"22\",\"marker\":{\"color\":\"#00cc96\",\"symbol\":\"circle\",\"size\":6},\"mode\":\"markers\",\"name\":\"22\",\"orientation\":\"v\",\"showlegend\":true,\"x\":[6.3463354,6.4334316,6.400632,6.526182,6.365485],\"xaxis\":\"x\",\"y\":[12.218684,12.337702,12.306235,12.40387,12.247294],\"yaxis\":\"y\",\"type\":\"scatter\"},{\"customdata\":[[\"Right-hand instrument secures the needle for reorientation or subsequent needle driving.\",39],[\"Approach gesture with jaws open, preparing to grasp needle.\",39],[\"Right-hand instrument moves toward needle for grasp.\",39],[\"Needle is adjusted on the jaws for improved orientation or regrasp.\",39],[\"Generic hand-to-hand needle transfer.\",39]],\"hovertemplate\":\"\\u003cb\\u003e%{hovertext}\\u003c\\u002fb\\u003e\\u003cbr\\u003e\\u003cbr\\u003ecolor=39\\u003cbr\\u003eUMAP-1=%{x}\\u003cbr\\u003eUMAP-2=%{y}\\u003cbr\\u003edefinition=%{customdata[0]}\\u003cbr\\u003eCluster=%{customdata[1]}\\u003cextra\\u003e\\u003c\\u002fextra\\u003e\",\"hovertext\":[\"Grasping needle with right hand\",\"Reach for needle (gripper open)\",\"Reaching for needle with right hand\",\"Repositioning the needle on the needle driver\",\"Transferring needle from one hand to the other\"],\"legendgroup\":\"39\",\"marker\":{\"color\":\"#ab63fa\",\"symbol\":\"circle\",\"size\":6},\"mode\":\"markers\",\"name\":\"39\",\"orientation\":\"v\",\"showlegend\":true,\"x\":[9.581461,9.66073,9.61696,9.615521,9.428604],\"xaxis\":\"x\",\"y\":[9.432299,9.198206,9.311972,9.168584,9.4981985],\"yaxis\":\"y\",\"type\":\"scatter\"},{\"customdata\":[[\"The subject adjusts the needle grasping pose, passing the needle between the two instruments.\",31],[\"The subject picks up the needle.\",31],[\"Dynamic process of adjusting needle position for upcoming gestures.\",31],[\"Right-hand instrument adjusts the needle’s angle and position for subsequent driving.\",31],[\"One instrument retrieves the suture while the other holds the needle, coordinating the next gesture.\",31]],\"hovertemplate\":\"\\u003cb\\u003e%{hovertext}\\u003c\\u002fb\\u003e\\u003cbr\\u003e\\u003cbr\\u003ecolor=31\\u003cbr\\u003eUMAP-1=%{x}\\u003cbr\\u003eUMAP-2=%{y}\\u003cbr\\u003edefinition=%{customdata[0]}\\u003cbr\\u003eCluster=%{customdata[1]}\\u003cextra\\u003e\\u003c\\u002fextra\\u003e\",\"hovertext\":[\"Gripper reconfiguration\",\"Needle grasping\",\"Orienting needle\",\"Orienting needle with right hand\",\"Reaching for suture with one hand while the other holding the needle\"],\"legendgroup\":\"31\",\"marker\":{\"color\":\"#FFA15A\",\"symbol\":\"circle\",\"size\":6},\"mode\":\"markers\",\"name\":\"31\",\"orientation\":\"v\",\"showlegend\":true,\"x\":[9.235268,9.281223,9.402876,9.329244,9.211179],\"xaxis\":\"x\",\"y\":[10.13656,10.358555,10.259588,9.940233,10.07793],\"yaxis\":\"y\",\"type\":\"scatter\"},{\"customdata\":[[\"Needle is inserted into tissue and advanced along its arc to complete passage.\",27],[\"Needle is retracted or drawn through tissue after passage.\",27],[\"Needle is withdrawn from the tissue — same as 'pulling needle'.\",27]],\"hovertemplate\":\"\\u003cb\\u003e%{hovertext}\\u003c\\u002fb\\u003e\\u003cbr\\u003e\\u003cbr\\u003ecolor=27\\u003cbr\\u003eUMAP-1=%{x}\\u003cbr\\u003eUMAP-2=%{y}\\u003cbr\\u003edefinition=%{customdata[0]}\\u003cbr\\u003eCluster=%{customdata[1]}\\u003cextra\\u003e\\u003c\\u002fextra\\u003e\",\"hovertext\":[\"Insert and push needle through tissue\",\"Pull needle\",\"Puling the needle out of the tissue\"],\"legendgroup\":\"27\",\"marker\":{\"color\":\"#19d3f3\",\"symbol\":\"circle\",\"size\":6},\"mode\":\"markers\",\"name\":\"27\",\"orientation\":\"v\",\"showlegend\":true,\"x\":[6.788527,6.719321,6.7331057],\"xaxis\":\"x\",\"y\":[12.53362,12.448181,12.510652],\"yaxis\":\"y\",\"type\":\"scatter\"},{\"customdata\":[[\"The first knot\\u002fAny knot thrown subsequent to the first knot.\",20],[\"A loop is created in the suture (typically in a C-shape) to initiate a knot.\",20],[\"The suture is wrapped or looped in preparation for a knot.\",20],[\"A C-shaped loop is created around the needle driver as part of a knot-tying sequence.\",20],[\"A C-shaped suture loop is formed around one instrument to initiate knot tying.\",20],[\"A single-loop knot is tied, often as the first part of a multi-throw suture.\",20],[\"Suture is twisted once to form part of a knot or loop.\",20],[\"Suture is twisted twice, often to create a two-loop knot.\",20]],\"hovertemplate\":\"\\u003cb\\u003e%{hovertext}\\u003c\\u002fb\\u003e\\u003cbr\\u003e\\u003cbr\\u003ecolor=20\\u003cbr\\u003eUMAP-1=%{x}\\u003cbr\\u003eUMAP-2=%{y}\\u003cbr\\u003edefinition=%{customdata[0]}\\u003cbr\\u003eCluster=%{customdata[1]}\\u003cextra\\u003e\\u003c\\u002fextra\\u003e\",\"hovertext\":[\"Knot tie (Double\\u002fSingle loop)\",\"Knot tying - Perform a single C-loop\",\"Loop suture for knot tying\",\"Looping the suture around a needle driver to make a knot\",\"Making C loop around one hand\",\"One loop knot\",\"Rotate suture once\",\"Rotate suture twice\"],\"legendgroup\":\"20\",\"marker\":{\"color\":\"#FF6692\",\"symbol\":\"circle\",\"size\":6},\"mode\":\"markers\",\"name\":\"20\",\"orientation\":\"v\",\"showlegend\":true,\"x\":[6.365279,6.6613655,6.6434193,6.6779327,6.614748,6.529613,6.4730096,6.5528355],\"xaxis\":\"x\",\"y\":[8.315704,8.25438,8.297796,8.19469,8.2193165,8.0991125,8.271012,8.1100855],\"yaxis\":\"y\",\"type\":\"scatter\"},{\"customdata\":[[\"Slack is introduced into the suture line to enable further manipulation.\",24],[\"Releasing tension in the suture to create slack for further steps.\",24],[\"Both ends of the suture are tensioned to secure knot or tissue approximation.\",24],[\"Suture thread is drawn through tissue or knot to achieve tension.\",24],[\"Tension is applied to the suture to tighten the knot or bring tissue edges together after passage.\",24]],\"hovertemplate\":\"\\u003cb\\u003e%{hovertext}\\u003c\\u002fb\\u003e\\u003cbr\\u003e\\u003cbr\\u003ecolor=24\\u003cbr\\u003eUMAP-1=%{x}\\u003cbr\\u003eUMAP-2=%{y}\\u003cbr\\u003edefinition=%{customdata[0]}\\u003cbr\\u003eCluster=%{customdata[1]}\\u003cextra\\u003e\\u003c\\u002fextra\\u003e\",\"hovertext\":[\"Loosen up more suture\",\"Loosening more suture\",\"Pull ends of suture taut\",\"Pull suture\",\"Suture cinching\"],\"legendgroup\":\"24\",\"marker\":{\"color\":\"#B6E880\",\"symbol\":\"circle\",\"size\":6},\"mode\":\"markers\",\"name\":\"24\",\"orientation\":\"v\",\"showlegend\":true,\"x\":[6.6923637,6.678236,6.532129,6.4225802,6.6348615],\"xaxis\":\"x\",\"y\":[8.980728,8.927964,8.801071,8.848934,8.832349],\"yaxis\":\"y\",\"type\":\"scatter\"},{\"customdata\":[[\"Right-hand instrument moves the needle toward the midline, often for driving or exchange.\",38],[\"Needle-holding instrument navigates to midline for subsequent gesture.\",38],[\"Left-hand instrument moves toward needle for grasp.\",38]],\"hovertemplate\":\"\\u003cb\\u003e%{hovertext}\\u003c\\u002fb\\u003e\\u003cbr\\u003e\\u003cbr\\u003ecolor=38\\u003cbr\\u003eUMAP-1=%{x}\\u003cbr\\u003eUMAP-2=%{y}\\u003cbr\\u003edefinition=%{customdata[0]}\\u003cbr\\u003eCluster=%{customdata[1]}\\u003cextra\\u003e\\u003c\\u002fextra\\u003e\",\"hovertext\":[\"Move to middle with needle (right hand)\",\"Moving to center with needle in grip\",\"Reaching for needle with left hand\"],\"legendgroup\":\"38\",\"marker\":{\"color\":\"#FF97FF\",\"symbol\":\"circle\",\"size\":6},\"mode\":\"markers\",\"name\":\"38\",\"orientation\":\"v\",\"showlegend\":true,\"x\":[9.792025,9.764114,9.770269],\"xaxis\":\"x\",\"y\":[9.515567,9.418004,9.463834],\"yaxis\":\"y\",\"type\":\"scatter\"},{\"customdata\":[[\"The subject extracts the needle out of the tissue\",30],[\"The delicate movement of a needle into and out of the tissue\",30],[\"Insert and pull the needle into artificial vessels\",30],[\"Manipulating the needle or free end of a suture to make a knot\",30]],\"hovertemplate\":\"\\u003cb\\u003e%{hovertext}\\u003c\\u002fb\\u003e\\u003cbr\\u003e\\u003cbr\\u003ecolor=30\\u003cbr\\u003eUMAP-1=%{x}\\u003cbr\\u003eUMAP-2=%{y}\\u003cbr\\u003edefinition=%{customdata[0]}\\u003cbr\\u003eCluster=%{customdata[1]}\\u003cextra\\u003e\\u003c\\u002fextra\\u003e\",\"hovertext\":[\"Needle extraction\",\"Needle passing\",\"Suture making\",\"Suture tying\"],\"legendgroup\":\"30\",\"marker\":{\"color\":\"#FECB52\",\"symbol\":\"circle\",\"size\":6},\"mode\":\"markers\",\"name\":\"30\",\"orientation\":\"v\",\"showlegend\":true,\"x\":[7.0089874,6.982895,7.0108814,7.0285487],\"xaxis\":\"x\",\"y\":[10.523773,10.455921,10.433102,10.296559],\"yaxis\":\"y\",\"type\":\"scatter\"},{\"customdata\":[[\"Left-hand instrument manipulates the needle for proper orientation.\",41],[\"Needle is driven by the left-hand instrument.\",41],[\"Needle is driven by the right-hand instrument.\",41]],\"hovertemplate\":\"\\u003cb\\u003e%{hovertext}\\u003c\\u002fb\\u003e\\u003cbr\\u003e\\u003cbr\\u003ecolor=41\\u003cbr\\u003eUMAP-1=%{x}\\u003cbr\\u003eUMAP-2=%{y}\\u003cbr\\u003edefinition=%{customdata[0]}\\u003cbr\\u003eCluster=%{customdata[1]}\\u003cextra\\u003e\\u003c\\u002fextra\\u003e\",\"hovertext\":[\"Orienting needle with left hand\",\"Pushing needle through tissue with left hand\",\"Pushing needle through tissue with right hand\"],\"legendgroup\":\"41\",\"marker\":{\"color\":\"#636efa\",\"symbol\":\"circle\",\"size\":6},\"mode\":\"markers\",\"name\":\"41\",\"orientation\":\"v\",\"showlegend\":true,\"x\":[9.1635,9.20792,9.1911545],\"xaxis\":\"x\",\"y\":[9.651324,9.597221,9.752377],\"yaxis\":\"y\",\"type\":\"scatter\"},{\"customdata\":[[\"Needle is secured and oriented by the instrument, ready for driving.\",40],[\"The left instrument moves the needle into proper orientation.\",40],[\"The right instrument moves the needle into proper orientation.\",40]],\"hovertemplate\":\"\\u003cb\\u003e%{hovertext}\\u003c\\u002fb\\u003e\\u003cbr\\u003e\\u003cbr\\u003ecolor=40\\u003cbr\\u003eUMAP-1=%{x}\\u003cbr\\u003eUMAP-2=%{y}\\u003cbr\\u003edefinition=%{customdata[0]}\\u003cbr\\u003eCluster=%{customdata[1]}\\u003cextra\\u003e\\u003c\\u002fextra\\u003e\",\"hovertext\":[\"Position needle (holding needle)\",\"Positioning needle with left hand\",\"Positioning needle with right hand\"],\"legendgroup\":\"40\",\"marker\":{\"color\":\"#EF553B\",\"symbol\":\"circle\",\"size\":6},\"mode\":\"markers\",\"name\":\"40\",\"orientation\":\"v\",\"showlegend\":true,\"x\":[9.029813,8.860065,8.938595],\"xaxis\":\"x\",\"y\":[9.71428,9.839019,9.717792],\"yaxis\":\"y\",\"type\":\"scatter\"},{\"customdata\":[[\"Right-hand grasper reaches for the free end of the suture to prepare for tensioning or manipulation.\",33],[\"Instrument approaches needle to initiate control.\",33],[\"Right-hand instrument approaches suture for grasp.\",33]],\"hovertemplate\":\"\\u003cb\\u003e%{hovertext}\\u003c\\u002fb\\u003e\\u003cbr\\u003e\\u003cbr\\u003ecolor=33\\u003cbr\\u003eUMAP-1=%{x}\\u003cbr\\u003eUMAP-2=%{y}\\u003cbr\\u003edefinition=%{customdata[0]}\\u003cbr\\u003eCluster=%{customdata[1]}\\u003cextra\\u003e\\u003c\\u002fextra\\u003e\",\"hovertext\":[\"Reach for the suture end with the right grasper and pull the suture to lock the knot\",\"Reaching for needle\",\"Right hand reaches for suture\"],\"legendgroup\":\"33\",\"marker\":{\"color\":\"#00cc96\",\"symbol\":\"circle\",\"size\":6},\"mode\":\"markers\",\"name\":\"33\",\"orientation\":\"v\",\"showlegend\":true,\"x\":[9.400719,9.471878,9.398952],\"xaxis\":\"x\",\"y\":[9.06335,9.03267,8.949367],\"yaxis\":\"y\",\"type\":\"scatter\"}],                        {\"template\":{\"data\":{\"histogram2dcontour\":[{\"type\":\"histogram2dcontour\",\"colorbar\":{\"outlinewidth\":0,\"ticks\":\"\"},\"colorscale\":[[0.0,\"#0d0887\"],[0.1111111111111111,\"#46039f\"],[0.2222222222222222,\"#7201a8\"],[0.3333333333333333,\"#9c179e\"],[0.4444444444444444,\"#bd3786\"],[0.5555555555555556,\"#d8576b\"],[0.6666666666666666,\"#ed7953\"],[0.7777777777777778,\"#fb9f3a\"],[0.8888888888888888,\"#fdca26\"],[1.0,\"#f0f921\"]]}],\"choropleth\":[{\"type\":\"choropleth\",\"colorbar\":{\"outlinewidth\":0,\"ticks\":\"\"}}],\"histogram2d\":[{\"type\":\"histogram2d\",\"colorbar\":{\"outlinewidth\":0,\"ticks\":\"\"},\"colorscale\":[[0.0,\"#0d0887\"],[0.1111111111111111,\"#46039f\"],[0.2222222222222222,\"#7201a8\"],[0.3333333333333333,\"#9c179e\"],[0.4444444444444444,\"#bd3786\"],[0.5555555555555556,\"#d8576b\"],[0.6666666666666666,\"#ed7953\"],[0.7777777777777778,\"#fb9f3a\"],[0.8888888888888888,\"#fdca26\"],[1.0,\"#f0f921\"]]}],\"heatmap\":[{\"type\":\"heatmap\",\"colorbar\":{\"outlinewidth\":0,\"ticks\":\"\"},\"colorscale\":[[0.0,\"#0d0887\"],[0.1111111111111111,\"#46039f\"],[0.2222222222222222,\"#7201a8\"],[0.3333333333333333,\"#9c179e\"],[0.4444444444444444,\"#bd3786\"],[0.5555555555555556,\"#d8576b\"],[0.6666666666666666,\"#ed7953\"],[0.7777777777777778,\"#fb9f3a\"],[0.8888888888888888,\"#fdca26\"],[1.0,\"#f0f921\"]]}],\"heatmapgl\":[{\"type\":\"heatmapgl\",\"colorbar\":{\"outlinewidth\":0,\"ticks\":\"\"},\"colorscale\":[[0.0,\"#0d0887\"],[0.1111111111111111,\"#46039f\"],[0.2222222222222222,\"#7201a8\"],[0.3333333333333333,\"#9c179e\"],[0.4444444444444444,\"#bd3786\"],[0.5555555555555556,\"#d8576b\"],[0.6666666666666666,\"#ed7953\"],[0.7777777777777778,\"#fb9f3a\"],[0.8888888888888888,\"#fdca26\"],[1.0,\"#f0f921\"]]}],\"contourcarpet\":[{\"type\":\"contourcarpet\",\"colorbar\":{\"outlinewidth\":0,\"ticks\":\"\"}}],\"contour\":[{\"type\":\"contour\",\"colorbar\":{\"outlinewidth\":0,\"ticks\":\"\"},\"colorscale\":[[0.0,\"#0d0887\"],[0.1111111111111111,\"#46039f\"],[0.2222222222222222,\"#7201a8\"],[0.3333333333333333,\"#9c179e\"],[0.4444444444444444,\"#bd3786\"],[0.5555555555555556,\"#d8576b\"],[0.6666666666666666,\"#ed7953\"],[0.7777777777777778,\"#fb9f3a\"],[0.8888888888888888,\"#fdca26\"],[1.0,\"#f0f921\"]]}],\"surface\":[{\"type\":\"surface\",\"colorbar\":{\"outlinewidth\":0,\"ticks\":\"\"},\"colorscale\":[[0.0,\"#0d0887\"],[0.1111111111111111,\"#46039f\"],[0.2222222222222222,\"#7201a8\"],[0.3333333333333333,\"#9c179e\"],[0.4444444444444444,\"#bd3786\"],[0.5555555555555556,\"#d8576b\"],[0.6666666666666666,\"#ed7953\"],[0.7777777777777778,\"#fb9f3a\"],[0.8888888888888888,\"#fdca26\"],[1.0,\"#f0f921\"]]}],\"mesh3d\":[{\"type\":\"mesh3d\",\"colorbar\":{\"outlinewidth\":0,\"ticks\":\"\"}}],\"scatter\":[{\"fillpattern\":{\"fillmode\":\"overlay\",\"size\":10,\"solidity\":0.2},\"type\":\"scatter\"}],\"parcoords\":[{\"type\":\"parcoords\",\"line\":{\"colorbar\":{\"outlinewidth\":0,\"ticks\":\"\"}}}],\"scatterpolargl\":[{\"type\":\"scatterpolargl\",\"marker\":{\"colorbar\":{\"outlinewidth\":0,\"ticks\":\"\"}}}],\"bar\":[{\"error_x\":{\"color\":\"#2a3f5f\"},\"error_y\":{\"color\":\"#2a3f5f\"},\"marker\":{\"line\":{\"color\":\"#E5ECF6\",\"width\":0.5},\"pattern\":{\"fillmode\":\"overlay\",\"size\":10,\"solidity\":0.2}},\"type\":\"bar\"}],\"scattergeo\":[{\"type\":\"scattergeo\",\"marker\":{\"colorbar\":{\"outlinewidth\":0,\"ticks\":\"\"}}}],\"scatterpolar\":[{\"type\":\"scatterpolar\",\"marker\":{\"colorbar\":{\"outlinewidth\":0,\"ticks\":\"\"}}}],\"histogram\":[{\"marker\":{\"pattern\":{\"fillmode\":\"overlay\",\"size\":10,\"solidity\":0.2}},\"type\":\"histogram\"}],\"scattergl\":[{\"type\":\"scattergl\",\"marker\":{\"colorbar\":{\"outlinewidth\":0,\"ticks\":\"\"}}}],\"scatter3d\":[{\"type\":\"scatter3d\",\"line\":{\"colorbar\":{\"outlinewidth\":0,\"ticks\":\"\"}},\"marker\":{\"colorbar\":{\"outlinewidth\":0,\"ticks\":\"\"}}}],\"scattermapbox\":[{\"type\":\"scattermapbox\",\"marker\":{\"colorbar\":{\"outlinewidth\":0,\"ticks\":\"\"}}}],\"scatterternary\":[{\"type\":\"scatterternary\",\"marker\":{\"colorbar\":{\"outlinewidth\":0,\"ticks\":\"\"}}}],\"scattercarpet\":[{\"type\":\"scattercarpet\",\"marker\":{\"colorbar\":{\"outlinewidth\":0,\"ticks\":\"\"}}}],\"carpet\":[{\"aaxis\":{\"endlinecolor\":\"#2a3f5f\",\"gridcolor\":\"white\",\"linecolor\":\"white\",\"minorgridcolor\":\"white\",\"startlinecolor\":\"#2a3f5f\"},\"baxis\":{\"endlinecolor\":\"#2a3f5f\",\"gridcolor\":\"white\",\"linecolor\":\"white\",\"minorgridcolor\":\"white\",\"startlinecolor\":\"#2a3f5f\"},\"type\":\"carpet\"}],\"table\":[{\"cells\":{\"fill\":{\"color\":\"#EBF0F8\"},\"line\":{\"color\":\"white\"}},\"header\":{\"fill\":{\"color\":\"#C8D4E3\"},\"line\":{\"color\":\"white\"}},\"type\":\"table\"}],\"barpolar\":[{\"marker\":{\"line\":{\"color\":\"#E5ECF6\",\"width\":0.5},\"pattern\":{\"fillmode\":\"overlay\",\"size\":10,\"solidity\":0.2}},\"type\":\"barpolar\"}],\"pie\":[{\"automargin\":true,\"type\":\"pie\"}]},\"layout\":{\"autotypenumbers\":\"strict\",\"colorway\":[\"#636efa\",\"#EF553B\",\"#00cc96\",\"#ab63fa\",\"#FFA15A\",\"#19d3f3\",\"#FF6692\",\"#B6E880\",\"#FF97FF\",\"#FECB52\"],\"font\":{\"color\":\"#2a3f5f\"},\"hovermode\":\"closest\",\"hoverlabel\":{\"align\":\"left\"},\"paper_bgcolor\":\"white\",\"plot_bgcolor\":\"#E5ECF6\",\"polar\":{\"bgcolor\":\"#E5ECF6\",\"angularaxis\":{\"gridcolor\":\"white\",\"linecolor\":\"white\",\"ticks\":\"\"},\"radialaxis\":{\"gridcolor\":\"white\",\"linecolor\":\"white\",\"ticks\":\"\"}},\"ternary\":{\"bgcolor\":\"#E5ECF6\",\"aaxis\":{\"gridcolor\":\"white\",\"linecolor\":\"white\",\"ticks\":\"\"},\"baxis\":{\"gridcolor\":\"white\",\"linecolor\":\"white\",\"ticks\":\"\"},\"caxis\":{\"gridcolor\":\"white\",\"linecolor\":\"white\",\"ticks\":\"\"}},\"coloraxis\":{\"colorbar\":{\"outlinewidth\":0,\"ticks\":\"\"}},\"colorscale\":{\"sequential\":[[0.0,\"#0d0887\"],[0.1111111111111111,\"#46039f\"],[0.2222222222222222,\"#7201a8\"],[0.3333333333333333,\"#9c179e\"],[0.4444444444444444,\"#bd3786\"],[0.5555555555555556,\"#d8576b\"],[0.6666666666666666,\"#ed7953\"],[0.7777777777777778,\"#fb9f3a\"],[0.8888888888888888,\"#fdca26\"],[1.0,\"#f0f921\"]],\"sequentialminus\":[[0.0,\"#0d0887\"],[0.1111111111111111,\"#46039f\"],[0.2222222222222222,\"#7201a8\"],[0.3333333333333333,\"#9c179e\"],[0.4444444444444444,\"#bd3786\"],[0.5555555555555556,\"#d8576b\"],[0.6666666666666666,\"#ed7953\"],[0.7777777777777778,\"#fb9f3a\"],[0.8888888888888888,\"#fdca26\"],[1.0,\"#f0f921\"]],\"diverging\":[[0,\"#8e0152\"],[0.1,\"#c51b7d\"],[0.2,\"#de77ae\"],[0.3,\"#f1b6da\"],[0.4,\"#fde0ef\"],[0.5,\"#f7f7f7\"],[0.6,\"#e6f5d0\"],[0.7,\"#b8e186\"],[0.8,\"#7fbc41\"],[0.9,\"#4d9221\"],[1,\"#276419\"]]},\"xaxis\":{\"gridcolor\":\"white\",\"linecolor\":\"white\",\"ticks\":\"\",\"title\":{\"standoff\":15},\"zerolinecolor\":\"white\",\"automargin\":true,\"zerolinewidth\":2},\"yaxis\":{\"gridcolor\":\"white\",\"linecolor\":\"white\",\"ticks\":\"\",\"title\":{\"standoff\":15},\"zerolinecolor\":\"white\",\"automargin\":true,\"zerolinewidth\":2},\"scene\":{\"xaxis\":{\"backgroundcolor\":\"#E5ECF6\",\"gridcolor\":\"white\",\"linecolor\":\"white\",\"showbackground\":true,\"ticks\":\"\",\"zerolinecolor\":\"white\",\"gridwidth\":2},\"yaxis\":{\"backgroundcolor\":\"#E5ECF6\",\"gridcolor\":\"white\",\"linecolor\":\"white\",\"showbackground\":true,\"ticks\":\"\",\"zerolinecolor\":\"white\",\"gridwidth\":2},\"zaxis\":{\"backgroundcolor\":\"#E5ECF6\",\"gridcolor\":\"white\",\"linecolor\":\"white\",\"showbackground\":true,\"ticks\":\"\",\"zerolinecolor\":\"white\",\"gridwidth\":2}},\"shapedefaults\":{\"line\":{\"color\":\"#2a3f5f\"}},\"annotationdefaults\":{\"arrowcolor\":\"#2a3f5f\",\"arrowhead\":0,\"arrowwidth\":1},\"geo\":{\"bgcolor\":\"white\",\"landcolor\":\"#E5ECF6\",\"subunitcolor\":\"white\",\"showland\":true,\"showlakes\":true,\"lakecolor\":\"white\"},\"title\":{\"x\":0.05},\"mapbox\":{\"style\":\"light\"}}},\"xaxis\":{\"anchor\":\"y\",\"domain\":[0.0,1.0],\"title\":{\"text\":\"UMAP-1\"}},\"yaxis\":{\"anchor\":\"x\",\"domain\":[0.0,1.0],\"title\":{\"text\":\"UMAP-2\"}},\"legend\":{\"title\":{\"text\":\"color\"},\"tracegroupgap\":0},\"title\":{\"text\":\"Interactive Clustering of Surgical Gestures\"}},                        {\"responsive\": true}                    ).then(function(){\n",
              "                            \n",
              "var gd = document.getElementById('40d0a3fc-9fa9-4eab-8885-b5d5fff8c10f');\n",
              "var x = new MutationObserver(function (mutations, observer) {{\n",
              "        var display = window.getComputedStyle(gd).display;\n",
              "        if (!display || display === 'none') {{\n",
              "            console.log([gd, 'removed!']);\n",
              "            Plotly.purge(gd);\n",
              "            observer.disconnect();\n",
              "        }}\n",
              "}});\n",
              "\n",
              "// Listen for the removal of the full notebook cells\n",
              "var notebookContainer = gd.closest('#notebook-container');\n",
              "if (notebookContainer) {{\n",
              "    x.observe(notebookContainer, {childList: true});\n",
              "}}\n",
              "\n",
              "// Listen for the clearing of the current output cell\n",
              "var outputEl = gd.closest('.output');\n",
              "if (outputEl) {{\n",
              "    x.observe(outputEl, {childList: true});\n",
              "}}\n",
              "\n",
              "                        })                };                            </script>        </div>\n",
              "</body>\n",
              "</html>"
            ]
          },
          "metadata": {}
        }
      ]
    }
  ]
}