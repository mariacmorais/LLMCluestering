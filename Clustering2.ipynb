{
  "cells": [
    {
      "cell_type": "code",
      "execution_count": 1,
      "metadata": {
        "colab": {
          "base_uri": "https://localhost:8080/"
        },
        "id": "iH9bnuthEGou",
        "outputId": "7a286837-2ba2-438e-8906-3f2b0cd29e9d"
      },
      "outputs": [
        {
          "name": "stdout",
          "output_type": "stream",
          "text": [
            "OPENAI_API_KEY set in this kernel (not saved to disk).\n"
          ]
        }
      ],
      "source": [
        "# Securely prompt for OpenAI API key (won't be saved in the notebook file)\n",
        "import getpass\n",
        "import os\n",
        "key = getpass.getpass(\"Enter your OpenAI API key (input hidden): \")\n",
        "if key:\n",
        "    os.environ[\"OPENAI_API_KEY\"] = key\n",
        "    print(\"OPENAI_API_KEY set in this kernel (not saved to disk).\")\n",
        "else:\n",
        "    print(\"No key entered; OPENAI_API_KEY not set.\")"
      ]
    },
    {
      "cell_type": "code",
      "execution_count": 2,
      "metadata": {
        "colab": {
          "base_uri": "https://localhost:8080/"
        },
        "id": "I9qPcXXeEDgl",
        "outputId": "392c94f6-a971-4f56-9ce1-b9a3c842418b"
      },
      "outputs": [],
      "source": [
        "import pandas as pd\n",
        "import openai\n",
        "import numpy as np\n",
        "from sklearn.decomposition import PCA\n",
        "import umap\n",
        "import hdbscan\n",
        "import plotly.express as px"
      ]
    },
    {
      "cell_type": "code",
      "execution_count": 3,
      "metadata": {
        "id": "olC2W0AB24vE"
      },
      "outputs": [],
      "source": [
        "# Resilient embeddings helper\n",
        "import time\n",
        "import random\n",
        "import hashlib\n",
        "import json\n",
        "import os"
      ]
    },
    {
      "cell_type": "code",
      "execution_count": 5,
      "metadata": {
        "id": "kg6qGC-2260W"
      },
      "outputs": [],
      "source": [
        "# Load CSV\n",
        "df = pd.read_csv(\"complete_list.csv\", delimiter=';')\n",
        "definitions = df['gesture_definition'].fillna('').tolist()"
      ]
    },
    {
      "cell_type": "code",
      "execution_count": 6,
      "metadata": {
        "id": "ME_zR-742_NC"
      },
      "outputs": [],
      "source": [
        "# OpenAI client import (works with new and older SDKs)\n",
        "import os\n",
        "from openai import OpenAI\n",
        "# Try to import SDK-specific exception classes, but fall back if not present.\n",
        "try:\n",
        "    from openai.error import RateLimitError, OpenAIError  # modern SDK\n",
        "except Exception:\n",
        "    # Fallback placeholders so code can still check exception types by name/str\n",
        "    class RateLimitError(Exception):\n",
        "        pass\n",
        "    class OpenAIError(Exception):\n",
        "        pass\n",
        "\n",
        "# --- CONFIG ---\n",
        "CACHE_FILE = \"embeddings_cache.json\"   # local cache file\n",
        "BATCH_SIZE = 8                          # number of texts per API call (tune down if you see rate limits)\n",
        "SLEEP_BETWEEN_BATCHES = 0.5             # seconds between batches\n",
        "MAX_RETRIES = 6\n",
        "MODEL_NAME = \"text-embedding-ada-002\"   # keep existing model or change per your account\n",
        "\n",
        "# Load or init cache\n",
        "if os.path.exists(CACHE_FILE):\n",
        "    try:\n",
        "        with open(CACHE_FILE, \"r\", encoding=\"utf-8\") as f:\n",
        "            embedding_cache = json.load(f)\n",
        "    except Exception:\n",
        "        embedding_cache = {}\n",
        "else:\n",
        "    embedding_cache = {}\n",
        "\n",
        "def _cache_key(text):\n",
        "    # deterministic small key for caching\n",
        "    return hashlib.sha256(text.encode(\"utf-8\")).hexdigest()\n",
        "\n",
        "def save_cache():\n",
        "    with open(CACHE_FILE + \".tmp\", \"w\", encoding=\"utf-8\") as f:\n",
        "        json.dump(embedding_cache, f)\n",
        "    os.replace(CACHE_FILE + \".tmp\", CACHE_FILE)\n",
        "\n",
        "def create_client_from_env():\n",
        "    # prefer picking key from env var OPENAI_API_KEY for security\n",
        "    return OpenAI()  # uses env var by default; adapt if you set api_key explicitly\n",
        "\n",
        "def _is_insufficient_quota(exc):\n",
        "    # Inspect exception text/response to detect insufficient quota; return True if quota problem\n",
        "    try:\n",
        "        txt = str(exc).lower()\n",
        "        if \"insufficient_quota\" in txt or \"quota\" in txt:\n",
        "            return True\n",
        "        # some SDK responses include a response dict with details\n",
        "        if hasattr(exc, 'response') and exc.response is not None:\n",
        "            try:\n",
        "                # if response has a .data or .text attribute, convert to str\n",
        "                resp_txt = str(exc.response).lower()\n",
        "                if \"insufficient_quota\" in resp_txt or \"quota\" in resp_txt:\n",
        "                    return True\n",
        "            except Exception:\n",
        "                pass\n",
        "    except Exception:\n",
        "        pass\n",
        "    return False\n",
        "\n",
        "\n",
        "def get_embedding_with_retry(client, text, model=MODEL_NAME, max_retries=MAX_RETRIES):\n",
        "    last_exc = None\n",
        "    for attempt in range(max_retries):\n",
        "        try:\n",
        "            resp = client.embeddings.create(input=[text], model=model)\n",
        "            return resp.data[0].embedding\n",
        "        except RateLimitError as e:\n",
        "            # If the error indicates insufficient quota, abort immediately so caller can fallback.\n",
        "            if _is_insufficient_quota(e):\n",
        "                # re-raise so higher level can detect and fallback\n",
        "                raise\n",
        "            last_exc = e\n",
        "            wait = (2 ** attempt) + random.random()\n",
        "            print(f\"RateLimitError (attempt {attempt+1}/{max_retries}). Retrying in {wait:.1f}s...\")\n",
        "            time.sleep(wait)\n",
        "        except OpenAIError as e:\n",
        "            # explicit SDK-level error (e.g. insufficient_quota)\n",
        "            print(\"OpenAI API error:\", e)\n",
        "            # If insufficient_quota, abort early — do not keep retrying\n",
        "            if _is_insufficient_quota(e):\n",
        "                raise\n",
        "            # otherwise re-raise (caller may decide to retry or fallback)\n",
        "            raise\n",
        "        except Exception as e:\n",
        "            # Generic fallback for SDK differences (inspects message/code)\n",
        "            last_exc = e\n",
        "            if _is_insufficient_quota(e):\n",
        "                # immediately surface quota issues so caller can fallback\n",
        "                raise\n",
        "            # treat other errors as possibly transient\n",
        "            print(\"Unexpected error calling embeddings (will retry):\", e)\n",
        "            time.sleep((2 ** attempt) + random.random())\n",
        "    raise RuntimeError(\"Max retries exceeded\") from last_exc\n",
        "\n",
        "def batch_get_embeddings(texts, client=None, batch_size=BATCH_SIZE, throttle=SLEEP_BETWEEN_BATCHES):\n",
        "    if client is None:\n",
        "        client = create_client_from_env()\n",
        "    embeddings = []\n",
        "    for i in range(0, len(texts), batch_size):\n",
        "        batch = texts[i:i+batch_size]\n",
        "        # check cache first\n",
        "        batch_emb = []\n",
        "        to_request = []\n",
        "        to_request_idx = []\n",
        "        for j, t in enumerate(batch):\n",
        "            key = _cache_key(t)\n",
        "            if key in embedding_cache:\n",
        "                batch_emb.append(embedding_cache[key])\n",
        "            else:\n",
        "                batch_emb.append(None)\n",
        "                to_request.append(t)\n",
        "                to_request_idx.append(j)\n",
        "        # request missing embeddings in small sub-batches (1 by 1 or grouped)\n",
        "        if to_request:\n",
        "            # We'll request individually with retry to get clearer error handling:\n",
        "            for idx, text in zip(to_request_idx, to_request):\n",
        "                try:\n",
        "                    emb = get_embedding_with_retry(client, text)\n",
        "                except OpenAIError as e:\n",
        "                    # If quota problems, re-raise so outer code can fallback\n",
        "                    if _is_insufficient_quota(e):\n",
        "                        raise\n",
        "                    else:\n",
        "                        raise\n",
        "                embedding_cache[_cache_key(text)] = emb\n",
        "                batch_emb[idx] = emb\n",
        "            save_cache()\n",
        "        embeddings.extend(batch_emb)\n",
        "        time.sleep(throttle)\n",
        "    return embeddings\n",
        "\n",
        "# Optional local fallback (sentence-transformers):\n",
        "def local_fallback_embeddings(texts, model_name=\"all-MiniLM-L6-v2\"):\n",
        "    try:\n",
        "        from sentence_transformers import SentenceTransformer\n",
        "    except Exception as e:\n",
        "        raise RuntimeError(\"sentence-transformers not installed. Install it with: pip install sentence-transformers\") from e\n",
        "    m = SentenceTransformer(model_name)\n",
        "    return m.encode(texts, show_progress_bar=False).tolist()\n",
        "\n",
        "\n",
        "# Note: do not create the client here automatically when editing — caller will create and call batch_get_embeddings\n"
      ]
    },
    {
      "cell_type": "code",
      "execution_count": 7,
      "metadata": {
        "colab": {
          "base_uri": "https://localhost:8080/"
        },
        "id": "y6qVjPBd3BW1",
        "outputId": "6e3b95f5-eb46-4a49-8eb4-c65e398ae1a7"
      },
      "outputs": [
        {
          "data": {
            "text/plain": [
              "{'cell_type': 'code',\n",
              " 'metadata': {'language': 'python'},\n",
              " 'source': ['client = create_client_from_env()',\n",
              "  'try:',\n",
              "  ' embeddings = batch_get_embeddings(definitions, client=client)',\n",
              "  'except Exception as e:',\n",
              "  \" print('API embeddings failed (likely quota). Falling back to local model:', e)\",\n",
              "  ' embeddings = local_fallback_embeddings(definitions)']}"
            ]
          },
          "execution_count": 7,
          "metadata": {},
          "output_type": "execute_result"
        }
      ],
      "source": [
        "{\n",
        "\"cell_type\":\"code\",\n",
        "\"metadata\":{\"language\":\"python\"},\n",
        "\"source\":[\n",
        "\"client = create_client_from_env()\",\n",
        "\"try:\",\n",
        "\" embeddings = batch_get_embeddings(definitions, client=client)\",\n",
        "\"except Exception as e:\",\n",
        "\" print('API embeddings failed (likely quota). Falling back to local model:', e)\",\n",
        "\" embeddings = local_fallback_embeddings(definitions)\"\n",
        "]\n",
        "}"
      ]
    },
    {
      "cell_type": "code",
      "execution_count": 8,
      "metadata": {
        "id": "f6LNtb6O3IT9"
      },
      "outputs": [],
      "source": [
        "from sklearn.feature_extraction.text import TfidfVectorizer\n",
        "from sklearn.decomposition import TruncatedSVD\n",
        "\n",
        "def local_fallback_embeddings(texts, n_components=384):  # Match OpenAI embedding dimension\n",
        "    \"\"\"Generate embeddings locally using TF-IDF + SVD.\"\"\"\n",
        "    # Convert texts to list if single string\n",
        "    if isinstance(texts, str):\n",
        "        texts = [texts]\n",
        "    elif isinstance(texts, dict):\n",
        "        texts = [item['text'] for item in texts]\n",
        "    \n",
        "    # Create embeddings using TF-IDF followed by dimensionality reduction\n",
        "    vectorizer = TfidfVectorizer(stop_words='english')\n",
        "    tfidf_matrix = vectorizer.fit_transform(texts)\n",
        "    \n",
        "    # Reduce to desired dimensionality (similar to sentence transformers)\n",
        "    svd = TruncatedSVD(n_components=n_components)\n",
        "    embeddings = svd.fit_transform(tfidf_matrix)\n",
        "    \n",
        "    return embeddings"
      ]
    },
    {
      "cell_type": "code",
      "execution_count": 9,
      "metadata": {},
      "outputs": [
        {
          "name": "stdout",
          "output_type": "stream",
          "text": [
            "\u001b[31mERROR: Could not find a version that satisfies the requirement torch==2.1.1 (from versions: none)\u001b[0m\u001b[31m\n",
            "\u001b[0m\u001b[31mERROR: No matching distribution found for torch==2.1.1\u001b[0m\u001b[31m\n",
            "\u001b[0mRequirement already satisfied: sentence-transformers==2.2.2 in /opt/miniconda3/lib/python3.13/site-packages (2.2.2)\n",
            "Requirement already satisfied: transformers in /opt/miniconda3/lib/python3.13/site-packages (4.57.1)\n",
            "Requirement already satisfied: tqdm in /opt/miniconda3/lib/python3.13/site-packages (4.67.1)\n",
            "Requirement already satisfied: numpy in /opt/miniconda3/lib/python3.13/site-packages (2.2.6)\n",
            "Requirement already satisfied: scikit-learn in /opt/miniconda3/lib/python3.13/site-packages (1.7.2)\n",
            "Requirement already satisfied: filelock in /opt/miniconda3/lib/python3.13/site-packages (from transformers) (3.20.0)\n",
            "Requirement already satisfied: huggingface-hub<1.0,>=0.34.0 in /opt/miniconda3/lib/python3.13/site-packages (from transformers) (0.36.0)\n",
            "Requirement already satisfied: packaging>=20.0 in /opt/miniconda3/lib/python3.13/site-packages (from transformers) (25.0)\n",
            "Requirement already satisfied: pyyaml>=5.1 in /opt/miniconda3/lib/python3.13/site-packages (from transformers) (6.0.3)\n",
            "Requirement already satisfied: regex!=2019.12.17 in /opt/miniconda3/lib/python3.13/site-packages (from transformers) (2025.10.23)\n",
            "Requirement already satisfied: requests in /opt/miniconda3/lib/python3.13/site-packages (from transformers) (2.32.4)\n",
            "Requirement already satisfied: tokenizers<=0.23.0,>=0.22.0 in /opt/miniconda3/lib/python3.13/site-packages (from transformers) (0.22.1)\n",
            "Requirement already satisfied: safetensors>=0.4.3 in /opt/miniconda3/lib/python3.13/site-packages (from transformers) (0.6.2)\n",
            "Requirement already satisfied: fsspec>=2023.5.0 in /opt/miniconda3/lib/python3.13/site-packages (from huggingface-hub<1.0,>=0.34.0->transformers) (2025.7.0)\n",
            "Requirement already satisfied: hf-xet<2.0.0,>=1.1.3 in /opt/miniconda3/lib/python3.13/site-packages (from huggingface-hub<1.0,>=0.34.0->transformers) (1.2.0)\n",
            "Requirement already satisfied: typing-extensions>=3.7.4.3 in /opt/miniconda3/lib/python3.13/site-packages (from huggingface-hub<1.0,>=0.34.0->transformers) (4.12.2)\n",
            "Requirement already satisfied: scipy>=1.8.0 in /opt/miniconda3/lib/python3.13/site-packages (from scikit-learn) (1.16.0)\n",
            "Requirement already satisfied: joblib>=1.2.0 in /opt/miniconda3/lib/python3.13/site-packages (from scikit-learn) (1.5.2)\n",
            "Requirement already satisfied: threadpoolctl>=3.1.0 in /opt/miniconda3/lib/python3.13/site-packages (from scikit-learn) (3.6.0)\n",
            "Requirement already satisfied: charset_normalizer<4,>=2 in /opt/miniconda3/lib/python3.13/site-packages (from requests->transformers) (3.3.2)\n",
            "Requirement already satisfied: idna<4,>=2.5 in /opt/miniconda3/lib/python3.13/site-packages (from requests->transformers) (3.7)\n",
            "Requirement already satisfied: urllib3<3,>=1.21.1 in /opt/miniconda3/lib/python3.13/site-packages (from requests->transformers) (2.5.0)\n",
            "Requirement already satisfied: certifi>=2017.4.17 in /opt/miniconda3/lib/python3.13/site-packages (from requests->transformers) (2025.10.5)\n"
          ]
        }
      ],
      "source": [
        "# Install required packages\n",
        "import sys\n",
        "!pip install --no-deps torch==2.1.1\n",
        "!pip install --no-deps sentence-transformers==2.2.2\n",
        "!pip install transformers tqdm numpy scikit-learn"
      ]
    },
    {
      "cell_type": "code",
      "execution_count": 10,
      "metadata": {
        "id": "qX935AYO3KNy"
      },
      "outputs": [],
      "source": [
        "# Generate embeddings using batch helper with fallback\n",
        "client = create_client_from_env()\n",
        "try:\n",
        "    embeddings = batch_get_embeddings(definitions, client=client)\n",
        "except Exception as e:\n",
        "    print('API embeddings failed. Falling back to local model:', e)\n",
        "    embeddings = local_fallback_embeddings(definitions)"
      ]
    },
    {
      "cell_type": "code",
      "execution_count": 11,
      "metadata": {
        "colab": {
          "base_uri": "https://localhost:8080/"
        },
        "id": "gWyCmX9u3MFn",
        "outputId": "0ea2fe7c-1201-4f71-94ca-39d11553a486"
      },
      "outputs": [
        {
          "name": "stderr",
          "output_type": "stream",
          "text": [
            "/Library/Frameworks/Python.framework/Versions/3.13/lib/python3.13/site-packages/umap/umap_.py:1952: UserWarning: n_jobs value 1 overridden to 1 by setting random_state. Use no seed for parallelism.\n",
            "  warn(\n"
          ]
        }
      ],
      "source": [
        "# Dimensionality reduction\n",
        "reducer = umap.UMAP(n_components=2, random_state=42)\n",
        "embedding_2d = reducer.fit_transform(embeddings)"
      ]
    },
    {
      "cell_type": "code",
      "execution_count": 12,
      "metadata": {
        "colab": {
          "base_uri": "https://localhost:8080/"
        },
        "id": "Q0-e6BBo3Npn",
        "outputId": "5bb7eb6d-ef2a-45d2-ada9-85688a26b387"
      },
      "outputs": [
        {
          "name": "stderr",
          "output_type": "stream",
          "text": [
            "/Library/Frameworks/Python.framework/Versions/3.13/lib/python3.13/site-packages/sklearn/utils/deprecation.py:132: FutureWarning: 'force_all_finite' was renamed to 'ensure_all_finite' in 1.6 and will be removed in 1.8.\n",
            "  warnings.warn(\n",
            "/Library/Frameworks/Python.framework/Versions/3.13/lib/python3.13/site-packages/sklearn/utils/deprecation.py:132: FutureWarning: 'force_all_finite' was renamed to 'ensure_all_finite' in 1.6 and will be removed in 1.8.\n",
            "  warnings.warn(\n"
          ]
        }
      ],
      "source": [
        "# Clustering\n",
        "clusterer = hdbscan.HDBSCAN(min_cluster_size=3)\n",
        "labels = clusterer.fit_predict(embedding_2d)"
      ]
    },
    {
      "cell_type": "code",
      "execution_count": 13,
      "metadata": {
        "colab": {
          "base_uri": "https://localhost:8080/",
          "height": 542
        },
        "id": "b9o8XJJt3QKC",
        "outputId": "7c526e50-e856-407b-ebf9-f26388f1f8f5"
      },
      "outputs": [
        {
          "data": {
            "application/vnd.plotly.v1+json": {
              "config": {
                "plotlyServerURL": "https://plot.ly"
              },
              "data": [
                {
                  "customdata": [
                    [
                      "Blunt dissect"
                    ],
                    [
                      "Cut"
                    ],
                    [
                      "Cauterize"
                    ],
                    [
                      "Clip"
                    ],
                    [
                      "Irrigate"
                    ],
                    [
                      "Suction"
                    ],
                    [
                      "Stick"
                    ]
                  ],
                  "hovertemplate": "color=0<br>x=%{x}<br>y=%{y}<br>gesture_name=%{customdata[0]}<extra></extra>",
                  "legendgroup": "0",
                  "marker": {
                    "color": "#636efa",
                    "symbol": "circle"
                  },
                  "mode": "markers",
                  "name": "0",
                  "orientation": "v",
                  "showlegend": true,
                  "type": "scatter",
                  "x": {
                    "bdata": "vAEWQXPZEkGFWBZBTzQUQaWXFkF6qhRBRQUXQQ==",
                    "dtype": "f4"
                  },
                  "xaxis": "x",
                  "y": {
                    "bdata": "HJJYQHxiXkCfEVhAcIBlQHAfVUAG7lNAiDpWQA==",
                    "dtype": "f4"
                  },
                  "yaxis": "y"
                },
                {
                  "customdata": [
                    [
                      "Blunt dissection"
                    ],
                    [
                      "Burn dissect"
                    ],
                    [
                      "Cold cut"
                    ],
                    [
                      "Cut cautery"
                    ],
                    [
                      "Cut ultrasonic"
                    ],
                    [
                      "Cutting"
                    ],
                    [
                      "Cutting (high frequency)"
                    ],
                    [
                      "Cutting ends"
                    ],
                    [
                      "Dissect"
                    ],
                    [
                      "Dissecting"
                    ],
                    [
                      "Dissection"
                    ],
                    [
                      "Dissection (blunt)"
                    ],
                    [
                      "Dissection (thermal)"
                    ],
                    [
                      "Hook"
                    ],
                    [
                      "Hook dissection"
                    ],
                    [
                      "Hot cut"
                    ],
                    [
                      "Inefficient hook"
                    ],
                    [
                      "Pedicalize"
                    ],
                    [
                      "Peel"
                    ],
                    [
                      "Peel/push"
                    ],
                    [
                      "Regular Dissection"
                    ],
                    [
                      "Spread"
                    ],
                    [
                      "Tissue bite"
                    ],
                    [
                      "Application of clips"
                    ],
                    [
                      "Bleeding"
                    ],
                    [
                      "Clipping"
                    ],
                    [
                      "Coagulate"
                    ],
                    [
                      "Coagulate then cut"
                    ],
                    [
                      "Coagulation"
                    ],
                    [
                      "Hemostatic control"
                    ],
                    [
                      "Stapling"
                    ],
                    [
                      "Tamponade"
                    ],
                    [
                      "Wipe"
                    ],
                    [
                      "Ascending survey"
                    ],
                    [
                      "Descending survey"
                    ],
                    [
                      "Endobag - In"
                    ],
                    [
                      "Endobag - Out"
                    ],
                    [
                      "Extract"
                    ],
                    [
                      "Inermaneuver segment"
                    ],
                    [
                      "Abdominal access"
                    ],
                    [
                      "Aspiration"
                    ],
                    [
                      "Clamp"
                    ],
                    [
                      "Grasping anatomy"
                    ],
                    [
                      "Irrigation"
                    ],
                    [
                      "Irrigation and suction"
                    ],
                    [
                      "Pulling/lifting"
                    ],
                    [
                      "Push"
                    ],
                    [
                      "Retract"
                    ],
                    [
                      "Retracting with grasping"
                    ],
                    [
                      "Retracting without grasping"
                    ],
                    [
                      "Retraction"
                    ],
                    [
                      "Scratch"
                    ],
                    [
                      "Suction and irrigation"
                    ],
                    [
                      "Marking"
                    ],
                    [
                      "Specimen/material removal"
                    ],
                    [
                      "Inserting/pushing"
                    ],
                    [
                      "Resect"
                    ],
                    [
                      "Transection"
                    ]
                  ],
                  "hovertemplate": "color=1<br>x=%{x}<br>y=%{y}<br>gesture_name=%{customdata[0]}<extra></extra>",
                  "legendgroup": "1",
                  "marker": {
                    "color": "#EF553B",
                    "symbol": "circle"
                  },
                  "mode": "markers",
                  "name": "1",
                  "orientation": "v",
                  "showlegend": true,
                  "type": "scatter",
                  "x": {
                    "bdata": "moTgQCne10DDoc5AGUzxQHZQ9EBIAgFBd4vRQNIM3kAvLNBA4Wr3QJgJ5kBbUM1AEmTOQBNl00D56d1AKcbYQBHh5ECrLdpAzanUQHrt0UATaPVAVXnVQB+N30BI8QZB/gblQBpRA0Hy5dVAfmHWQNAi5ECegv9Ax2D3QFKA7kA+YPVAPf0MQdhyDUEwKgNB5VoBQXkD6EDknwdBUMIFQd1k+EDf8/hA/UbxQMomAkHLfwBBRpAPQeoR4kDTDtdApskCQVtuBEHpk9lAQc3jQMFU/UCqX9RANUoBQWAqEEGT8dpAjkraQA==",
                    "dtype": "f4"
                  },
                  "xaxis": "x",
                  "y": {
                    "bdata": "LQyKQJQ+mEA0zo9A8lKaQFxalkByGJBAPh+TQPXKbEBdjohAxP6TQLc1iEAeA39AHCycQB8Xk0DVEZVA8+GdQHJFm0ASvpZA/xWBQJ1NhUDbNJFAsWWDQFrGhkAkxY9AgjOPQCxYkkDMDqRAE5qdQJ3gn0CpuZRALzGWQKNAhECbS21AMSSCQJwJgkBy4lBArj5SQFvOXEB56IZA8LNkQKhBbkBUu4dAnJuDQJ7yRUAq7WZAjZeDQGSwgUB9pXVAXyeBQMCMekDTC4RAl+x/QD2jUkBOLptAU55/QCUahkDcx3RA3KVyQA==",
                    "dtype": "f4"
                  },
                  "yaxis": "y"
                },
                {
                  "customdata": [
                    [
                      "Two-hand spread"
                    ],
                    [
                      "Get together"
                    ],
                    [
                      "Both hands pull"
                    ],
                    [
                      "Pull suture with both graspers"
                    ],
                    [
                      "Pulling suture with both hands"
                    ],
                    [
                      "Reaching for suture with one hand while the other holding the needle"
                    ]
                  ],
                  "hovertemplate": "color=2<br>x=%{x}<br>y=%{y}<br>gesture_name=%{customdata[0]}<extra></extra>",
                  "legendgroup": "2",
                  "marker": {
                    "color": "#00cc96",
                    "symbol": "circle"
                  },
                  "mode": "markers",
                  "name": "2",
                  "orientation": "v",
                  "showlegend": true,
                  "type": "scatter",
                  "x": {
                    "bdata": "yPA/QfNmPkEnKEBB9BE/QXuUPkFEtEBB",
                    "dtype": "f4"
                  },
                  "xaxis": "x",
                  "y": {
                    "bdata": "y9ChQHNfm0CBE6pAkHOpQNY6p0AmLKJA",
                    "dtype": "f4"
                  },
                  "yaxis": "y"
                },
                {
                  "customdata": [
                    [
                      "Precision"
                    ],
                    [
                      "Collaboration"
                    ],
                    [
                      "Displacement"
                    ],
                    [
                      "Free motion"
                    ],
                    [
                      "Idle holding"
                    ],
                    [
                      "Idle position"
                    ],
                    [
                      "Load motion"
                    ],
                    [
                      "Reach"
                    ],
                    [
                      "Inefficient grasp"
                    ],
                    [
                      "Move"
                    ],
                    [
                      "0's"
                    ],
                    [
                      "Idle"
                    ],
                    [
                      "Non-specific movement"
                    ],
                    [
                      "Picking"
                    ]
                  ],
                  "hovertemplate": "color=10<br>x=%{x}<br>y=%{y}<br>gesture_name=%{customdata[0]}<extra></extra>",
                  "legendgroup": "10",
                  "marker": {
                    "color": "#ab63fa",
                    "symbol": "circle"
                  },
                  "mode": "markers",
                  "name": "10",
                  "orientation": "v",
                  "showlegend": true,
                  "type": "scatter",
                  "x": {
                    "bdata": "XU85QenmO0FiuDpBLmI4QZduMkH1FUJBr/o5QUE6LUGxCzJBTCIqQcceOUH5+DVB3+ZBQdcMPUE=",
                    "dtype": "f4"
                  },
                  "xaxis": "x",
                  "y": {
                    "bdata": "TU5aQHkdXUB+K2JAkRduQAoZYUAn41dAj7FWQGdmZUBab1xAojhhQDnTZEBpXWJAEYZdQJOLUUA=",
                    "dtype": "f4"
                  },
                  "yaxis": "y"
                },
                {
                  "customdata": [
                    [
                      "Adjustment gesture"
                    ],
                    [
                      "Sling-In"
                    ],
                    [
                      "Cutting the suture"
                    ],
                    [
                      "Dropping suture"
                    ],
                    [
                      "Dropping suture and moving to end points"
                    ],
                    [
                      "Dropping suture at end and moving to end points"
                    ],
                    [
                      "Grab suture"
                    ],
                    [
                      "Grab suture-tail"
                    ],
                    [
                      "Grab – Pull - Run"
                    ],
                    [
                      "Grasp Pull Run Suture"
                    ],
                    [
                      "Grasp suture tail in knot tying"
                    ],
                    [
                      "Grasping and pulling the tail of suture through the loop"
                    ],
                    [
                      "Knot pushing"
                    ],
                    [
                      "Knot tie (Double/Single loop)"
                    ],
                    [
                      "Knot tying"
                    ],
                    [
                      "Knot-Tying"
                    ],
                    [
                      "Knot tying - Grasp tail"
                    ],
                    [
                      "Knot tying - Perform a single C-loop"
                    ],
                    [
                      "Knot tying - Tighten suture"
                    ],
                    [
                      "Knotting"
                    ],
                    [
                      "Loop suture for knot tying"
                    ],
                    [
                      "Looping the suture around a needle driver to make a knot"
                    ],
                    [
                      "Loosen up more suture"
                    ],
                    [
                      "Loosening more suture"
                    ],
                    [
                      "Make a knot"
                    ],
                    [
                      "Making C loop around one hand"
                    ],
                    [
                      "Making C-loop around right grasper"
                    ],
                    [
                      "Moving to end points"
                    ],
                    [
                      "Needle withdrawl"
                    ],
                    [
                      "One loop knot"
                    ],
                    [
                      "Pull ends of suture taut"
                    ],
                    [
                      "Pull needle suture"
                    ],
                    [
                      "Pull suture"
                    ],
                    [
                      "Pull suture tail trough knot"
                    ],
                    [
                      "Pull/run suture out of tissue"
                    ],
                    [
                      "Pulling Suture"
                    ],
                    [
                      "Pulling the 2 suture ends taut to tighten the knot."
                    ],
                    [
                      "Pulling thread trough tissue"
                    ],
                    [
                      "Rotate suture once"
                    ],
                    [
                      "Rotate suture twice"
                    ],
                    [
                      "String cutting"
                    ],
                    [
                      "Suture cinching"
                    ],
                    [
                      "Suture throw"
                    ],
                    [
                      "Thread cut"
                    ],
                    [
                      "Two loop knot"
                    ],
                    [
                      "Tying a knot"
                    ],
                    [
                      "Using one hand to help tighten suture"
                    ]
                  ],
                  "hovertemplate": "color=3<br>x=%{x}<br>y=%{y}<br>gesture_name=%{customdata[0]}<extra></extra>",
                  "legendgroup": "3",
                  "marker": {
                    "color": "#FFA15A",
                    "symbol": "circle"
                  },
                  "mode": "markers",
                  "name": "3",
                  "orientation": "v",
                  "showlegend": true,
                  "type": "scatter",
                  "x": {
                    "bdata": "I2shQW4NL0GD9idBKQAzQV4gOEHKkC9BaW0pQd36N0HPLB5B5RolQdCxN0EdlDVBgA86QRmELUG/ZjBBcRAwQdVwN0EnjDZBoB45QSKLLEGuRDNBsx46QazCM0G4gjVBJrg1Qb2VOEFiJDxBrHU1QXT9I0H9PjJB6SoyQQCGJEEwSytB1mo0QbDkI0EWkyVB3OQzQS4LJUF3eTNB/F01QbI+JkEkGTFBWwUfQUw2J0ED/zZBPVYvQQJgPUE=",
                    "dtype": "f4"
                  },
                  "xaxis": "x",
                  "y": {
                    "bdata": "IyewQB2qs0Cavc9A6oe0QDDIsECG2cpATxbLQBaYy0DoV75AF5G/QJt100CYStpAXN7dQJLt5UBJUtJAMGDjQDhazkCLJ+dAZoTYQCMS2kBVruBAt2LnQFyXwUBFGcVAWAe+QDYm4kCyduJAR7q1QGqKvkAIXOpAy53RQOAbwkBBIc1AWC/cQKnBu0CnaMpA5VTVQJGuwkCpU+RAQtXrQDbV0EBCWstAbvLBQBDZ0UB3P+tAW0XcQBmm1kA=",
                    "dtype": "f4"
                  },
                  "yaxis": "y"
                },
                {
                  "customdata": [
                    [
                      "Camera move"
                    ],
                    [
                      "Align and place"
                    ],
                    [
                      "Position needle (holding needle)"
                    ],
                    [
                      "Repositioning the needle on the needle driver"
                    ],
                    [
                      "Straightening/orienting needle"
                    ]
                  ],
                  "hovertemplate": "color=14<br>x=%{x}<br>y=%{y}<br>gesture_name=%{customdata[0]}<extra></extra>",
                  "legendgroup": "14",
                  "marker": {
                    "color": "#19d3f3",
                    "symbol": "circle"
                  },
                  "mode": "markers",
                  "name": "14",
                  "orientation": "v",
                  "showlegend": true,
                  "type": "scatter",
                  "x": {
                    "bdata": "h141QReNNEGlfjRBIl00Qb7EMkE=",
                    "dtype": "f4"
                  },
                  "xaxis": "x",
                  "y": {
                    "bdata": "Ij13P3UAnD8YgGY/SGF6P998fD8=",
                    "dtype": "f4"
                  },
                  "yaxis": "y"
                },
                {
                  "customdata": [
                    [
                      "Exchange"
                    ],
                    [
                      "Injection"
                    ],
                    [
                      "Sling (Hyst.)"
                    ],
                    [
                      "Touch"
                    ],
                    [
                      "Avoidable delay"
                    ],
                    [
                      "Drop"
                    ],
                    [
                      "End of trial"
                    ],
                    [
                      "Placing"
                    ],
                    [
                      "Put"
                    ],
                    [
                      "Grab needle"
                    ],
                    [
                      "Grasping the needle"
                    ],
                    [
                      "Gripper reconfiguration"
                    ],
                    [
                      "Indirectly rotate"
                    ],
                    [
                      "Insert needle/push needle through tissue"
                    ],
                    [
                      "Moving to center with needle in grip"
                    ],
                    [
                      "Needle driving"
                    ],
                    [
                      "Needle handling"
                    ],
                    [
                      "Orienting needle"
                    ],
                    [
                      "Picking up the needle"
                    ],
                    [
                      "Pulling needle"
                    ],
                    [
                      "Puling the needle out of the tissue"
                    ],
                    [
                      "Reach for the suture end with the right grasper and pull the suture to lock the knot"
                    ],
                    [
                      "Reaching for needle"
                    ],
                    [
                      "Returning/dropping the needle"
                    ],
                    [
                      "Suture"
                    ],
                    [
                      "Suture tying"
                    ],
                    [
                      "Suturing"
                    ],
                    [
                      "Wrist rotation"
                    ],
                    [
                      "Wrist rotation needle withdrawal"
                    ]
                  ],
                  "hovertemplate": "color=-1<br>x=%{x}<br>y=%{y}<br>gesture_name=%{customdata[0]}<extra></extra>",
                  "legendgroup": "-1",
                  "marker": {
                    "color": "#FF6692",
                    "symbol": "circle"
                  },
                  "mode": "markers",
                  "name": "-1",
                  "orientation": "v",
                  "showlegend": true,
                  "type": "scatter",
                  "x": {
                    "bdata": "A+A8QUHADkFu1SxB7XU5QSCcKkGERhJBiY8+QbWOQUGbC0FBZzA0QaFLMEHWSDFBCnk2QfI+H0HQZkNBmhwfQXRzMUEbqTtB75koQTysGUG1JhdB3K4/QQ4UOEGpIC1B0xEfQQ8jFUFA7hFBxFwwQcrUL0E=",
                    "dtype": "f4"
                  },
                  "xaxis": "x",
                  "y": {
                    "bdata": "irkNQNUY0D/6tbVA/m0eQIL9RkCjiRpAAeU9QN7ROkCIFwZA3WHTP9ndrT+dSQZAgPgBQMTy0j/AItc/bXqlP6vR/z/0e68/TPy4P9+N+z9k8gBALDO+QFfmwz/LLaY/KbnXP64io0BDxpxAZFU8QDDMQkA=",
                    "dtype": "f4"
                  },
                  "yaxis": "y"
                },
                {
                  "customdata": [
                    [
                      "Release"
                    ],
                    [
                      "Grasp"
                    ],
                    [
                      "Hold"
                    ],
                    [
                      "Place"
                    ]
                  ],
                  "hovertemplate": "color=11<br>x=%{x}<br>y=%{y}<br>gesture_name=%{customdata[0]}<extra></extra>",
                  "legendgroup": "11",
                  "marker": {
                    "color": "#B6E880",
                    "symbol": "circle"
                  },
                  "mode": "markers",
                  "name": "11",
                  "orientation": "v",
                  "showlegend": true,
                  "type": "scatter",
                  "x": {
                    "bdata": "c5ciQdtdIkE4iyZBi70jQQ==",
                    "dtype": "f4"
                  },
                  "xaxis": "x",
                  "y": {
                    "bdata": "UnZlQN5qYUBBBFxAIAtkQA==",
                    "dtype": "f4"
                  },
                  "yaxis": "y"
                },
                {
                  "customdata": [
                    [
                      "Align and grasp"
                    ],
                    [
                      "Hand-off"
                    ],
                    [
                      "Reach for needle"
                    ],
                    [
                      "Reach for needle (gripper open)"
                    ],
                    [
                      "Transferring needle from one hand to the other"
                    ]
                  ],
                  "hovertemplate": "color=16<br>x=%{x}<br>y=%{y}<br>gesture_name=%{customdata[0]}<extra></extra>",
                  "legendgroup": "16",
                  "marker": {
                    "color": "#FF97FF",
                    "symbol": "circle"
                  },
                  "mode": "markers",
                  "name": "16",
                  "orientation": "v",
                  "showlegend": true,
                  "type": "scatter",
                  "x": {
                    "bdata": "YLQ8QX1uPUE/QjtBCqE9QRJtPkE=",
                    "dtype": "f4"
                  },
                  "xaxis": "x",
                  "y": {
                    "bdata": "gmzYPzTGA0BSf/E/YJ3fP0fV6T8=",
                    "dtype": "f4"
                  },
                  "yaxis": "y"
                },
                {
                  "customdata": [
                    [
                      "Catch"
                    ],
                    [
                      "Give slack"
                    ],
                    [
                      "Make a loop"
                    ],
                    [
                      "Pass through"
                    ],
                    [
                      "Position"
                    ],
                    [
                      "Pull"
                    ]
                  ],
                  "hovertemplate": "color=7<br>x=%{x}<br>y=%{y}<br>gesture_name=%{customdata[0]}<extra></extra>",
                  "legendgroup": "7",
                  "marker": {
                    "color": "#FECB52",
                    "symbol": "circle"
                  },
                  "mode": "markers",
                  "name": "7",
                  "orientation": "v",
                  "showlegend": true,
                  "type": "scatter",
                  "x": {
                    "bdata": "FzQlQZl7JUFF6ydBEM8mQbuoI0FvCCdB",
                    "dtype": "f4"
                  },
                  "xaxis": "x",
                  "y": {
                    "bdata": "RgGHQON3jkCusZhA0giUQJe/j0AgOYtA",
                    "dtype": "f4"
                  },
                  "yaxis": "y"
                },
                {
                  "customdata": [
                    [
                      "Penetrating countertissue"
                    ],
                    [
                      "Penetrating tissue"
                    ],
                    [
                      "Drive needle enter skin"
                    ],
                    [
                      "Driving the needle to enter the skin or tissue"
                    ],
                    [
                      "Insert and push needle through tissue"
                    ],
                    [
                      "Insert needle trough tissue"
                    ],
                    [
                      "Needle pulling"
                    ],
                    [
                      "Needle puncture"
                    ],
                    [
                      "Needle pushing"
                    ],
                    [
                      "Positioning the needle tip"
                    ],
                    [
                      "Pull needle"
                    ],
                    [
                      "Pushing needle through the tissue"
                    ],
                    [
                      "Rotate needle trough skin"
                    ],
                    [
                      "Rotating or pulling the needle out of the skin or tissue"
                    ]
                  ],
                  "hovertemplate": "color=13<br>x=%{x}<br>y=%{y}<br>gesture_name=%{customdata[0]}<extra></extra>",
                  "legendgroup": "13",
                  "marker": {
                    "color": "#636efa",
                    "symbol": "circle"
                  },
                  "mode": "markers",
                  "name": "13",
                  "orientation": "v",
                  "showlegend": true,
                  "type": "scatter",
                  "x": {
                    "bdata": "l5sUQUipGEHswhVBiowWQVKeFkEr3BZBNRkVQcrGFkERvBlBudkbQYziFUE+PBpBV30ZQcdhGEE=",
                    "dtype": "f4"
                  },
                  "xaxis": "x",
                  "y": {
                    "bdata": "fNPVP0Sqhj9iHJA/u+2SP+wltT+ZDJs/OxHNPw//hj8L2cI/7ER0P2Hr8z+hv7Q/6ZCnP8inyj8=",
                    "dtype": "f4"
                  },
                  "yaxis": "y"
                },
                {
                  "customdata": [
                    [
                      "Approach peg"
                    ],
                    [
                      "Approach pole"
                    ],
                    [
                      "Lift peg"
                    ],
                    [
                      "Reach for peg"
                    ],
                    [
                      "Reach for the peg with the left grasper"
                    ],
                    [
                      "Reach for the peg with the right grasper"
                    ],
                    [
                      "Transfer peg - exchange"
                    ],
                    [
                      "Transfer peg - together"
                    ],
                    [
                      "Transfer peg between graspers"
                    ]
                  ],
                  "hovertemplate": "color=15<br>x=%{x}<br>y=%{y}<br>gesture_name=%{customdata[0]}<extra></extra>",
                  "legendgroup": "15",
                  "marker": {
                    "color": "#EF553B",
                    "symbol": "circle"
                  },
                  "mode": "markers",
                  "name": "15",
                  "orientation": "v",
                  "showlegend": true,
                  "type": "scatter",
                  "x": {
                    "bdata": "lg9DQd7zQEENQUVBFtlEQfndSEGHL0dBUTlIQcHuSEHGcklB",
                    "dtype": "f4"
                  },
                  "xaxis": "x",
                  "y": {
                    "bdata": "LHkbQFrQGEAF3CJANNIaQJmJFUBvqxpAKF4lQFruJEAWnSVA",
                    "dtype": "f4"
                  },
                  "yaxis": "y"
                },
                {
                  "customdata": [
                    [
                      "Backhand over - Left"
                    ],
                    [
                      "Backhand over - Right"
                    ],
                    [
                      "Backhand under - Left"
                    ],
                    [
                      "Backhand under - Right"
                    ],
                    [
                      "Backhand under -> over"
                    ],
                    [
                      "Flush hand under - Right"
                    ],
                    [
                      "Forehand over - Right"
                    ],
                    [
                      "Forehand under - Left"
                    ]
                  ],
                  "hovertemplate": "color=4<br>x=%{x}<br>y=%{y}<br>gesture_name=%{customdata[0]}<extra></extra>",
                  "legendgroup": "4",
                  "marker": {
                    "color": "#00cc96",
                    "symbol": "circle"
                  },
                  "mode": "markers",
                  "name": "4",
                  "orientation": "v",
                  "showlegend": true,
                  "type": "scatter",
                  "x": {
                    "bdata": "d1RNQTVCTEG4nk9BOZ1OQSi9TkEY205BCP1MQVGSUEE=",
                    "dtype": "f4"
                  },
                  "xaxis": "x",
                  "y": {
                    "bdata": "XEaAQCqpgUDgNIZA8dyDQNCAgkCVC4lAvWp+QISPjUA=",
                    "dtype": "f4"
                  },
                  "yaxis": "y"
                },
                {
                  "customdata": [
                    [
                      "Driving smoothness"
                    ],
                    [
                      "Needle entry angle"
                    ],
                    [
                      "Needle extraction"
                    ],
                    [
                      "Needle grasping"
                    ],
                    [
                      "Needle hold ratio"
                    ],
                    [
                      "Needle insertion"
                    ],
                    [
                      "Needle passing"
                    ],
                    [
                      "Needle repositioning"
                    ]
                  ],
                  "hovertemplate": "color=9<br>x=%{x}<br>y=%{y}<br>gesture_name=%{customdata[0]}<extra></extra>",
                  "legendgroup": "9",
                  "marker": {
                    "color": "#ab63fa",
                    "symbol": "circle"
                  },
                  "mode": "markers",
                  "name": "9",
                  "orientation": "v",
                  "showlegend": true,
                  "type": "scatter",
                  "x": {
                    "bdata": "PyIkQUcmIEEmVBxBE9MmQbArKEE+shxB+Y0hQfPpKEE=",
                    "dtype": "f4"
                  },
                  "xaxis": "x",
                  "y": {
                    "bdata": "d0IQQM+HHkDuyy9AT24wQAzIGkAexilAwBAgQO/+G0A=",
                    "dtype": "f4"
                  },
                  "yaxis": "y"
                },
                {
                  "customdata": [
                    [
                      "Extracting suture from tissue with left hand"
                    ],
                    [
                      "Making C loop around right hand"
                    ],
                    [
                      "pull suture with left hand"
                    ],
                    [
                      "pull suture with right hand"
                    ],
                    [
                      "Pulling suture with left hand"
                    ],
                    [
                      "Pulling suture with right hand"
                    ],
                    [
                      "Reach for suture with right grasper"
                    ],
                    [
                      "Reaching for suture with right hand"
                    ],
                    [
                      "Right hand assisting left while pulling suture"
                    ],
                    [
                      "Right hand reaches for suture"
                    ],
                    [
                      "Using right hand to help tighten suture"
                    ]
                  ],
                  "hovertemplate": "color=6<br>x=%{x}<br>y=%{y}<br>gesture_name=%{customdata[0]}<extra></extra>",
                  "legendgroup": "6",
                  "marker": {
                    "color": "#FFA15A",
                    "symbol": "circle"
                  },
                  "mode": "markers",
                  "name": "6",
                  "orientation": "v",
                  "showlegend": true,
                  "type": "scatter",
                  "x": {
                    "bdata": "lttEQa2zRkEVakhBypRHQR2mSUGrDUlBYoJFQUp/RkEPSUpB9SNIQZ//SUE=",
                    "dtype": "f4"
                  },
                  "xaxis": "x",
                  "y": {
                    "bdata": "pEq4QMTPvkCMgrJABZm2QBnouUARPLlAsj2zQJ0Xs0Ae6rdABiCxQBJ1skA=",
                    "dtype": "f4"
                  },
                  "yaxis": "y"
                },
                {
                  "customdata": [
                    [
                      "Flush hand over - Left"
                    ],
                    [
                      "Flush hand over - Right"
                    ],
                    [
                      "Flush hand under - Left"
                    ],
                    [
                      "Forehand over - Left"
                    ],
                    [
                      "Forehand over -> Under"
                    ],
                    [
                      "Forehand under - Right"
                    ]
                  ],
                  "hovertemplate": "color=5<br>x=%{x}<br>y=%{y}<br>gesture_name=%{customdata[0]}<extra></extra>",
                  "legendgroup": "5",
                  "marker": {
                    "color": "#19d3f3",
                    "symbol": "circle"
                  },
                  "mode": "markers",
                  "name": "5",
                  "orientation": "v",
                  "showlegend": true,
                  "type": "scatter",
                  "x": {
                    "bdata": "1IlNQXAiTEGwhEtBYXJNQdl7SEFEbk5B",
                    "dtype": "f4"
                  },
                  "xaxis": "x",
                  "y": {
                    "bdata": "3vaZQMGuoUD75aFAGfigQMrapECaXJtA",
                    "dtype": "f4"
                  },
                  "yaxis": "y"
                },
                {
                  "customdata": [
                    [
                      "Grasping needle with right hand"
                    ],
                    [
                      "Move to middle with needle (left hand)"
                    ],
                    [
                      "Move to middle with needle (right hand)"
                    ],
                    [
                      "Moving to center of workspace with needle in grip"
                    ],
                    [
                      "Orient needle with both hands"
                    ],
                    [
                      "Orienting needle with left hand"
                    ],
                    [
                      "Orienting needle with right hand"
                    ],
                    [
                      "Orienting needles"
                    ],
                    [
                      "Positioning needle with left hand"
                    ],
                    [
                      "Positioning needle with right hand"
                    ],
                    [
                      "Pushing needle through tissue with left hand"
                    ],
                    [
                      "Pushing needle through tissue with right hand"
                    ],
                    [
                      "Reaching for needle with left hand"
                    ],
                    [
                      "Reaching for needle with right hand"
                    ],
                    [
                      "Rotate"
                    ],
                    [
                      "Transferring needle from left to right"
                    ],
                    [
                      "Transferring needle from right to left"
                    ]
                  ],
                  "hovertemplate": "color=17<br>x=%{x}<br>y=%{y}<br>gesture_name=%{customdata[0]}<extra></extra>",
                  "legendgroup": "17",
                  "marker": {
                    "color": "#FF6692",
                    "symbol": "circle"
                  },
                  "mode": "markers",
                  "name": "17",
                  "orientation": "v",
                  "showlegend": true,
                  "type": "scatter",
                  "x": {
                    "bdata": "qbU+QbbJREEJHkdBv9E7QXTkOkHw2D9B3Sk/QSUHO0Ea3UFBZzk9QXnWREE4qkJBc+JCQZK0QUFU3DlBYgJFQZ6jREE=",
                    "dtype": "f4"
                  },
                  "xaxis": "x",
                  "y": {
                    "bdata": "urd8P+Osqj/FYZU/hS+UP0AXaD9xGG8/dv5nP3BEgD9wFIQ/UwhXP9iOij+xt4w/2z3GP2KL1D8EylE/O1CxPwOEoj8=",
                    "dtype": "f4"
                  },
                  "yaxis": "y"
                },
                {
                  "customdata": [
                    [
                      "Grasping/orienting needle"
                    ],
                    [
                      "Needle hold angle"
                    ],
                    [
                      "Needle positioning"
                    ],
                    [
                      "Needle targeting"
                    ],
                    [
                      "Orient needle"
                    ],
                    [
                      "Orient needle with two hands"
                    ],
                    [
                      "Position needle"
                    ],
                    [
                      "Positioning needle"
                    ],
                    [
                      "Positioning the tip of the needle"
                    ]
                  ],
                  "hovertemplate": "color=12<br>x=%{x}<br>y=%{y}<br>gesture_name=%{customdata[0]}<extra></extra>",
                  "legendgroup": "12",
                  "marker": {
                    "color": "#B6E880",
                    "symbol": "circle"
                  },
                  "mode": "markers",
                  "name": "12",
                  "orientation": "v",
                  "showlegend": true,
                  "type": "scatter",
                  "x": {
                    "bdata": "3XEkQQL8IUHVmSRBP/ofQTm1J0H6kStBZXgjQWD2K0FFWSlB",
                    "dtype": "f4"
                  },
                  "xaxis": "x",
                  "y": {
                    "bdata": "7ZKPP5nlrj8+mYI/vNBzP7EAhD/wUWM/j8ZlP2u+Yz9bxkI/",
                    "dtype": "f4"
                  },
                  "yaxis": "y"
                },
                {
                  "customdata": [
                    [
                      "Insert"
                    ],
                    [
                      "Loosen completely"
                    ],
                    [
                      "Loosen partially"
                    ],
                    [
                      "Needle holding"
                    ],
                    [
                      "Suture handling"
                    ],
                    [
                      "Suture making"
                    ]
                  ],
                  "hovertemplate": "color=8<br>x=%{x}<br>y=%{y}<br>gesture_name=%{customdata[0]}<extra></extra>",
                  "legendgroup": "8",
                  "marker": {
                    "color": "#FF97FF",
                    "symbol": "circle"
                  },
                  "mode": "markers",
                  "name": "8",
                  "orientation": "v",
                  "showlegend": true,
                  "type": "scatter",
                  "x": {
                    "bdata": "SOoYQYBrIUFeqiFB6c0aQaxgHUHD/hpB",
                    "dtype": "f4"
                  },
                  "xaxis": "x",
                  "y": {
                    "bdata": "POSVQKHfoEBtfKBASpWfQAe9m0CFM5VA",
                    "dtype": "f4"
                  },
                  "yaxis": "y"
                }
              ],
              "layout": {
                "legend": {
                  "title": {
                    "text": "color"
                  },
                  "tracegroupgap": 0
                },
                "margin": {
                  "t": 60
                },
                "template": {
                  "data": {
                    "bar": [
                      {
                        "error_x": {
                          "color": "#2a3f5f"
                        },
                        "error_y": {
                          "color": "#2a3f5f"
                        },
                        "marker": {
                          "line": {
                            "color": "#E5ECF6",
                            "width": 0.5
                          },
                          "pattern": {
                            "fillmode": "overlay",
                            "size": 10,
                            "solidity": 0.2
                          }
                        },
                        "type": "bar"
                      }
                    ],
                    "barpolar": [
                      {
                        "marker": {
                          "line": {
                            "color": "#E5ECF6",
                            "width": 0.5
                          },
                          "pattern": {
                            "fillmode": "overlay",
                            "size": 10,
                            "solidity": 0.2
                          }
                        },
                        "type": "barpolar"
                      }
                    ],
                    "carpet": [
                      {
                        "aaxis": {
                          "endlinecolor": "#2a3f5f",
                          "gridcolor": "white",
                          "linecolor": "white",
                          "minorgridcolor": "white",
                          "startlinecolor": "#2a3f5f"
                        },
                        "baxis": {
                          "endlinecolor": "#2a3f5f",
                          "gridcolor": "white",
                          "linecolor": "white",
                          "minorgridcolor": "white",
                          "startlinecolor": "#2a3f5f"
                        },
                        "type": "carpet"
                      }
                    ],
                    "choropleth": [
                      {
                        "colorbar": {
                          "outlinewidth": 0,
                          "ticks": ""
                        },
                        "type": "choropleth"
                      }
                    ],
                    "contour": [
                      {
                        "colorbar": {
                          "outlinewidth": 0,
                          "ticks": ""
                        },
                        "colorscale": [
                          [
                            0,
                            "#0d0887"
                          ],
                          [
                            0.1111111111111111,
                            "#46039f"
                          ],
                          [
                            0.2222222222222222,
                            "#7201a8"
                          ],
                          [
                            0.3333333333333333,
                            "#9c179e"
                          ],
                          [
                            0.4444444444444444,
                            "#bd3786"
                          ],
                          [
                            0.5555555555555556,
                            "#d8576b"
                          ],
                          [
                            0.6666666666666666,
                            "#ed7953"
                          ],
                          [
                            0.7777777777777778,
                            "#fb9f3a"
                          ],
                          [
                            0.8888888888888888,
                            "#fdca26"
                          ],
                          [
                            1,
                            "#f0f921"
                          ]
                        ],
                        "type": "contour"
                      }
                    ],
                    "contourcarpet": [
                      {
                        "colorbar": {
                          "outlinewidth": 0,
                          "ticks": ""
                        },
                        "type": "contourcarpet"
                      }
                    ],
                    "heatmap": [
                      {
                        "colorbar": {
                          "outlinewidth": 0,
                          "ticks": ""
                        },
                        "colorscale": [
                          [
                            0,
                            "#0d0887"
                          ],
                          [
                            0.1111111111111111,
                            "#46039f"
                          ],
                          [
                            0.2222222222222222,
                            "#7201a8"
                          ],
                          [
                            0.3333333333333333,
                            "#9c179e"
                          ],
                          [
                            0.4444444444444444,
                            "#bd3786"
                          ],
                          [
                            0.5555555555555556,
                            "#d8576b"
                          ],
                          [
                            0.6666666666666666,
                            "#ed7953"
                          ],
                          [
                            0.7777777777777778,
                            "#fb9f3a"
                          ],
                          [
                            0.8888888888888888,
                            "#fdca26"
                          ],
                          [
                            1,
                            "#f0f921"
                          ]
                        ],
                        "type": "heatmap"
                      }
                    ],
                    "histogram": [
                      {
                        "marker": {
                          "pattern": {
                            "fillmode": "overlay",
                            "size": 10,
                            "solidity": 0.2
                          }
                        },
                        "type": "histogram"
                      }
                    ],
                    "histogram2d": [
                      {
                        "colorbar": {
                          "outlinewidth": 0,
                          "ticks": ""
                        },
                        "colorscale": [
                          [
                            0,
                            "#0d0887"
                          ],
                          [
                            0.1111111111111111,
                            "#46039f"
                          ],
                          [
                            0.2222222222222222,
                            "#7201a8"
                          ],
                          [
                            0.3333333333333333,
                            "#9c179e"
                          ],
                          [
                            0.4444444444444444,
                            "#bd3786"
                          ],
                          [
                            0.5555555555555556,
                            "#d8576b"
                          ],
                          [
                            0.6666666666666666,
                            "#ed7953"
                          ],
                          [
                            0.7777777777777778,
                            "#fb9f3a"
                          ],
                          [
                            0.8888888888888888,
                            "#fdca26"
                          ],
                          [
                            1,
                            "#f0f921"
                          ]
                        ],
                        "type": "histogram2d"
                      }
                    ],
                    "histogram2dcontour": [
                      {
                        "colorbar": {
                          "outlinewidth": 0,
                          "ticks": ""
                        },
                        "colorscale": [
                          [
                            0,
                            "#0d0887"
                          ],
                          [
                            0.1111111111111111,
                            "#46039f"
                          ],
                          [
                            0.2222222222222222,
                            "#7201a8"
                          ],
                          [
                            0.3333333333333333,
                            "#9c179e"
                          ],
                          [
                            0.4444444444444444,
                            "#bd3786"
                          ],
                          [
                            0.5555555555555556,
                            "#d8576b"
                          ],
                          [
                            0.6666666666666666,
                            "#ed7953"
                          ],
                          [
                            0.7777777777777778,
                            "#fb9f3a"
                          ],
                          [
                            0.8888888888888888,
                            "#fdca26"
                          ],
                          [
                            1,
                            "#f0f921"
                          ]
                        ],
                        "type": "histogram2dcontour"
                      }
                    ],
                    "mesh3d": [
                      {
                        "colorbar": {
                          "outlinewidth": 0,
                          "ticks": ""
                        },
                        "type": "mesh3d"
                      }
                    ],
                    "parcoords": [
                      {
                        "line": {
                          "colorbar": {
                            "outlinewidth": 0,
                            "ticks": ""
                          }
                        },
                        "type": "parcoords"
                      }
                    ],
                    "pie": [
                      {
                        "automargin": true,
                        "type": "pie"
                      }
                    ],
                    "scatter": [
                      {
                        "fillpattern": {
                          "fillmode": "overlay",
                          "size": 10,
                          "solidity": 0.2
                        },
                        "type": "scatter"
                      }
                    ],
                    "scatter3d": [
                      {
                        "line": {
                          "colorbar": {
                            "outlinewidth": 0,
                            "ticks": ""
                          }
                        },
                        "marker": {
                          "colorbar": {
                            "outlinewidth": 0,
                            "ticks": ""
                          }
                        },
                        "type": "scatter3d"
                      }
                    ],
                    "scattercarpet": [
                      {
                        "marker": {
                          "colorbar": {
                            "outlinewidth": 0,
                            "ticks": ""
                          }
                        },
                        "type": "scattercarpet"
                      }
                    ],
                    "scattergeo": [
                      {
                        "marker": {
                          "colorbar": {
                            "outlinewidth": 0,
                            "ticks": ""
                          }
                        },
                        "type": "scattergeo"
                      }
                    ],
                    "scattergl": [
                      {
                        "marker": {
                          "colorbar": {
                            "outlinewidth": 0,
                            "ticks": ""
                          }
                        },
                        "type": "scattergl"
                      }
                    ],
                    "scattermap": [
                      {
                        "marker": {
                          "colorbar": {
                            "outlinewidth": 0,
                            "ticks": ""
                          }
                        },
                        "type": "scattermap"
                      }
                    ],
                    "scattermapbox": [
                      {
                        "marker": {
                          "colorbar": {
                            "outlinewidth": 0,
                            "ticks": ""
                          }
                        },
                        "type": "scattermapbox"
                      }
                    ],
                    "scatterpolar": [
                      {
                        "marker": {
                          "colorbar": {
                            "outlinewidth": 0,
                            "ticks": ""
                          }
                        },
                        "type": "scatterpolar"
                      }
                    ],
                    "scatterpolargl": [
                      {
                        "marker": {
                          "colorbar": {
                            "outlinewidth": 0,
                            "ticks": ""
                          }
                        },
                        "type": "scatterpolargl"
                      }
                    ],
                    "scatterternary": [
                      {
                        "marker": {
                          "colorbar": {
                            "outlinewidth": 0,
                            "ticks": ""
                          }
                        },
                        "type": "scatterternary"
                      }
                    ],
                    "surface": [
                      {
                        "colorbar": {
                          "outlinewidth": 0,
                          "ticks": ""
                        },
                        "colorscale": [
                          [
                            0,
                            "#0d0887"
                          ],
                          [
                            0.1111111111111111,
                            "#46039f"
                          ],
                          [
                            0.2222222222222222,
                            "#7201a8"
                          ],
                          [
                            0.3333333333333333,
                            "#9c179e"
                          ],
                          [
                            0.4444444444444444,
                            "#bd3786"
                          ],
                          [
                            0.5555555555555556,
                            "#d8576b"
                          ],
                          [
                            0.6666666666666666,
                            "#ed7953"
                          ],
                          [
                            0.7777777777777778,
                            "#fb9f3a"
                          ],
                          [
                            0.8888888888888888,
                            "#fdca26"
                          ],
                          [
                            1,
                            "#f0f921"
                          ]
                        ],
                        "type": "surface"
                      }
                    ],
                    "table": [
                      {
                        "cells": {
                          "fill": {
                            "color": "#EBF0F8"
                          },
                          "line": {
                            "color": "white"
                          }
                        },
                        "header": {
                          "fill": {
                            "color": "#C8D4E3"
                          },
                          "line": {
                            "color": "white"
                          }
                        },
                        "type": "table"
                      }
                    ]
                  },
                  "layout": {
                    "annotationdefaults": {
                      "arrowcolor": "#2a3f5f",
                      "arrowhead": 0,
                      "arrowwidth": 1
                    },
                    "autotypenumbers": "strict",
                    "coloraxis": {
                      "colorbar": {
                        "outlinewidth": 0,
                        "ticks": ""
                      }
                    },
                    "colorscale": {
                      "diverging": [
                        [
                          0,
                          "#8e0152"
                        ],
                        [
                          0.1,
                          "#c51b7d"
                        ],
                        [
                          0.2,
                          "#de77ae"
                        ],
                        [
                          0.3,
                          "#f1b6da"
                        ],
                        [
                          0.4,
                          "#fde0ef"
                        ],
                        [
                          0.5,
                          "#f7f7f7"
                        ],
                        [
                          0.6,
                          "#e6f5d0"
                        ],
                        [
                          0.7,
                          "#b8e186"
                        ],
                        [
                          0.8,
                          "#7fbc41"
                        ],
                        [
                          0.9,
                          "#4d9221"
                        ],
                        [
                          1,
                          "#276419"
                        ]
                      ],
                      "sequential": [
                        [
                          0,
                          "#0d0887"
                        ],
                        [
                          0.1111111111111111,
                          "#46039f"
                        ],
                        [
                          0.2222222222222222,
                          "#7201a8"
                        ],
                        [
                          0.3333333333333333,
                          "#9c179e"
                        ],
                        [
                          0.4444444444444444,
                          "#bd3786"
                        ],
                        [
                          0.5555555555555556,
                          "#d8576b"
                        ],
                        [
                          0.6666666666666666,
                          "#ed7953"
                        ],
                        [
                          0.7777777777777778,
                          "#fb9f3a"
                        ],
                        [
                          0.8888888888888888,
                          "#fdca26"
                        ],
                        [
                          1,
                          "#f0f921"
                        ]
                      ],
                      "sequentialminus": [
                        [
                          0,
                          "#0d0887"
                        ],
                        [
                          0.1111111111111111,
                          "#46039f"
                        ],
                        [
                          0.2222222222222222,
                          "#7201a8"
                        ],
                        [
                          0.3333333333333333,
                          "#9c179e"
                        ],
                        [
                          0.4444444444444444,
                          "#bd3786"
                        ],
                        [
                          0.5555555555555556,
                          "#d8576b"
                        ],
                        [
                          0.6666666666666666,
                          "#ed7953"
                        ],
                        [
                          0.7777777777777778,
                          "#fb9f3a"
                        ],
                        [
                          0.8888888888888888,
                          "#fdca26"
                        ],
                        [
                          1,
                          "#f0f921"
                        ]
                      ]
                    },
                    "colorway": [
                      "#636efa",
                      "#EF553B",
                      "#00cc96",
                      "#ab63fa",
                      "#FFA15A",
                      "#19d3f3",
                      "#FF6692",
                      "#B6E880",
                      "#FF97FF",
                      "#FECB52"
                    ],
                    "font": {
                      "color": "#2a3f5f"
                    },
                    "geo": {
                      "bgcolor": "white",
                      "lakecolor": "white",
                      "landcolor": "#E5ECF6",
                      "showlakes": true,
                      "showland": true,
                      "subunitcolor": "white"
                    },
                    "hoverlabel": {
                      "align": "left"
                    },
                    "hovermode": "closest",
                    "mapbox": {
                      "style": "light"
                    },
                    "paper_bgcolor": "white",
                    "plot_bgcolor": "#E5ECF6",
                    "polar": {
                      "angularaxis": {
                        "gridcolor": "white",
                        "linecolor": "white",
                        "ticks": ""
                      },
                      "bgcolor": "#E5ECF6",
                      "radialaxis": {
                        "gridcolor": "white",
                        "linecolor": "white",
                        "ticks": ""
                      }
                    },
                    "scene": {
                      "xaxis": {
                        "backgroundcolor": "#E5ECF6",
                        "gridcolor": "white",
                        "gridwidth": 2,
                        "linecolor": "white",
                        "showbackground": true,
                        "ticks": "",
                        "zerolinecolor": "white"
                      },
                      "yaxis": {
                        "backgroundcolor": "#E5ECF6",
                        "gridcolor": "white",
                        "gridwidth": 2,
                        "linecolor": "white",
                        "showbackground": true,
                        "ticks": "",
                        "zerolinecolor": "white"
                      },
                      "zaxis": {
                        "backgroundcolor": "#E5ECF6",
                        "gridcolor": "white",
                        "gridwidth": 2,
                        "linecolor": "white",
                        "showbackground": true,
                        "ticks": "",
                        "zerolinecolor": "white"
                      }
                    },
                    "shapedefaults": {
                      "line": {
                        "color": "#2a3f5f"
                      }
                    },
                    "ternary": {
                      "aaxis": {
                        "gridcolor": "white",
                        "linecolor": "white",
                        "ticks": ""
                      },
                      "baxis": {
                        "gridcolor": "white",
                        "linecolor": "white",
                        "ticks": ""
                      },
                      "bgcolor": "#E5ECF6",
                      "caxis": {
                        "gridcolor": "white",
                        "linecolor": "white",
                        "ticks": ""
                      }
                    },
                    "title": {
                      "x": 0.05
                    },
                    "xaxis": {
                      "automargin": true,
                      "gridcolor": "white",
                      "linecolor": "white",
                      "ticks": "",
                      "title": {
                        "standoff": 15
                      },
                      "zerolinecolor": "white",
                      "zerolinewidth": 2
                    },
                    "yaxis": {
                      "automargin": true,
                      "gridcolor": "white",
                      "linecolor": "white",
                      "ticks": "",
                      "title": {
                        "standoff": 15
                      },
                      "zerolinecolor": "white",
                      "zerolinewidth": 2
                    }
                  }
                },
                "xaxis": {
                  "anchor": "y",
                  "domain": [
                    0,
                    1
                  ],
                  "title": {
                    "text": "x"
                  }
                },
                "yaxis": {
                  "anchor": "x",
                  "domain": [
                    0,
                    1
                  ],
                  "title": {
                    "text": "y"
                  }
                }
              }
            }
          },
          "metadata": {},
          "output_type": "display_data"
        }
      ],
      "source": [
        "# Visualization\n",
        "viz_df = pd.DataFrame({\n",
        "    'gesture_name': df['gesture_name'],\n",
        "    'x': embedding_2d[:, 0],\n",
        "    'y': embedding_2d[:, 1],\n",
        "    'cluster': labels\n",
        "})\n",
        "\n",
        "fig = px.scatter(viz_df, x='x', y='y', color=viz_df['cluster'].astype(str), hover_data=['gesture_name'])\n",
        "fig.show()"
      ]
    }
  ],
  "metadata": {
    "colab": {
      "provenance": []
    },
    "kernelspec": {
      "display_name": "Python 3",
      "language": "python",
      "name": "python3"
    },
    "language_info": {
      "codemirror_mode": {
        "name": "ipython",
        "version": 3
      },
      "file_extension": ".py",
      "mimetype": "text/x-python",
      "name": "python",
      "nbconvert_exporter": "python",
      "pygments_lexer": "ipython3",
      "version": "3.13.3"
    }
  },
  "nbformat": 4,
  "nbformat_minor": 0
}
